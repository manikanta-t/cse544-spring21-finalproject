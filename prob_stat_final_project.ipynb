{
  "nbformat": 4,
  "nbformat_minor": 0,
  "metadata": {
    "colab": {
      "name": "prob-stat-final-project.ipynb",
      "provenance": [],
      "collapsed_sections": [
        "JH96CuawBQ6m",
        "YfTfsoDzL7kE",
        "hS63Sd_iaIGA",
        "t7v2LVYFv6ll",
        "BCLDqk8EwjUi",
        "yyMCqNWbxFbM",
        "zTmxRKzUxKvs",
        "Gu4BEeYfxSXr",
        "z0AWUVazxZ6m",
        "Q-AgjSo9xcn0",
        "THCm3X3Cxhsn",
        "qGLC3G_hyEqU",
        "QB6UcHeTyOWX",
        "aSjJmQAdyRH1",
        "SRtzxteGyUwZ",
        "l1ZTeCi6y00N",
        "MKuG5XS9zCi6",
        "dHinPrcPzEiY",
        "B6v2utZJzJI0",
        "6oGIYI18zN4V",
        "PLshvdMdzWea",
        "3GOQKBqpzYGX",
        "mcIt-8tKzaUn",
        "_mp8WRfCaOKq",
        "TaStlLvUhdH1",
        "GcdiCFRNhUHe",
        "OGhACQj4hG45",
        "GYjzsPyUjtu_",
        "Tbaj1GPflGwu",
        "84teaKpCgJvy",
        "t_Xc67JpEIsZ"
      ],
      "toc_visible": true
    },
    "kernelspec": {
      "name": "python3",
      "display_name": "Python 3"
    },
    "language_info": {
      "name": "python"
    }
  },
  "cells": [
    {
      "cell_type": "code",
      "metadata": {
        "id": "PPIF-IQTDsT8"
      },
      "source": [
        "import pandas as pd\n",
        "import math\n",
        "import matplotlib.pyplot as plt\n",
        "import numpy as np\n",
        "import seaborn as sns\n",
        "import datetime\n",
        "import matplotlib.dates as mdates\n",
        "from scipy.stats import poisson\n",
        "from scipy.stats import geom\n",
        "from scipy.stats import binom\n",
        "import csv"
      ],
      "execution_count": null,
      "outputs": []
    },
    {
      "cell_type": "code",
      "metadata": {
        "id": "r8Z_70QR_Lyd"
      },
      "source": [
        "!cp -r /content/drive/MyDrive/ProbStat_HW/2.csv /content"
      ],
      "execution_count": null,
      "outputs": []
    },
    {
      "cell_type": "markdown",
      "metadata": {
        "id": "JH96CuawBQ6m"
      },
      "source": [
        "# 1. Data pre-processing"
      ]
    },
    {
      "cell_type": "markdown",
      "metadata": {
        "id": "M5tDr2xICp-q"
      },
      "source": [
        "Copy the states data from google Drive"
      ]
    },
    {
      "cell_type": "code",
      "metadata": {
        "colab": {
          "base_uri": "https://localhost:8080/"
        },
        "id": "ZL3aXDciDWEH",
        "outputId": "49d83e13-ce86-4622-825b-d45b43c13852"
      },
      "source": [
        "data = pd.read_csv(\"/content/2.csv\")\n",
        "print(data)"
      ],
      "execution_count": 161,
      "outputs": [
        {
          "output_type": "stream",
          "text": [
            "           Date  AR confirmed  AZ confirmed  AR deaths  AZ deaths\n",
            "0    2020-01-22             0             0          0          0\n",
            "1    2020-01-23             0             0          0          0\n",
            "2    2020-01-24             0             0          0          0\n",
            "3    2020-01-25             0             0          0          0\n",
            "4    2020-01-26             0             1          0          0\n",
            "..          ...           ...           ...        ...        ...\n",
            "433  2021-03-30        330188        841192       5661      16942\n",
            "434  2021-03-31        330401        841884       5669      16968\n",
            "435  2021-04-01        330611        842273       5678      16979\n",
            "436  2021-04-02        330756        843174       5679      16998\n",
            "437  2021-04-03        330972        844328       5681      17005\n",
            "\n",
            "[438 rows x 5 columns]\n"
          ],
          "name": "stdout"
        }
      ]
    },
    {
      "cell_type": "code",
      "metadata": {
        "id": "EMGdTW-LD29Z",
        "colab": {
          "base_uri": "https://localhost:8080/"
        },
        "outputId": "84d16445-bc33-4519-dab3-bca515bd7cf6"
      },
      "source": [
        "if( not data.isnull().values.any()):\n",
        "    print(\"Dataset has no NA values\")\n",
        "else:\n",
        "    print(data)\n",
        "    data.dropna(inplace=True)\n",
        "    print(data)"
      ],
      "execution_count": 162,
      "outputs": [
        {
          "output_type": "stream",
          "text": [
            "Dataset has no NA values\n"
          ],
          "name": "stdout"
        }
      ]
    },
    {
      "cell_type": "code",
      "metadata": {
        "colab": {
          "base_uri": "https://localhost:8080/"
        },
        "id": "9-iG81RDD7Ew",
        "outputId": "665072d9-aab7-4c18-9762-ddb6fad0d080"
      },
      "source": [
        "data[\"cases_ar\"] = data[\"AR confirmed\"].diff()\n",
        "data[\"cases_az\"] = data[\"AZ confirmed\"].diff()\n",
        "data[\"deaths_ar\"] = data[\"AR deaths\"].diff()\n",
        "data[\"deaths_az\"] = data[\"AZ deaths\"].diff()\n",
        "print(data)"
      ],
      "execution_count": 163,
      "outputs": [
        {
          "output_type": "stream",
          "text": [
            "           Date  AR confirmed  AZ confirmed  ...  cases_az  deaths_ar  deaths_az\n",
            "0    2020-01-22             0             0  ...       NaN        NaN        NaN\n",
            "1    2020-01-23             0             0  ...       0.0        0.0        0.0\n",
            "2    2020-01-24             0             0  ...       0.0        0.0        0.0\n",
            "3    2020-01-25             0             0  ...       0.0        0.0        0.0\n",
            "4    2020-01-26             0             1  ...       1.0        0.0        0.0\n",
            "..          ...           ...           ...  ...       ...        ...        ...\n",
            "433  2021-03-30        330188        841192  ...     578.0       12.0       21.0\n",
            "434  2021-03-31        330401        841884  ...     692.0        8.0       26.0\n",
            "435  2021-04-01        330611        842273  ...     389.0        9.0       11.0\n",
            "436  2021-04-02        330756        843174  ...     901.0        1.0       19.0\n",
            "437  2021-04-03        330972        844328  ...    1154.0        2.0        7.0\n",
            "\n",
            "[438 rows x 9 columns]\n"
          ],
          "name": "stdout"
        }
      ]
    },
    {
      "cell_type": "markdown",
      "metadata": {
        "id": "lOEpCrxXEHxi"
      },
      "source": [
        "setting all values at 0th index to 0 as they're NaN otherwise.\n"
      ]
    },
    {
      "cell_type": "code",
      "metadata": {
        "id": "A24zqyCFD2el"
      },
      "source": [
        "data.loc[0, 'cases_ar'] = 0\n",
        "data.loc[0, 'cases_az'] = 0\n",
        "data.loc[0, 'deaths_ar'] = 0\n",
        "data.loc[0, 'deaths_az'] = 0"
      ],
      "execution_count": 164,
      "outputs": []
    },
    {
      "cell_type": "code",
      "metadata": {
        "id": "b8hBEAjVEjol",
        "colab": {
          "base_uri": "https://localhost:8080/"
        },
        "outputId": "8a4cc4c6-5672-41c7-c159-481555b0ef6b"
      },
      "source": [
        "print(data)"
      ],
      "execution_count": 165,
      "outputs": [
        {
          "output_type": "stream",
          "text": [
            "           Date  AR confirmed  AZ confirmed  ...  cases_az  deaths_ar  deaths_az\n",
            "0    2020-01-22             0             0  ...       0.0        0.0        0.0\n",
            "1    2020-01-23             0             0  ...       0.0        0.0        0.0\n",
            "2    2020-01-24             0             0  ...       0.0        0.0        0.0\n",
            "3    2020-01-25             0             0  ...       0.0        0.0        0.0\n",
            "4    2020-01-26             0             1  ...       1.0        0.0        0.0\n",
            "..          ...           ...           ...  ...       ...        ...        ...\n",
            "433  2021-03-30        330188        841192  ...     578.0       12.0       21.0\n",
            "434  2021-03-31        330401        841884  ...     692.0        8.0       26.0\n",
            "435  2021-04-01        330611        842273  ...     389.0        9.0       11.0\n",
            "436  2021-04-02        330756        843174  ...     901.0        1.0       19.0\n",
            "437  2021-04-03        330972        844328  ...    1154.0        2.0        7.0\n",
            "\n",
            "[438 rows x 9 columns]\n"
          ],
          "name": "stdout"
        }
      ]
    },
    {
      "cell_type": "code",
      "metadata": {
        "id": "74Hnc_xVEZ77"
      },
      "source": [
        "def remove_outliers(data, parameters):\n",
        "    preprocessed = pd.DataFrame()\n",
        "    for parameter in parameters:\n",
        "\n",
        "        q1 = data[parameter].quantile(0.25)\n",
        "        q2 = data[parameter].quantile(0.50)\n",
        "        q3 = data[parameter].quantile(0.75)\n",
        "        q4 = data[parameter].quantile(1.00)\n",
        "\n",
        "        print(\"----\",parameter,\"----\")\n",
        "        print(\"q1 is\", q1)\n",
        "        print(\"q2 is\", q2)\n",
        "        print(\"q3 is\", q3)\n",
        "        print(\"q4 is\", q4)\n",
        "\n",
        "        iqr = q3 - q1\n",
        "\n",
        "        print(\"IQR is\", iqr)\n",
        "\n",
        "        tukeys_upper = q3 + (iqr*1.5)\n",
        "        tukeys_lower = q1 - (iqr*1.5)\n",
        "\n",
        "        print(\"Tukey's Upper : \", tukeys_upper)\n",
        "        print(\"Tukey's Lower : \", tukeys_lower)\n",
        "\n",
        "        colData = data[[\"Date\",parameter]]\n",
        "\n",
        "        outliers = colData.loc[ ((colData[parameter] < tukeys_lower) | (colData[parameter] > tukeys_upper) & colData[parameter] != 0 ), ['Date',parameter] ]\n",
        "        outliers.to_csv(\"outliers_\"+parameter+\".csv\")\n",
        "        print(\"number of outliers\", outliers.shape[0])\n",
        "\n",
        "        #filtering out values that are 0 or are >= tukeys lower and <= tukeys upper\n",
        "        preprocessed = colData.loc[ (colData[parameter] == 0) | ((colData[parameter] >= tukeys_lower) & (colData[parameter] <= tukeys_upper)), ['Date',parameter] ]\n",
        "\n",
        "        #replacing negative values with zeroes:\n",
        "        preprocessed.loc[preprocessed[parameter]<0, parameter] = 0\n",
        "        sns.boxplot(y=data[parameter])\n",
        "        plt.show()\n",
        "        print(\"Preprocessed\", parameter ,\"is\")\n",
        "        print(preprocessed)\n",
        "        preprocessed.to_csv(\"processed_\"+parameter+\".csv\")"
      ],
      "execution_count": 166,
      "outputs": []
    },
    {
      "cell_type": "code",
      "metadata": {
        "id": "p8w47DhYFuK6"
      },
      "source": [
        "def plot_data(data, parameters):\n",
        "    for parameter in parameters:\n",
        "        y=[datetime.datetime.strptime(d,'%Y-%m-%d').date() for d in data[\"Date\"]]\n",
        "        x=data[parameter]\n",
        "        plt.ylabel(parameter)\n",
        "        plt.gca().xaxis.set_major_formatter(mdates.DateFormatter('%Y-%m-%d'))\n",
        "        plt.gca().xaxis.set_major_locator(mdates.DayLocator(interval=50))\n",
        "        plt.plot(y,x)\n",
        "        plt.gcf().autofmt_xdate()\n",
        "        plt.show()"
      ],
      "execution_count": 167,
      "outputs": []
    },
    {
      "cell_type": "code",
      "metadata": {
        "colab": {
          "base_uri": "https://localhost:8080/",
          "height": 1000
        },
        "id": "mAqD4iU7Fycn",
        "outputId": "f609cfa5-a542-446d-fc62-ed10760bcee7"
      },
      "source": [
        "cols = [\"cases_ar\",\"cases_az\", \"deaths_ar\", \"deaths_az\" ]\n",
        "remove_outliers(data, cols)"
      ],
      "execution_count": 168,
      "outputs": [
        {
          "output_type": "stream",
          "text": [
            "---- cases_ar ----\n",
            "q1 is 92.5\n",
            "q2 is 534.0\n",
            "q3 is 1016.5\n",
            "q4 is 4304.0\n",
            "IQR is 924.0\n",
            "Tukey's Upper :  2402.5\n",
            "Tukey's Lower :  -1293.5\n",
            "number of outliers 30\n"
          ],
          "name": "stdout"
        },
        {
          "output_type": "display_data",
          "data": {
            "image/png": "[encoded data removed]",
            "text/plain": [
              "<Figure size 432x288 with 1 Axes>"
            ]
          },
          "metadata": {
            "tags": [],
            "needs_background": "light"
          }
        },
        {
          "output_type": "stream",
          "text": [
            "Preprocessed cases_ar is\n",
            "           Date  cases_ar\n",
            "0    2020-01-22       0.0\n",
            "1    2020-01-23       0.0\n",
            "2    2020-01-24       0.0\n",
            "3    2020-01-25       0.0\n",
            "4    2020-01-26       0.0\n",
            "..          ...       ...\n",
            "433  2021-03-30     175.0\n",
            "434  2021-03-31     213.0\n",
            "435  2021-04-01     210.0\n",
            "436  2021-04-02     145.0\n",
            "437  2021-04-03     216.0\n",
            "\n",
            "[408 rows x 2 columns]\n",
            "---- cases_az ----\n",
            "q1 is 208.0\n",
            "q2 is 795.0\n",
            "q3 is 2554.25\n",
            "q4 is 50826.0\n",
            "IQR is 2346.25\n",
            "Tukey's Upper :  6073.625\n",
            "Tukey's Lower :  -3311.375\n",
            "number of outliers 29\n"
          ],
          "name": "stdout"
        },
        {
          "output_type": "display_data",
          "data": {
            "image/png": "[encoded data removed]",
            "text/plain": [
              "<Figure size 432x288 with 1 Axes>"
            ]
          },
          "metadata": {
            "tags": [],
            "needs_background": "light"
          }
        },
        {
          "output_type": "stream",
          "text": [
            "Preprocessed cases_az is\n",
            "           Date  cases_az\n",
            "0    2020-01-22       0.0\n",
            "1    2020-01-23       0.0\n",
            "2    2020-01-24       0.0\n",
            "3    2020-01-25       0.0\n",
            "4    2020-01-26       1.0\n",
            "..          ...       ...\n",
            "433  2021-03-30     578.0\n",
            "434  2021-03-31     692.0\n",
            "435  2021-04-01     389.0\n",
            "436  2021-04-02     901.0\n",
            "437  2021-04-03    1154.0\n",
            "\n",
            "[409 rows x 2 columns]\n",
            "---- deaths_ar ----\n",
            "q1 is 1.0\n",
            "q2 is 8.0\n",
            "q3 is 18.75\n",
            "q4 is 147.0\n",
            "IQR is 17.75\n",
            "Tukey's Upper :  45.375\n",
            "Tukey's Lower :  -25.625\n",
            "number of outliers 18\n"
          ],
          "name": "stdout"
        },
        {
          "output_type": "display_data",
          "data": {
            "image/png": "[encoded data removed]",
            "text/plain": [
              "<Figure size 432x288 with 1 Axes>"
            ]
          },
          "metadata": {
            "tags": [],
            "needs_background": "light"
          }
        },
        {
          "output_type": "stream",
          "text": [
            "Preprocessed deaths_ar is\n",
            "           Date  deaths_ar\n",
            "0    2020-01-22        0.0\n",
            "1    2020-01-23        0.0\n",
            "2    2020-01-24        0.0\n",
            "3    2020-01-25        0.0\n",
            "4    2020-01-26        0.0\n",
            "..          ...        ...\n",
            "433  2021-03-30       12.0\n",
            "434  2021-03-31        8.0\n",
            "435  2021-04-01        9.0\n",
            "436  2021-04-02        1.0\n",
            "437  2021-04-03        2.0\n",
            "\n",
            "[420 rows x 2 columns]\n",
            "---- deaths_az ----\n",
            "q1 is 1.0\n",
            "q2 is 16.0\n",
            "q3 is 44.75\n",
            "q4 is 498.0\n",
            "IQR is 43.75\n",
            "Tukey's Upper :  110.375\n",
            "Tukey's Lower :  -64.625\n",
            "number of outliers 44\n"
          ],
          "name": "stdout"
        },
        {
          "output_type": "display_data",
          "data": {
            "image/png": "[encoded data removed]",
            "text/plain": [
              "<Figure size 432x288 with 1 Axes>"
            ]
          },
          "metadata": {
            "tags": [],
            "needs_background": "light"
          }
        },
        {
          "output_type": "stream",
          "text": [
            "Preprocessed deaths_az is\n",
            "           Date  deaths_az\n",
            "0    2020-01-22        0.0\n",
            "1    2020-01-23        0.0\n",
            "2    2020-01-24        0.0\n",
            "3    2020-01-25        0.0\n",
            "4    2020-01-26        0.0\n",
            "..          ...        ...\n",
            "433  2021-03-30       21.0\n",
            "434  2021-03-31       26.0\n",
            "435  2021-04-01       11.0\n",
            "436  2021-04-02       19.0\n",
            "437  2021-04-03        7.0\n",
            "\n",
            "[394 rows x 2 columns]\n"
          ],
          "name": "stdout"
        }
      ]
    },
    {
      "cell_type": "code",
      "metadata": {
        "colab": {
          "base_uri": "https://localhost:8080/",
          "height": 1000
        },
        "id": "7GxGxepQF7hj",
        "outputId": "d5e60fad-a5d0-4f71-8465-fa01c1d4ceb0"
      },
      "source": [
        "plot_data(data, cols)"
      ],
      "execution_count": 169,
      "outputs": [
        {
          "output_type": "display_data",
          "data": {
            "image/png": "[encoded data removed]",
            "text/plain": [
              "<Figure size 432x288 with 1 Axes>"
            ]
          },
          "metadata": {
            "tags": [],
            "needs_background": "light"
          }
        },
        {
          "output_type": "display_data",
          "data": {
            "image/png": "[encoded data removed]",
            "text/plain": [
              "<Figure size 432x288 with 1 Axes>"
            ]
          },
          "metadata": {
            "tags": [],
            "needs_background": "light"
          }
        },
        {
          "output_type": "display_data",
          "data": {
            "image/png": "[encoded data removed]",
            "text/plain": [
              "<Figure size 432x288 with 1 Axes>"
            ]
          },
          "metadata": {
            "tags": [],
            "needs_background": "light"
          }
        },
        {
          "output_type": "display_data",
          "data": {
            "image/png": "[encoded data removed]",
            "text/plain": [
              "<Figure size 432x288 with 1 Axes>"
            ]
          },
          "metadata": {
            "tags": [],
            "needs_background": "light"
          }
        }
      ]
    },
    {
      "cell_type": "markdown",
      "metadata": {
        "id": "0t1uHLq_L2tQ"
      },
      "source": [
        "# Question 2"
      ]
    },
    {
      "cell_type": "markdown",
      "metadata": {
        "id": "YfTfsoDzL7kE"
      },
      "source": [
        "## Inference 1"
      ]
    },
    {
      "cell_type": "markdown",
      "metadata": {
        "id": "3ejnREA0iXTY"
      },
      "source": [
        "-> Helper Functions:"
      ]
    },
    {
      "cell_type": "code",
      "metadata": {
        "id": "sqNNKVwJI_Ln"
      },
      "source": [
        "def linear_regression(x, y):\n",
        "    xt = np.transpose(x)\n",
        "    xt_x = np.matmul(xt, x)\n",
        "    xt_x_inverse = np.linalg.pinv(xt_x)\n",
        "    xt_x_inverse_xt = np.matmul(xt_x_inverse, xt)\n",
        "    b = np.matmul(xt_x_inverse_xt, y)\n",
        "    return b\n",
        "\n",
        "\n",
        "def calculate_MAPE(y1, y2):\n",
        "    y1_modified = np.array([])\n",
        "    y2_modified = np.array([])\n",
        "    for i in range(len(y1)):\n",
        "        if y1[i] != 0:\n",
        "            y1_modified = np.append(y1_modified, y1[i])\n",
        "            y2_modified = np.append(y2_modified, y2[i])\n",
        "    return np.sum((np.abs(y1_modified - y2_modified)) / y1_modified) * (100 / len(y1_modified))\n",
        "\n",
        "\n",
        "def calculate_MSE(y1, y2):\n",
        "    return np.sum((y1 - y2) * (y1 - y2)) / len(y1)\n",
        "\n",
        "def prepare_table(x, t):\n",
        "    x = np.atleast_2d(x)\n",
        "    for i in range(t):\n",
        "        x = np.insert(x, i + 1, 0, axis=1)\n",
        "        x[i + 1:, i + 1] = x[:-(i + 1), 0]\n",
        "    return x[t:]"
      ],
      "execution_count": 170,
      "outputs": []
    },
    {
      "cell_type": "code",
      "metadata": {
        "id": "9i1fmbi5MJDU"
      },
      "source": [
        "df = pd.read_csv('processed_cases_ar.csv')\n",
        "data = df.to_numpy()\n",
        "data = data[192:220, :]"
      ],
      "execution_count": 171,
      "outputs": []
    },
    {
      "cell_type": "code",
      "metadata": {
        "colab": {
          "base_uri": "https://localhost:8080/"
        },
        "id": "BH8jEbxAWUZX",
        "outputId": "3699c495-98c3-4fff-efc6-8cb52c9e1c0f"
      },
      "source": [
        "data"
      ],
      "execution_count": 172,
      "outputs": [
        {
          "output_type": "execute_result",
          "data": {
            "text/plain": [
              "array([[192, '2020-08-01', 662.0],\n",
              "       [193, '2020-08-02', 537.0],\n",
              "       [194, '2020-08-03', 887.0],\n",
              "       [195, '2020-08-04', 784.0],\n",
              "       [196, '2020-08-05', 912.0],\n",
              "       [197, '2020-08-06', 735.0],\n",
              "       [198, '2020-08-07', 1011.0],\n",
              "       [199, '2020-08-08', 772.0],\n",
              "       [200, '2020-08-09', 572.0],\n",
              "       [201, '2020-08-10', 645.0],\n",
              "       [202, '2020-08-11', 383.0],\n",
              "       [203, '2020-08-12', 703.0],\n",
              "       [204, '2020-08-13', 652.0],\n",
              "       [205, '2020-08-14', 626.0],\n",
              "       [206, '2020-08-15', 0.0],\n",
              "       [207, '2020-08-16', 673.0],\n",
              "       [208, '2020-08-17', 412.0],\n",
              "       [209, '2020-08-18', 410.0],\n",
              "       [210, '2020-08-19', 729.0],\n",
              "       [211, '2020-08-20', 549.0],\n",
              "       [212, '2020-08-21', 887.0],\n",
              "       [213, '2020-08-22', 547.0],\n",
              "       [214, '2020-08-23', 375.0],\n",
              "       [215, '2020-08-24', 320.0],\n",
              "       [216, '2020-08-25', 480.0],\n",
              "       [217, '2020-08-26', 649.0],\n",
              "       [218, '2020-08-27', 722.0],\n",
              "       [219, '2020-08-28', 838.0]], dtype=object)"
            ]
          },
          "metadata": {
            "tags": []
          },
          "execution_count": 172
        }
      ]
    },
    {
      "cell_type": "markdown",
      "metadata": {
        "id": "Lq4KpfRHijn0"
      },
      "source": [
        "### AR_Cases: AR3 and EWMA with alpha = 0.5 \n",
        "\n",
        "\n",
        "---\n"
      ]
    },
    {
      "cell_type": "code",
      "metadata": {
        "colab": {
          "base_uri": "https://localhost:8080/"
        },
        "id": "YgiZzDRTMPUy",
        "outputId": "0c4c9753-d83a-44f3-83e8-8e1e87747ceb"
      },
      "source": [
        "data = data[:, 2:].astype(np.float64)\n",
        "x = prepare_table(data, 3)\n",
        "y = data[3:]\n",
        "x = np.insert(x, x.shape[1], 1, axis=1)\n",
        "y_actual = np.array([])\n",
        "y_predicted = np.array([])\n",
        "y_predicted_ewma = np.array([])\n",
        "\n",
        "for j in range(7):\n",
        "    x1 = x[:-(7 - j)]\n",
        "    y1 = y[:-(7 - j)]\n",
        "\n",
        "    # Auto Regression\n",
        "    b = linear_regression(x1, y1)\n",
        "    y_actual = np.append(y_actual, y[-(7 - j)])\n",
        "    y_predicted = np.append(y_predicted, np.matmul(np.transpose(x[-(7 - j)]), b))\n",
        "\n",
        "    # EWMA\n",
        "    predicted_y = 0\n",
        "    multiplier = 0.5\n",
        "    for k in range(len(x1)):\n",
        "        predicted_y += multiplier * x1[-(1 + k)][0]\n",
        "        multiplier *= (1 - multiplier)\n",
        "    y_predicted_ewma = np.append(y_predicted_ewma, predicted_y)\n",
        "\n",
        "MAPE_error_ar = calculate_MAPE(y_actual, y_predicted)\n",
        "MSE_error_ar = calculate_MSE(y_actual, y_predicted)\n",
        "print(MAPE_error_ar)\n",
        "print(MSE_error_ar)\n",
        "MAPE_error_ewma = calculate_MAPE(y_actual, y_predicted_ewma)\n",
        "MSE_error_ewma = calculate_MSE(y_actual, y_predicted_ewma)\n",
        "print(MAPE_error_ewma)\n",
        "print(MSE_error_ewma)"
      ],
      "execution_count": 173,
      "outputs": [
        {
          "output_type": "stream",
          "text": [
            "2.115513584788008e-13\n",
            "2.361526793427059e-24\n",
            "154.18028468246587\n",
            "565521.4493848376\n"
          ],
          "name": "stdout"
        }
      ]
    },
    {
      "cell_type": "markdown",
      "metadata": {
        "id": "w4Hjc2CijF7_"
      },
      "source": [
        "### AR_Cases: AR5 and EWMA with alpha = 0.8 \n",
        "\n",
        "---\n",
        "\n"
      ]
    },
    {
      "cell_type": "code",
      "metadata": {
        "colab": {
          "base_uri": "https://localhost:8080/"
        },
        "id": "xvGC5At5PMKL",
        "outputId": "3cba132e-d69f-4b43-9328-fbf5d54435bb"
      },
      "source": [
        "x = prepare_table(data, 5)\n",
        "y = data[5:]\n",
        "x = np.insert(x, x.shape[1], 1, axis=1)\n",
        "y_actual = np.array([])\n",
        "y_predicted = np.array([])\n",
        "y_predicted_ewma = np.array([])\n",
        "\n",
        "for j in range(7):\n",
        "    x1 = x[:-(7 - j)]\n",
        "    y1 = y[:-(7 - j)]\n",
        "\n",
        "    # Auto Regression\n",
        "    b = linear_regression(x1, y1)\n",
        "    y_actual = np.append(y_actual, y[-(7 - j)])\n",
        "    y_predicted = np.append(y_predicted, np.matmul(np.transpose(x[-(7 - j)]), b))\n",
        "\n",
        "    # EWMA\n",
        "    predicted_y = 0\n",
        "    multiplier = 0.8\n",
        "    for k in range(len(x1)):\n",
        "        predicted_y += multiplier * x1[-(1 + k)][0]\n",
        "        multiplier *= (1 - multiplier)\n",
        "    y_predicted_ewma = np.append(y_predicted_ewma, predicted_y)\n",
        "\n",
        "MAPE_error_ar = calculate_MAPE(y_actual, y_predicted)\n",
        "MSE_error_ar = calculate_MSE(y_actual, y_predicted)\n",
        "print(MAPE_error_ar)\n",
        "print(MSE_error_ar)\n",
        "MAPE_error_ewma = calculate_MAPE(y_actual, y_predicted_ewma)\n",
        "MSE_error_ewma = calculate_MSE(y_actual, y_predicted_ewma)\n",
        "print(MAPE_error_ewma)\n",
        "print(MSE_error_ewma)"
      ],
      "execution_count": 174,
      "outputs": [
        {
          "output_type": "stream",
          "text": [
            "2.2272001690896053e-13\n",
            "2.446922113361384e-24\n",
            "136.06646430852174\n",
            "454720.72314023116\n"
          ],
          "name": "stdout"
        }
      ]
    },
    {
      "cell_type": "code",
      "metadata": {
        "id": "_xrCdg_7UGs0"
      },
      "source": [
        "df = pd.read_csv('processed_cases_az.csv')\n",
        "data = df.to_numpy()\n",
        "data = data[192:220, :]"
      ],
      "execution_count": 175,
      "outputs": []
    },
    {
      "cell_type": "code",
      "metadata": {
        "colab": {
          "base_uri": "https://localhost:8080/"
        },
        "id": "PPWeGFIsUOhi",
        "outputId": "123f13f6-c9dd-40c0-94e2-73bfc19b1a1a"
      },
      "source": [
        "data"
      ],
      "execution_count": 176,
      "outputs": [
        {
          "output_type": "execute_result",
          "data": {
            "text/plain": [
              "array([[192, '2020-08-01', 2992.0],\n",
              "       [193, '2020-08-02', 1465.0],\n",
              "       [194, '2020-08-03', 1030.0],\n",
              "       [195, '2020-08-04', 1008.0],\n",
              "       [196, '2020-08-05', 1698.0],\n",
              "       [197, '2020-08-06', 1444.0],\n",
              "       [198, '2020-08-07', 1406.0],\n",
              "       [199, '2020-08-08', 1054.0],\n",
              "       [200, '2020-08-09', 816.0],\n",
              "       [201, '2020-08-10', 600.0],\n",
              "       [202, '2020-08-11', 1214.0],\n",
              "       [203, '2020-08-12', 706.0],\n",
              "       [204, '2020-08-13', 1351.0],\n",
              "       [205, '2020-08-14', 927.0],\n",
              "       [206, '2020-08-15', 933.0],\n",
              "       [207, '2020-08-16', 883.0],\n",
              "       [208, '2020-08-17', 468.0],\n",
              "       [209, '2020-08-18', 915.0],\n",
              "       [210, '2020-08-19', 637.0],\n",
              "       [211, '2020-08-20', 723.0],\n",
              "       [212, '2020-08-21', 619.0],\n",
              "       [213, '2020-08-22', 996.0],\n",
              "       [214, '2020-08-23', 208.0],\n",
              "       [215, '2020-08-24', 310.0],\n",
              "       [216, '2020-08-25', 860.0],\n",
              "       [217, '2020-08-26', 186.0],\n",
              "       [218, '2020-08-27', 680.0],\n",
              "       [219, '2020-08-28', 519.0]], dtype=object)"
            ]
          },
          "metadata": {
            "tags": []
          },
          "execution_count": 176
        }
      ]
    },
    {
      "cell_type": "markdown",
      "metadata": {
        "id": "MIO3suqejZY_"
      },
      "source": [
        "### AZ_Cases: AR3 and EWMA with alpha = 0.5\n",
        "\n",
        "---\n",
        "\n"
      ]
    },
    {
      "cell_type": "code",
      "metadata": {
        "colab": {
          "base_uri": "https://localhost:8080/"
        },
        "id": "AhSLAhxYUuwn",
        "outputId": "a6741dfb-e9c0-4c67-9ca0-58b68baf9d9b"
      },
      "source": [
        "data = data[:, 2:].astype(np.float64)\n",
        "x = prepare_table(data, 3)\n",
        "y = data[3:]\n",
        "x = np.insert(x, x.shape[1], 1, axis=1)\n",
        "y_actual = np.array([])\n",
        "y_predicted = np.array([])\n",
        "y_predicted_ewma = np.array([])\n",
        "\n",
        "for j in range(7):\n",
        "    x1 = x[:-(7 - j)]\n",
        "    y1 = y[:-(7 - j)]\n",
        "\n",
        "    # Auto Regression\n",
        "    b = linear_regression(x1, y1)\n",
        "    y_actual = np.append(y_actual, y[-(7 - j)])\n",
        "    y_predicted = np.append(y_predicted, np.matmul(np.transpose(x[-(7 - j)]), b))\n",
        "\n",
        "    # EWMA\n",
        "    predicted_y = 0\n",
        "    multiplier = 0.5\n",
        "    for k in range(len(x1)):\n",
        "        predicted_y += multiplier * x1[-(1 + k)][0]\n",
        "        multiplier *= (1 - multiplier)\n",
        "    y_predicted_ewma = np.append(y_predicted_ewma, predicted_y)\n",
        "\n",
        "MAPE_error_ar = calculate_MAPE(y_actual, y_predicted)\n",
        "MSE_error_ar = calculate_MSE(y_actual, y_predicted)\n",
        "print(MAPE_error_ar)\n",
        "print(MSE_error_ar)\n",
        "MAPE_error_ewma = calculate_MAPE(y_actual, y_predicted_ewma)\n",
        "MSE_error_ewma = calculate_MSE(y_actual, y_predicted_ewma)\n",
        "print(MAPE_error_ewma)\n",
        "print(MSE_error_ewma)"
      ],
      "execution_count": 177,
      "outputs": [
        {
          "output_type": "stream",
          "text": [
            "2.6336862378883687e-13\n",
            "1.6415519271159066e-24\n",
            "372.5972205567083\n",
            "1472736.3560948467\n"
          ],
          "name": "stdout"
        }
      ]
    },
    {
      "cell_type": "markdown",
      "metadata": {
        "id": "vp_WLx3QjenC"
      },
      "source": [
        "### AZ_Cases: AR5 and EWMA with alpha = 0.8 \n",
        "\n",
        "---\n"
      ]
    },
    {
      "cell_type": "code",
      "metadata": {
        "colab": {
          "base_uri": "https://localhost:8080/"
        },
        "id": "DLzTG4k6X83C",
        "outputId": "566ca122-60fa-40a4-97ea-d082f81d6eb4"
      },
      "source": [
        "x = prepare_table(data, 5)\n",
        "y = data[5:]\n",
        "x = np.insert(x, x.shape[1], 1, axis=1)\n",
        "y_actual = np.array([])\n",
        "y_predicted = np.array([])\n",
        "y_predicted_ewma = np.array([])\n",
        "\n",
        "for j in range(7):\n",
        "    x1 = x[:-(7 - j)]\n",
        "    y1 = y[:-(7 - j)]\n",
        "\n",
        "    # Auto Regression\n",
        "    b = linear_regression(x1, y1)\n",
        "    y_actual = np.append(y_actual, y[-(7 - j)])\n",
        "    y_predicted = np.append(y_predicted, np.matmul(np.transpose(x[-(7 - j)]), b))\n",
        "\n",
        "    # EWMA\n",
        "    predicted_y = 0\n",
        "    multiplier = 0.8\n",
        "    for k in range(len(x1)):\n",
        "        predicted_y += multiplier * x1[-(1 + k)][0]\n",
        "        multiplier *= (1 - multiplier)\n",
        "    y_predicted_ewma = np.append(y_predicted_ewma, predicted_y)\n",
        "\n",
        "MAPE_error_ar = calculate_MAPE(y_actual, y_predicted)\n",
        "MSE_error_ar = calculate_MSE(y_actual, y_predicted)\n",
        "print(MAPE_error_ar)\n",
        "print(MSE_error_ar)\n",
        "MAPE_error_ewma = calculate_MAPE(y_actual, y_predicted_ewma)\n",
        "MSE_error_ewma = calculate_MSE(y_actual, y_predicted_ewma)\n",
        "print(MAPE_error_ewma)\n",
        "print(MSE_error_ewma)"
      ],
      "execution_count": 178,
      "outputs": [
        {
          "output_type": "stream",
          "text": [
            "1.1438829752269654e-12\n",
            "1.5568836213918334e-23\n",
            "336.03397414319295\n",
            "1164369.2151349573\n"
          ],
          "name": "stdout"
        }
      ]
    },
    {
      "cell_type": "code",
      "metadata": {
        "id": "FfZbvmSoX-Nw"
      },
      "source": [
        "df = pd.read_csv('processed_deaths_ar.csv')\n",
        "data = df.to_numpy()\n",
        "data = data[192:220, :]"
      ],
      "execution_count": 179,
      "outputs": []
    },
    {
      "cell_type": "code",
      "metadata": {
        "colab": {
          "base_uri": "https://localhost:8080/"
        },
        "id": "cVu5v1UsYIa0",
        "outputId": "170cb37b-9172-4fa9-80f8-dd0949b38c80"
      },
      "source": [
        "data"
      ],
      "execution_count": 180,
      "outputs": [
        {
          "output_type": "execute_result",
          "data": {
            "text/plain": [
              "array([[192, '2020-08-01', 5.0],\n",
              "       [193, '2020-08-02', 3.0],\n",
              "       [194, '2020-08-03', 14.0],\n",
              "       [195, '2020-08-04', 15.0],\n",
              "       [196, '2020-08-05', 18.0],\n",
              "       [197, '2020-08-06', 7.0],\n",
              "       [198, '2020-08-07', 6.0],\n",
              "       [199, '2020-08-08', 14.0],\n",
              "       [200, '2020-08-09', 9.0],\n",
              "       [201, '2020-08-10', 11.0],\n",
              "       [202, '2020-08-11', 11.0],\n",
              "       [203, '2020-08-12', 7.0],\n",
              "       [204, '2020-08-13', 9.0],\n",
              "       [205, '2020-08-14', 5.0],\n",
              "       [206, '2020-08-15', 13.0],\n",
              "       [207, '2020-08-16', 0.0],\n",
              "       [208, '2020-08-17', 4.0],\n",
              "       [209, '2020-08-18', 16.0],\n",
              "       [210, '2020-08-19', 12.0],\n",
              "       [211, '2020-08-20', 10.0],\n",
              "       [212, '2020-08-21', 22.0],\n",
              "       [213, '2020-08-22', 11.0],\n",
              "       [214, '2020-08-23', 13.0],\n",
              "       [215, '2020-08-24', 9.0],\n",
              "       [216, '2020-08-25', 15.0],\n",
              "       [217, '2020-08-26', 21.0],\n",
              "       [218, '2020-08-27', 7.0],\n",
              "       [219, '2020-08-28', 17.0]], dtype=object)"
            ]
          },
          "metadata": {
            "tags": []
          },
          "execution_count": 180
        }
      ]
    },
    {
      "cell_type": "markdown",
      "metadata": {
        "id": "JJPo0MdHjiuW"
      },
      "source": [
        "### AR_Deaths: AR3 and EWMA with alpha = 0.5 \n",
        "\n",
        "---"
      ]
    },
    {
      "cell_type": "code",
      "metadata": {
        "colab": {
          "base_uri": "https://localhost:8080/"
        },
        "id": "gfUIMl9cYQik",
        "outputId": "80c13eb0-0522-4265-c816-366ef95c2212"
      },
      "source": [
        "data = data[:, 2:].astype(np.float64)\n",
        "x = prepare_table(data, 3)\n",
        "y = data[3:]\n",
        "x = np.insert(x, x.shape[1], 1, axis=1)\n",
        "y_actual = np.array([])\n",
        "y_predicted = np.array([])\n",
        "y_predicted_ewma = np.array([])\n",
        "\n",
        "for j in range(7):\n",
        "    x1 = x[:-(7 - j)]\n",
        "    y1 = y[:-(7 - j)]\n",
        "\n",
        "    # Auto Regression\n",
        "    b = linear_regression(x1, y1)\n",
        "    y_actual = np.append(y_actual, y[-(7 - j)])\n",
        "    y_predicted = np.append(y_predicted, np.matmul(np.transpose(x[-(7 - j)]), b))\n",
        "\n",
        "    # EWMA\n",
        "    predicted_y = 0\n",
        "    multiplier = 0.5\n",
        "    for k in range(len(x1)):\n",
        "        predicted_y += multiplier * x1[-(1 + k)][0]\n",
        "        multiplier *= (1 - multiplier)\n",
        "    y_predicted_ewma = np.append(y_predicted_ewma, predicted_y)\n",
        "\n",
        "MAPE_error_ar = calculate_MAPE(y_actual, y_predicted)\n",
        "MSE_error_ar = calculate_MSE(y_actual, y_predicted)\n",
        "print(MAPE_error_ar)\n",
        "print(MSE_error_ar)\n",
        "MAPE_error_ewma = calculate_MAPE(y_actual, y_predicted_ewma)\n",
        "MSE_error_ewma = calculate_MSE(y_actual, y_predicted_ewma)\n",
        "print(MAPE_error_ewma)\n",
        "print(MSE_error_ewma)"
      ],
      "execution_count": 181,
      "outputs": [
        {
          "output_type": "stream",
          "text": [
            "1.402677370210973e-13\n",
            "5.212116695210256e-28\n",
            "131.0793234496849\n",
            "212.04056998621758\n"
          ],
          "name": "stdout"
        }
      ]
    },
    {
      "cell_type": "markdown",
      "metadata": {
        "id": "hvvZ_MYdjo0K"
      },
      "source": [
        "### AR_Deaths: AR5 and EWMA with alpha = 0.8 \n",
        "\n",
        "---\n"
      ]
    },
    {
      "cell_type": "code",
      "metadata": {
        "colab": {
          "base_uri": "https://localhost:8080/"
        },
        "id": "GRwZzYr6YTjo",
        "outputId": "29654457-33c2-4214-ba31-c5a6ff927438"
      },
      "source": [
        "x = prepare_table(data, 5)\n",
        "y = data[5:]\n",
        "x = np.insert(x, x.shape[1], 1, axis=1)\n",
        "y_actual = np.array([])\n",
        "y_predicted = np.array([])\n",
        "y_predicted_ewma = np.array([])\n",
        "\n",
        "for j in range(7):\n",
        "    x1 = x[:-(7 - j)]\n",
        "    y1 = y[:-(7 - j)]\n",
        "\n",
        "    # Auto Regression\n",
        "    b = linear_regression(x1, y1)\n",
        "    y_actual = np.append(y_actual, y[-(7 - j)])\n",
        "    y_predicted = np.append(y_predicted, np.matmul(np.transpose(x[-(7 - j)]), b))\n",
        "\n",
        "    # EWMA\n",
        "    predicted_y = 0\n",
        "    multiplier = 0.8\n",
        "    for k in range(len(x1)):\n",
        "        predicted_y += multiplier * x1[-(1 + k)][0]\n",
        "        multiplier *= (1 - multiplier)\n",
        "    y_predicted_ewma = np.append(y_predicted_ewma, predicted_y)\n",
        "\n",
        "MAPE_error_ar = calculate_MAPE(y_actual, y_predicted)\n",
        "MSE_error_ar = calculate_MSE(y_actual, y_predicted)\n",
        "print(MAPE_error_ar)\n",
        "print(MSE_error_ar)\n",
        "MAPE_error_ewma = calculate_MAPE(y_actual, y_predicted_ewma)\n",
        "MSE_error_ewma = calculate_MSE(y_actual, y_predicted_ewma)\n",
        "print(MAPE_error_ewma)\n",
        "print(MSE_error_ewma)"
      ],
      "execution_count": 182,
      "outputs": [
        {
          "output_type": "stream",
          "text": [
            "4.0310517462845836e-13\n",
            "2.2350683333211895e-27\n",
            "125.42159183050956\n",
            "201.16734370022036\n"
          ],
          "name": "stdout"
        }
      ]
    },
    {
      "cell_type": "code",
      "metadata": {
        "id": "xTSrBrIFYWTs"
      },
      "source": [
        "df = pd.read_csv('processed_deaths_az.csv')\n",
        "data = df.to_numpy()\n",
        "data = data[187:214, :]"
      ],
      "execution_count": 183,
      "outputs": []
    },
    {
      "cell_type": "code",
      "metadata": {
        "colab": {
          "base_uri": "https://localhost:8080/"
        },
        "id": "c7f4HWXyYZ4o",
        "outputId": "4a51a427-b7f0-4834-d159-00fdc6952d98"
      },
      "source": [
        "data"
      ],
      "execution_count": 184,
      "outputs": [
        {
          "output_type": "execute_result",
          "data": {
            "text/plain": [
              "array([[192, '2020-08-01', 53.0],\n",
              "       [193, '2020-08-02', 18.0],\n",
              "       [194, '2020-08-03', 14.0],\n",
              "       [195, '2020-08-04', 66.0],\n",
              "       [196, '2020-08-05', 87.0],\n",
              "       [197, '2020-08-06', 70.0],\n",
              "       [198, '2020-08-07', 79.0],\n",
              "       [199, '2020-08-08', 56.0],\n",
              "       [200, '2020-08-09', 13.0],\n",
              "       [201, '2020-08-10', 4.0],\n",
              "       [202, '2020-08-11', 45.0],\n",
              "       [204, '2020-08-13', 36.0],\n",
              "       [205, '2020-08-14', 40.0],\n",
              "       [206, '2020-08-15', 69.0],\n",
              "       [207, '2020-08-16', 14.0],\n",
              "       [208, '2020-08-17', 0.0],\n",
              "       [209, '2020-08-18', 23.0],\n",
              "       [210, '2020-08-19', 105.0],\n",
              "       [211, '2020-08-20', 50.0],\n",
              "       [212, '2020-08-21', 4.0],\n",
              "       [213, '2020-08-22', 68.0],\n",
              "       [214, '2020-08-23', 15.0],\n",
              "       [215, '2020-08-24', 0.0],\n",
              "       [216, '2020-08-25', 21.0],\n",
              "       [217, '2020-08-26', 104.0],\n",
              "       [218, '2020-08-27', 33.0],\n",
              "       [219, '2020-08-28', 49.0]], dtype=object)"
            ]
          },
          "metadata": {
            "tags": []
          },
          "execution_count": 184
        }
      ]
    },
    {
      "cell_type": "markdown",
      "metadata": {
        "id": "GXfvx_Avj4kf"
      },
      "source": [
        "### AZ_Deaths: AR3 and EWMA with alpha = 0.5 \n",
        "\n",
        "---\n"
      ]
    },
    {
      "cell_type": "code",
      "metadata": {
        "colab": {
          "base_uri": "https://localhost:8080/"
        },
        "id": "mj8qj7KOYq2Z",
        "outputId": "0243827c-c40b-43bf-bb80-1e3bd957dd56"
      },
      "source": [
        "data = data[:, 2:].astype(np.float64)\n",
        "x = prepare_table(data, 3)\n",
        "y = data[3:]\n",
        "x = np.insert(x, x.shape[1], 1, axis=1)\n",
        "y_actual = np.array([])\n",
        "y_predicted = np.array([])\n",
        "y_predicted_ewma = np.array([])\n",
        "\n",
        "for j in range(7):\n",
        "    x1 = x[:-(7 - j)]\n",
        "    y1 = y[:-(7 - j)]\n",
        "\n",
        "    # Auto Regression\n",
        "    b = linear_regression(x1, y1)\n",
        "    y_actual = np.append(y_actual, y[-(7 - j)])\n",
        "    y_predicted = np.append(y_predicted, np.matmul(np.transpose(x[-(7 - j)]), b))\n",
        "\n",
        "    # EWMA\n",
        "    predicted_y = 0\n",
        "    multiplier = 0.5\n",
        "    for k in range(len(x1)):\n",
        "        predicted_y += multiplier * x1[-(1 + k)][0]\n",
        "        multiplier *= (1 - multiplier)\n",
        "    y_predicted_ewma = np.append(y_predicted_ewma, predicted_y)\n",
        "\n",
        "MAPE_error_ar = calculate_MAPE(y_actual, y_predicted)\n",
        "MSE_error_ar = calculate_MSE(y_actual, y_predicted)\n",
        "print(MAPE_error_ar)\n",
        "print(MSE_error_ar)\n",
        "MAPE_error_ewma = calculate_MAPE(y_actual, y_predicted_ewma)\n",
        "MSE_error_ewma = calculate_MSE(y_actual, y_predicted_ewma)\n",
        "print(MAPE_error_ewma)\n",
        "print(MSE_error_ewma)"
      ],
      "execution_count": 185,
      "outputs": [
        {
          "output_type": "stream",
          "text": [
            "1.0977711653367589e-13\n",
            "6.623533051776912e-27\n",
            "196.14259432433573\n",
            "3734.8918130018837\n"
          ],
          "name": "stdout"
        }
      ]
    },
    {
      "cell_type": "markdown",
      "metadata": {
        "id": "kDRl9Eezkoo-"
      },
      "source": [
        "### AZ_Deaths: AR5 and EWMA with alpha = 0.8 \n",
        "\n",
        "---\n"
      ]
    },
    {
      "cell_type": "code",
      "metadata": {
        "colab": {
          "base_uri": "https://localhost:8080/"
        },
        "id": "NQvBEq8jkAgb",
        "outputId": "3eef8dac-b654-4e08-8657-32fcc1a7c720"
      },
      "source": [
        "x = prepare_table(data, 5)\n",
        "y = data[5:]\n",
        "x = np.insert(x, x.shape[1], 1, axis=1)\n",
        "y_actual = np.array([])\n",
        "y_predicted = np.array([])\n",
        "y_predicted_ewma = np.array([])\n",
        "\n",
        "for j in range(7):\n",
        "    x1 = x[:-(7 - j)]\n",
        "    y1 = y[:-(7 - j)]\n",
        "\n",
        "    # Auto Regression\n",
        "    b = linear_regression(x1, y1)\n",
        "    y_actual = np.append(y_actual, y[-(7 - j)])\n",
        "    y_predicted = np.append(y_predicted, np.matmul(np.transpose(x[-(7 - j)]), b))\n",
        "\n",
        "    # EWMA\n",
        "    predicted_y = 0\n",
        "    multiplier = 0.8\n",
        "    for k in range(len(x1)):\n",
        "        predicted_y += multiplier * x1[-(1 + k)][0]\n",
        "        multiplier *= (1 - multiplier)\n",
        "    y_predicted_ewma = np.append(y_predicted_ewma, predicted_y)\n",
        "\n",
        "MAPE_error_ar = calculate_MAPE(y_actual, y_predicted)\n",
        "MSE_error_ar = calculate_MSE(y_actual, y_predicted)\n",
        "print(MAPE_error_ar)\n",
        "print(MSE_error_ar)\n",
        "MAPE_error_ewma = calculate_MAPE(y_actual, y_predicted_ewma)\n",
        "MSE_error_ewma = calculate_MSE(y_actual, y_predicted_ewma)\n",
        "print(MAPE_error_ewma)\n",
        "print(MSE_error_ewma)"
      ],
      "execution_count": 186,
      "outputs": [
        {
          "output_type": "stream",
          "text": [
            "3.7259387553546353e-13\n",
            "2.615057635300212e-26\n",
            "191.2781143225296\n",
            "3611.812829857423\n"
          ],
          "name": "stdout"
        }
      ]
    },
    {
      "cell_type": "markdown",
      "metadata": {
        "id": "hS63Sd_iaIGA"
      },
      "source": [
        "## Inference 2"
      ]
    },
    {
      "cell_type": "markdown",
      "metadata": {
        "id": "OQ8D5V3LwKGB"
      },
      "source": [
        "Extracting feb 2021 and march 2021 data for both the states AR and AZ"
      ]
    },
    {
      "cell_type": "code",
      "metadata": {
        "id": "_zQncuDIaLvM"
      },
      "source": [
        "dataar = pd.read_csv('processed_cases_ar.csv')\n",
        "ar_feb_cases = (dataar.loc[(pd.to_datetime(dataar[\"Date\"], format=\"%Y-%m-%d\") >= datetime.datetime(2021, 2, 1) ) & (pd.to_datetime(dataar[\"Date\"], format=\"%Y-%m-%d\") <= datetime.datetime(2021, 2, 28 )) ])\n",
        "ar_march_cases = (dataar.loc[ (pd.to_datetime(dataar[\"Date\"], format=\"%Y-%m-%d\") >= datetime.datetime(2021, 3, 1) ) & (pd.to_datetime(dataar[\"Date\"], format=\"%Y-%m-%d\") <= datetime.datetime(2021, 3, 31)) ])\n",
        "\n",
        "dataaz = pd.read_csv('processed_cases_az.csv')\n",
        "az_feb_cases = (dataaz.loc[(pd.to_datetime(dataaz[\"Date\"], format=\"%Y-%m-%d\") >= datetime.datetime(2021, 2, 1) ) & (pd.to_datetime(dataaz[\"Date\"], format=\"%Y-%m-%d\") <= datetime.datetime(2021, 2, 28 )) ])\n",
        "az_march_cases = (dataaz.loc[ (pd.to_datetime(dataaz[\"Date\"], format=\"%Y-%m-%d\") >= datetime.datetime(2021, 3, 1) ) & (pd.to_datetime(dataaz[\"Date\"], format=\"%Y-%m-%d\") <= datetime.datetime(2021, 3, 31)) ])\n",
        "\n",
        "datar = pd.read_csv('processed_deaths_ar.csv')\n",
        "ar_feb_d = (datar.loc[(pd.to_datetime(datar[\"Date\"], format=\"%Y-%m-%d\") >= datetime.datetime(2021, 2, 1) ) & (pd.to_datetime(datar[\"Date\"], format=\"%Y-%m-%d\") <= datetime.datetime(2021, 2, 28 )) ])\n",
        "ar_march_d = (datar.loc[ (pd.to_datetime(datar[\"Date\"], format=\"%Y-%m-%d\") >= datetime.datetime(2021, 3, 1) ) & (pd.to_datetime(datar[\"Date\"], format=\"%Y-%m-%d\") <= datetime.datetime(2021, 3, 31))])\n",
        "\n",
        "dataz = pd.read_csv('processed_deaths_az.csv')\n",
        "az_feb_d = (dataz.loc[(pd.to_datetime(dataz[\"Date\"], format=\"%Y-%m-%d\") >= datetime.datetime(2021, 2, 1) ) & (pd.to_datetime(dataz[\"Date\"], format=\"%Y-%m-%d\") <= datetime.datetime(2021, 2, 28 )) ])\n",
        "az_march_d = (dataz.loc[ (pd.to_datetime(dataz[\"Date\"], format=\"%Y-%m-%d\") >= datetime.datetime(2021, 3, 1) ) & (pd.to_datetime(dataz[\"Date\"], format=\"%Y-%m-%d\") <= datetime.datetime(2021, 3, 31))])"
      ],
      "execution_count": 187,
      "outputs": []
    },
    {
      "cell_type": "code",
      "metadata": {
        "id": "SByJzqwrobXx",
        "colab": {
          "base_uri": "https://localhost:8080/"
        },
        "outputId": "71d37af0-0582-4006-9b4c-6c94004d3b0e"
      },
      "source": [
        "print(dataar)\n",
        "print(ar_feb_cases)\n",
        "print(ar_march_cases)\n",
        "print(dataaz)\n",
        "print(datar)\n",
        "print(dataz)"
      ],
      "execution_count": 188,
      "outputs": [
        {
          "output_type": "stream",
          "text": [
            "     Unnamed: 0        Date  cases_ar\n",
            "0             0  2020-01-22       0.0\n",
            "1             1  2020-01-23       0.0\n",
            "2             2  2020-01-24       0.0\n",
            "3             3  2020-01-25       0.0\n",
            "4             4  2020-01-26       0.0\n",
            "..          ...         ...       ...\n",
            "403         433  2021-03-30     175.0\n",
            "404         434  2021-03-31     213.0\n",
            "405         435  2021-04-01     210.0\n",
            "406         436  2021-04-02     145.0\n",
            "407         437  2021-04-03     216.0\n",
            "\n",
            "[408 rows x 3 columns]\n",
            "     Unnamed: 0        Date  cases_ar\n",
            "349         376  2021-02-01    1226.0\n",
            "350         377  2021-02-02    1510.0\n",
            "351         380  2021-02-05    1824.0\n",
            "352         381  2021-02-06    1341.0\n",
            "353         382  2021-02-07     674.0\n",
            "354         383  2021-02-08     636.0\n",
            "355         384  2021-02-09    1475.0\n",
            "356         385  2021-02-10    1093.0\n",
            "357         386  2021-02-11    1130.0\n",
            "358         387  2021-02-12     567.0\n",
            "359         388  2021-02-13     955.0\n",
            "360         389  2021-02-14     467.0\n",
            "361         390  2021-02-15     325.0\n",
            "362         391  2021-02-16     175.0\n",
            "363         392  2021-02-17     662.0\n",
            "364         393  2021-02-18     247.0\n",
            "365         394  2021-02-19     270.0\n",
            "366         395  2021-02-20     515.0\n",
            "367         396  2021-02-21     284.0\n",
            "368         397  2021-02-22     243.0\n",
            "369         398  2021-02-23     830.0\n",
            "370         399  2021-02-24     798.0\n",
            "371         400  2021-02-25     725.0\n",
            "372         401  2021-02-26     511.0\n",
            "373         402  2021-02-27     557.0\n",
            "     Unnamed: 0        Date  cases_ar\n",
            "374         404  2021-03-01      83.0\n",
            "375         405  2021-03-02     416.0\n",
            "376         406  2021-03-03     389.0\n",
            "377         407  2021-03-04     392.0\n",
            "378         408  2021-03-05     560.0\n",
            "379         409  2021-03-06     326.0\n",
            "380         410  2021-03-07     166.0\n",
            "381         411  2021-03-08     131.0\n",
            "382         412  2021-03-09     430.0\n",
            "383         413  2021-03-10     315.0\n",
            "384         414  2021-03-11     336.0\n",
            "385         415  2021-03-12     458.0\n",
            "386         416  2021-03-13     312.0\n",
            "387         417  2021-03-14     129.0\n",
            "388         418  2021-03-15     119.0\n",
            "389         419  2021-03-16     394.0\n",
            "390         420  2021-03-17     326.0\n",
            "391         421  2021-03-18     262.0\n",
            "392         422  2021-03-19     226.0\n",
            "393         423  2021-03-20     274.0\n",
            "394         424  2021-03-21     112.0\n",
            "395         425  2021-03-22      52.0\n",
            "396         426  2021-03-23     233.0\n",
            "397         427  2021-03-24     226.0\n",
            "398         428  2021-03-25     337.0\n",
            "399         429  2021-03-26     185.0\n",
            "400         430  2021-03-27     165.0\n",
            "401         431  2021-03-28      69.0\n",
            "402         432  2021-03-29      79.0\n",
            "403         433  2021-03-30     175.0\n",
            "404         434  2021-03-31     213.0\n",
            "     Unnamed: 0        Date  cases_az\n",
            "0             0  2020-01-22       0.0\n",
            "1             1  2020-01-23       0.0\n",
            "2             2  2020-01-24       0.0\n",
            "3             3  2020-01-25       0.0\n",
            "4             4  2020-01-26       1.0\n",
            "..          ...         ...       ...\n",
            "404         433  2021-03-30     578.0\n",
            "405         434  2021-03-31     692.0\n",
            "406         435  2021-04-01     389.0\n",
            "407         436  2021-04-02     901.0\n",
            "408         437  2021-04-03    1154.0\n",
            "\n",
            "[409 rows x 3 columns]\n",
            "     Unnamed: 0        Date  deaths_ar\n",
            "0             0  2020-01-22        0.0\n",
            "1             1  2020-01-23        0.0\n",
            "2             2  2020-01-24        0.0\n",
            "3             3  2020-01-25        0.0\n",
            "4             4  2020-01-26        0.0\n",
            "..          ...         ...        ...\n",
            "415         433  2021-03-30       12.0\n",
            "416         434  2021-03-31        8.0\n",
            "417         435  2021-04-01        9.0\n",
            "418         436  2021-04-02        1.0\n",
            "419         437  2021-04-03        2.0\n",
            "\n",
            "[420 rows x 3 columns]\n",
            "     Unnamed: 0        Date  deaths_az\n",
            "0             0  2020-01-22        0.0\n",
            "1             1  2020-01-23        0.0\n",
            "2             2  2020-01-24        0.0\n",
            "3             3  2020-01-25        0.0\n",
            "4             4  2020-01-26        0.0\n",
            "..          ...         ...        ...\n",
            "389         433  2021-03-30       21.0\n",
            "390         434  2021-03-31       26.0\n",
            "391         435  2021-04-01       11.0\n",
            "392         436  2021-04-02       19.0\n",
            "393         437  2021-04-03        7.0\n",
            "\n",
            "[394 rows x 3 columns]\n"
          ],
          "name": "stdout"
        }
      ]
    },
    {
      "cell_type": "markdown",
      "metadata": {
        "id": "t7v2LVYFv6ll"
      },
      "source": [
        "###  Walds one sample test for cases for the state AR"
      ]
    },
    {
      "cell_type": "code",
      "metadata": {
        "colab": {
          "base_uri": "https://localhost:8080/"
        },
        "id": "v-S1MfxuoyQo",
        "outputId": "5b4a1a24-a5db-462d-d218-99ea65d24e0e"
      },
      "source": [
        "print(\"Null hypothesis (H0):\")\n",
        "print(\"the mean of daily cases for March’21 is equal to the mean of daily cases for Feb’21 for state AR\")\n",
        "print(\"Alternate hypothesis(H1):\")\n",
        "print(\"the mean of daily cases for March’21 is not equal to the mean of daily cases for Feb’21 for state AR\")\n",
        "mcfAR = ar_feb_cases[\"cases_ar\"].mean()\n",
        "\n",
        "mcmAR = ar_march_cases[\"cases_ar\"].mean()\n",
        "# print(mcmAR)\n",
        "\n",
        "num = mcmAR - mcfAR\n",
        "den = (mcmAR/len(ar_march_cases[\"cases_ar\"]))\n",
        "den = math.sqrt(den)\n",
        "\n",
        "print(\"walds 1 sample testing statistic is |w|=\",abs(num/den),\" which is greater than z_alpha/2 = 1.96 so reject the NULL hypothesis\")"
      ],
      "execution_count": 189,
      "outputs": [
        {
          "output_type": "stream",
          "text": [
            "Null hypothesis (H0):\n",
            "the mean of daily cases for March’21 is equal to the mean of daily cases for Feb’21 for state AR\n",
            "Alternate hypothesis(H1):\n",
            "the mean of daily cases for March’21 is not equal to the mean of daily cases for Feb’21 for state AR\n",
            "walds 1 sample testing statistic is |w|= 176.97136033181553  which is greater than z_alpha/2 = 1.96 so reject the NULL hypothesis\n"
          ],
          "name": "stdout"
        }
      ]
    },
    {
      "cell_type": "markdown",
      "metadata": {
        "id": "GwrHLFNuwjyP"
      },
      "source": [
        "**Null hypothesis (H0):**\n",
        "\n",
        "the mean of daily cases for March’21 is equal to the mean of daily cases for Feb’21 for state AR\n",
        "\n",
        "**Alternate hypothesis(H1):**\n",
        "\n",
        "the mean of daily cases for March’21 is not equal to the mean of daily cases for Feb’21 for state AR\n",
        "\n",
        "walds 1 sample testing statistic is |w|= 176.97136033181553  which is greater than z_alpha/2 = 1.96 \n",
        "\n",
        "**so reject the NULL hypothesis**"
      ]
    },
    {
      "cell_type": "markdown",
      "metadata": {
        "id": "BCLDqk8EwjUi"
      },
      "source": [
        "### Walds one sample test for cases for the state AZ"
      ]
    },
    {
      "cell_type": "code",
      "metadata": {
        "colab": {
          "base_uri": "https://localhost:8080/"
        },
        "id": "oJnMVxLttTbI",
        "outputId": "a99ea82f-85b0-4474-8e99-7e9904b5f9ec"
      },
      "source": [
        "print(\"Null hypothesis (H0):\")\n",
        "print(\"the mean of daily cases for March’21 is equal to the mean of daily cases for Feb’21 for state AZ\")\n",
        "print(\"Alternate hypothesis(H1):\")\n",
        "print(\"the mean of daily cases for March’21 is not equal to the mean of daily cases for Feb’21 for state AZ\")\n",
        "mcfAZ = az_feb_cases[\"cases_az\"].mean()\n",
        "\n",
        "mcmAZ = az_march_cases[\"cases_az\"].mean()\n",
        "# print(mcmAR)\n",
        "\n",
        "num = mcmAZ - mcfAZ\n",
        "den = (mcmAR/len(az_march_cases[\"cases_az\"]))\n",
        "den = math.sqrt(den)\n",
        "\n",
        "print(\"walds 1 sample testing statistic is |w|=\",abs(num/den),\" which is greater than z_alpha/2 = 1.96 so reject the NULL hypothesis\")"
      ],
      "execution_count": 190,
      "outputs": [
        {
          "output_type": "stream",
          "text": [
            "Null hypothesis (H0):\n",
            "the mean of daily cases for March’21 is equal to the mean of daily cases for Feb’21 for state AZ\n",
            "Alternate hypothesis(H1):\n",
            "the mean of daily cases for March’21 is not equal to the mean of daily cases for Feb’21 for state AZ\n",
            "walds 1 sample testing statistic is |w|= 469.68524098962575  which is greater than z_alpha/2 = 1.96 so reject the NULL hypothesis\n"
          ],
          "name": "stdout"
        }
      ]
    },
    {
      "cell_type": "markdown",
      "metadata": {
        "id": "0seEbwFDxE4z"
      },
      "source": [
        "**Null hypothesis (H0):**\n",
        "\n",
        "the mean of daily cases for March’21 is equal to the mean of daily cases for Feb’21 for state AZ\n",
        "\n",
        "**Alternate hypothesis(H1):**\n",
        "\n",
        "the mean of daily cases for March’21 is not equal to the mean of daily cases for Feb’21 for state AZ\n",
        "\n",
        "walds 1 sample testing statistic is |w|= 469.68524098962575  which is greater than z_alpha/2 = 1.96 so reject the NULL hypothesis\n"
      ]
    },
    {
      "cell_type": "markdown",
      "metadata": {
        "id": "yyMCqNWbxFbM"
      },
      "source": [
        "### Walds one sample test for deaths for the state AR"
      ]
    },
    {
      "cell_type": "code",
      "metadata": {
        "colab": {
          "base_uri": "https://localhost:8080/"
        },
        "id": "SltMQ9OzuCR-",
        "outputId": "a3412621-fffc-41da-e124-f9f8e8972f44"
      },
      "source": [
        "print(\"Null hypothesis (H0):\")\n",
        "print(\"the mean of daily deaths for March’21 is eqaul to the mean of daily deaths for Feb’21 for state AR\")\n",
        "print(\"Alternate hypothesis(H1):\")\n",
        "print(\"the mean of daily deaths for March’21 is not equal to the mean of daily deaths for Feb’21 for state AR\")\n",
        "mdfAR = ar_feb_d['deaths_ar'].mean()\n",
        "# print(mcfAR)\n",
        "\n",
        "mdmAR = ar_march_d['deaths_ar'].mean()\n",
        "# print(mcmAR)\n",
        "\n",
        "num = mdmAR - mdfAR\n",
        "den = mdmAR/len(ar_march_d['deaths_ar'])\n",
        "den = math.sqrt(den)\n",
        "\n",
        "print(\"walds 1 sample testing statistic is |w|=\",abs(num/den),\" which is greater than z_alpha/2 = 1.96 so reject the NULL hypothesis\")"
      ],
      "execution_count": 191,
      "outputs": [
        {
          "output_type": "stream",
          "text": [
            "Null hypothesis (H0):\n",
            "the mean of daily deaths for March’21 is eqaul to the mean of daily deaths for Feb’21 for state AR\n",
            "Alternate hypothesis(H1):\n",
            "the mean of daily deaths for March’21 is not equal to the mean of daily deaths for Feb’21 for state AR\n",
            "walds 1 sample testing statistic is |w|= 22.676078418998358  which is greater than z_alpha/2 = 1.96 so reject the NULL hypothesis\n"
          ],
          "name": "stdout"
        }
      ]
    },
    {
      "cell_type": "markdown",
      "metadata": {
        "id": "pJ1iY8iRvtar"
      },
      "source": [
        "**Null hypothesis (H0):**\n",
        "\n",
        "the mean of daily deaths for March’21 is eqaul to the mean of daily deaths for Feb’21 for state AR\n",
        "\n",
        "**Alternate hypothesis(H1):**\n",
        "\n",
        "the mean of daily deaths for March’21 is not equal to the mean of daily deaths for Feb’21 for state AR\n",
        "\n",
        "walds 1 sample testing statistic is |w|= 22.676078418998358  which is greater than z_alpha/2 = 1.96 so reject the NULL hypothesis\n"
      ]
    },
    {
      "cell_type": "markdown",
      "metadata": {
        "id": "zTmxRKzUxKvs"
      },
      "source": [
        "### Walds one sample test for deaths for the state AZ"
      ]
    },
    {
      "cell_type": "code",
      "metadata": {
        "colab": {
          "base_uri": "https://localhost:8080/"
        },
        "id": "ePg4NRi2ue9j",
        "outputId": "b1624297-ebd0-41d9-f6d4-5b4008021b19"
      },
      "source": [
        "print(\"Null hypothesis (H0):\")\n",
        "print(\"the mean of daily deaths for March’21 is eqaul to the mean of daily deaths for Feb’21 for state AZ\")\n",
        "print(\"Alternate hypothesis(H1):\")\n",
        "print(\"the mean of daily deaths for March’21 is not equal to the mean of daily deaths for Feb’21 for state AZ\")\n",
        "mdfAR = az_feb_d['deaths_az'].mean()\n",
        "# print(mcfAR)\n",
        "\n",
        "mdmAR = az_march_d['deaths_az'].mean()\n",
        "# print(mcmAR)\n",
        "\n",
        "num = mdmAR - mdfAR\n",
        "den = mdmAR/len(az_march_d['deaths_az'])\n",
        "den = math.sqrt(den)\n",
        "\n",
        "print(\"walds 1 sample testing statistic is |w|=\",abs(num/den),\" which is greater than z_alpha/2 = 1.96 so reject the NULL hypothesis\")"
      ],
      "execution_count": 192,
      "outputs": [
        {
          "output_type": "stream",
          "text": [
            "Null hypothesis (H0):\n",
            "the mean of daily deaths for March’21 is eqaul to the mean of daily deaths for Feb’21 for state AZ\n",
            "Alternate hypothesis(H1):\n",
            "the mean of daily deaths for March’21 is not equal to the mean of daily deaths for Feb’21 for state AZ\n",
            "walds 1 sample testing statistic is |w|= 5.132697088004606  which is greater than z_alpha/2 = 1.96 so reject the NULL hypothesis\n"
          ],
          "name": "stdout"
        }
      ]
    },
    {
      "cell_type": "markdown",
      "metadata": {
        "id": "klwBkxPV0t-7"
      },
      "source": [
        "**Null hypothesis (H0):**\n",
        "\n",
        "the mean of daily deaths for March’21 is eqaul to the mean of daily deaths for Feb’21 for state AZ\n",
        "\n",
        "**Alternate hypothesis(H1):**\n",
        "\n",
        "the mean of daily deaths for March’21 is not equal to the mean of daily deaths for Feb’21 for state AZ\n",
        "\n",
        "walds 1 sample testing statistic is |w|= 5.132697088004606  which is greater than z_alpha/2 = 1.96 so reject the NULL hypothesis\n"
      ]
    },
    {
      "cell_type": "markdown",
      "metadata": {
        "id": "Gu4BEeYfxSXr"
      },
      "source": [
        "### Z test for cases for the state AR"
      ]
    },
    {
      "cell_type": "code",
      "metadata": {
        "colab": {
          "base_uri": "https://localhost:8080/"
        },
        "id": "dJ0AeN8wuzly",
        "outputId": "b5efd4b9-195f-4b05-821a-2ab143215e1d"
      },
      "source": [
        "print(\"Null hypothesis (H0):\")\n",
        "print(\"the mean of daily cases for March’21 is eqaul to the mean of daily cases for Feb’21 for state AR\")\n",
        "print(\"Alternate hypothesis(H1):\")\n",
        "print(\"the mean of daily cases for March’21 is not equal to the mean of daily cases for Feb’21 for state AR\")\n",
        "mcfAR = ar_feb_cases[\"cases_ar\"].mean()\n",
        "\n",
        "mcmAR = ar_march_cases[\"cases_ar\"].mean()\n",
        "# print(mcmAR)\n",
        "\n",
        "num = mcmAR - mcfAR\n",
        "div = (1/(len(dataar[\"cases_ar\"]) - 1) )\n",
        "sum = 0\n",
        "for i in range(len(dataar)):\n",
        "    sum = sum + math.pow((dataar[\"cases_ar\"].mean() - dataar[\"cases_ar\"][i]),2)\n",
        "sum = sum /div\n",
        "sigma =math.sqrt(sum)\n",
        "den = sigma * (1/math.sqrt(len(ar_march_cases)))\n",
        "\n",
        "print(\"z test statistic is |z|=\",abs(num/den),\" which is less than z_alpha/2 = 1.96 so fail to reject the NULL hypothesis\")"
      ],
      "execution_count": 193,
      "outputs": [
        {
          "output_type": "stream",
          "text": [
            "Null hypothesis (H0):\n",
            "the mean of daily cases for March’21 is eqaul to the mean of daily cases for Feb’21 for state AR\n",
            "Alternate hypothesis(H1):\n",
            "the mean of daily cases for March’21 is not equal to the mean of daily cases for Feb’21 for state AR\n",
            "z test statistic is |z|= 0.011774503724912604  which is less than z_alpha/2 = 1.96 so fail to reject the NULL hypothesis\n"
          ],
          "name": "stdout"
        }
      ]
    },
    {
      "cell_type": "markdown",
      "metadata": {
        "id": "S4M5juLx00-U"
      },
      "source": [
        "**Null hypothesis (H0):**\n",
        "\n",
        "the mean of daily cases for March’21 is eqaul to the mean of daily cases for Feb’21 for state AR\n",
        "\n",
        "**Alternate hypothesis(H1):**\n",
        "\n",
        "the mean of daily cases for March’21 is not equal to the mean of daily cases for Feb’21 for state AR\n",
        "\n",
        "z test statistic is |z|= 0.011774503724912604  which is less than z_alpha/2 = 1.96 so fail to reject the NULL hypothesis\n"
      ]
    },
    {
      "cell_type": "markdown",
      "metadata": {
        "id": "z0AWUVazxZ6m"
      },
      "source": [
        "### Z test for cases for the state AZ"
      ]
    },
    {
      "cell_type": "code",
      "metadata": {
        "colab": {
          "base_uri": "https://localhost:8080/"
        },
        "id": "qZSEUSU-vglX",
        "outputId": "5f917c74-3403-495b-9db6-a912c777d0b1"
      },
      "source": [
        "print(\"Null hypothesis (H0):\")\n",
        "print(\"the mean of daily cases for March’21 is eqaul to the mean of daily cases for Feb’21 for state AZ\")\n",
        "print(\"Alternate hypothesis(H1):\")\n",
        "print(\"the mean of daily cases for March’21 is not equal to the mean of daily cases for Feb’21 for state AZ\")\n",
        "mcfAR = az_feb_cases[\"cases_az\"].mean()\n",
        "\n",
        "mcmAR = az_march_cases[\"cases_az\"].mean()\n",
        "# print(mcmAR)\n",
        "\n",
        "num = mcmAR - mcfAR\n",
        "div = (1/(len(dataaz[\"cases_az\"]) - 1) )\n",
        "sum = 0\n",
        "for i in range(len(dataaz)):\n",
        "    sum = sum + math.pow((dataaz[\"cases_az\"].mean() - dataaz[\"cases_az\"][i]),2)\n",
        "sum = sum /div\n",
        "sigma =math.sqrt(sum)\n",
        "den = sigma * (1/math.sqrt(len(az_march_cases)))\n",
        "\n",
        "print(\"z test statistic is |z|=\",abs(num/den),\" which is less than z_alpha/2 = 1.96 so fail to reject the NULL hypothesis\")"
      ],
      "execution_count": 194,
      "outputs": [
        {
          "output_type": "stream",
          "text": [
            "Null hypothesis (H0):\n",
            "the mean of daily cases for March’21 is eqaul to the mean of daily cases for Feb’21 for state AZ\n",
            "Alternate hypothesis(H1):\n",
            "the mean of daily cases for March’21 is not equal to the mean of daily cases for Feb’21 for state AZ\n",
            "z test statistic is |z|= 0.011955757502414467  which is less than z_alpha/2 = 1.96 so fail to reject the NULL hypothesis\n"
          ],
          "name": "stdout"
        }
      ]
    },
    {
      "cell_type": "markdown",
      "metadata": {
        "id": "gifg9Ubj07fN"
      },
      "source": [
        "**Null hypothesis (H0):**\n",
        "\n",
        "the mean of daily cases for March’21 is eqaul to the mean of daily cases for Feb’21 for state AZ\n",
        "\n",
        "**Alternate hypothesis(H1):**\n",
        "\n",
        "the mean of daily cases for March’21 is not equal to the mean of daily cases for Feb’21 for state AZ\n",
        "\n",
        "z test statistic is |z|= 0.011955757502414467  which is less than z_alpha/2 = 1.96 so fail to reject the NULL hypothesis\n"
      ]
    },
    {
      "cell_type": "markdown",
      "metadata": {
        "id": "Q-AgjSo9xcn0"
      },
      "source": [
        "### Z test for deaths for the state AR"
      ]
    },
    {
      "cell_type": "code",
      "metadata": {
        "colab": {
          "base_uri": "https://localhost:8080/"
        },
        "id": "iBRob9dswbdm",
        "outputId": "498fe3e6-23a6-4e2f-b6a9-bc5b8c3ae95b"
      },
      "source": [
        "print(\"Null hypothesis (H0):\")\n",
        "print(\"the mean of daily deaths for March’21 is eqaul to the mean of daily deaths for Feb’21 for state AR\")\n",
        "print(\"Alternate hypothesis(H1):\")\n",
        "print(\"the mean of daily deaths for March’21 is not equal to the mean of daily deaths for Feb’21 for state AR\")\n",
        "mcfAR = ar_feb_d['deaths_ar'].mean()\n",
        "\n",
        "mcmAR = ar_march_d['deaths_ar'].mean()\n",
        "# print(mcmAR)\n",
        "\n",
        "num = mcmAR - mcfAR\n",
        "div = (1/(len(datar[\"deaths_ar\"]) - 1) )\n",
        "sum = 0\n",
        "for i in range(len(datar)):\n",
        "    sum = sum + math.pow((datar[\"deaths_ar\"].mean() - datar[\"deaths_ar\"][i]),2)\n",
        "sum = sum /div\n",
        "sigma =math.sqrt(sum)\n",
        "den = sigma * (1/math.sqrt(len(ar_march_d['deaths_ar'])))\n",
        "\n",
        "print(\"z test statistic is |z|=\",abs(num/den),\" which is less than z_alpha/2 = 1.96 so fail to reject the NULL hypothesis\")"
      ],
      "execution_count": 195,
      "outputs": [
        {
          "output_type": "stream",
          "text": [
            "Null hypothesis (H0):\n",
            "the mean of daily deaths for March’21 is eqaul to the mean of daily deaths for Feb’21 for state AR\n",
            "Alternate hypothesis(H1):\n",
            "the mean of daily deaths for March’21 is not equal to the mean of daily deaths for Feb’21 for state AR\n",
            "z test statistic is |z|= 0.012708532191771404  which is less than z_alpha/2 = 1.96 so fail to reject the NULL hypothesis\n"
          ],
          "name": "stdout"
        }
      ]
    },
    {
      "cell_type": "markdown",
      "metadata": {
        "id": "hrF4-yZz1B42"
      },
      "source": [
        "**Null hypothesis (H0):**\n",
        "\n",
        "the mean of daily deaths for March’21 is eqaul to the mean of daily deaths for Feb’21 for state AR\n",
        "\n",
        "**Alternate hypothesis(H1):**\n",
        "\n",
        "the mean of daily deaths for March’21 is not equal to the mean of daily deaths for Feb’21 for state AR\n",
        "\n",
        "z test statistic is |z|= 0.012708532191771404  which is less than z_alpha/2 = 1.96 so fail to reject the NULL hypothesis\n"
      ]
    },
    {
      "cell_type": "markdown",
      "metadata": {
        "id": "THCm3X3Cxhsn"
      },
      "source": [
        "### Z test for deaths for the state AZ"
      ]
    },
    {
      "cell_type": "code",
      "metadata": {
        "colab": {
          "base_uri": "https://localhost:8080/"
        },
        "id": "kfEH9J0FxQoa",
        "outputId": "dd43a3f1-eeeb-4541-c81e-462784c6fd8d"
      },
      "source": [
        "print(\"Null hypothesis (H0):\")\n",
        "print(\"the mean of daily deaths for March’21 is eqaul to the mean of daily deaths for Feb’21 for state AZ\")\n",
        "print(\"Alternate hypothesis(H1):\")\n",
        "print(\"the mean of daily deaths for March’21 is not equal to the mean of daily deaths for Feb’21 for state AZ\")\n",
        "mcfAR = az_feb_d['deaths_az'].mean()\n",
        "\n",
        "mcmAR = az_march_d['deaths_az'].mean()\n",
        "# print(mcmAR)\n",
        "\n",
        "num = mcmAR - mcfAR\n",
        "div = (1/(len(dataz[\"deaths_az\"]) - 1) )\n",
        "sum = 0\n",
        "for i in range(len(dataz)):\n",
        "    sum = sum + math.pow((dataz[\"deaths_az\"].mean() - dataz[\"deaths_az\"][i]),2)\n",
        "sum = sum /div\n",
        "sigma =math.sqrt(sum)\n",
        "den = sigma * (1/math.sqrt(len(az_march_d['deaths_az'])))\n",
        "\n",
        "print(\"z test statistic is |z|=\",abs(num/den),\" which is less than z_alpha/2 = 1.96 so fail to reject the NULL hypothesis\")"
      ],
      "execution_count": 196,
      "outputs": [
        {
          "output_type": "stream",
          "text": [
            "Null hypothesis (H0):\n",
            "the mean of daily deaths for March’21 is eqaul to the mean of daily deaths for Feb’21 for state AZ\n",
            "Alternate hypothesis(H1):\n",
            "the mean of daily deaths for March’21 is not equal to the mean of daily deaths for Feb’21 for state AZ\n",
            "z test statistic is |z|= 0.002833449982254319  which is less than z_alpha/2 = 1.96 so fail to reject the NULL hypothesis\n"
          ],
          "name": "stdout"
        }
      ]
    },
    {
      "cell_type": "markdown",
      "metadata": {
        "id": "w5LLUsB-1xIJ"
      },
      "source": [
        "**Null hypothesis (H0):**\n",
        "\n",
        "the mean of daily deaths for March’21 is eqaul to the mean of daily deaths for Feb’21 for state AZ\n",
        "\n",
        "**Alternate hypothesis(H1):**\n",
        "\n",
        "the mean of daily deaths for March’21 is not equal to the mean of daily deaths for Feb’21 for state AZ\n",
        "\n",
        "z test statistic is |z|= 0.002833449982254319  which is less than z_alpha/2 = 1.96 so fail to reject the NULL hypothesis"
      ]
    },
    {
      "cell_type": "markdown",
      "metadata": {
        "id": "qGLC3G_hyEqU"
      },
      "source": [
        "### One sample T test for cases for the state AR"
      ]
    },
    {
      "cell_type": "code",
      "metadata": {
        "colab": {
          "base_uri": "https://localhost:8080/"
        },
        "id": "aQBkq679xpxR",
        "outputId": "77f89290-fe1d-4162-fcf6-529a7fa0656b"
      },
      "source": [
        "print(\"Null hypothesis (H0):\")\n",
        "print(\"the mean of daily cases for March’21 is eqaul to the mean of daily cases for Feb’21 for state AR\")\n",
        "print(\"Alternate hypothesis(H1):\")\n",
        "print(\"the mean of daily cases for March’21 is not equal to the mean of daily cases for Feb’21 for state AR\")\n",
        "\n",
        "mcfAR = ar_feb_cases['cases_ar'].mean()\n",
        "\n",
        "mcmAR = ar_march_cases['cases_ar'].mean()\n",
        "# print(mcmAR)\n",
        "\n",
        "num = mcmAR - mcfAR\n",
        "div = (1/(len(ar_march_cases['cases_ar']) - 1) )\n",
        "sum = 0\n",
        "\n",
        "for i in range(len(ar_march_cases)):\n",
        "    # print(march2021[\"AR confirmed\"][0])\n",
        "    sum = sum + math.pow((ar_march_cases['cases_ar'].mean() - ar_march_cases['cases_ar'].iloc[i]),2)\n",
        "sum = sum /div\n",
        "sigma =math.sqrt(sum)\n",
        "den = sigma * (1/math.sqrt(len(ar_march_cases)))\n",
        "print(\"T statistic |T|=\",abs(num/den),\"which is less than t(\",len(ar_march_cases)-1,\",alpha/2)=2.0423 so fail to reject the NULL hypothesis\")"
      ],
      "execution_count": 197,
      "outputs": [
        {
          "output_type": "stream",
          "text": [
            "Null hypothesis (H0):\n",
            "the mean of daily cases for March’21 is eqaul to the mean of daily cases for Feb’21 for state AR\n",
            "Alternate hypothesis(H1):\n",
            "the mean of daily cases for March’21 is not equal to the mean of daily cases for Feb’21 for state AR\n",
            "T statistic |T|= 0.7181046741596464 which is less than t( 30 ,alpha/2)=2.0423 so fail to reject the NULL hypothesis\n"
          ],
          "name": "stdout"
        }
      ]
    },
    {
      "cell_type": "markdown",
      "metadata": {
        "id": "J3uJDFpk16bp"
      },
      "source": [
        "**Null hypothesis (H0):**\n",
        "\n",
        "the mean of daily cases for March’21 is eqaul to the mean of daily cases for Feb’21 for state AR\n",
        "\n",
        "**Alternate hypothesis(H1):**\n",
        "\n",
        "the mean of daily cases for March’21 is not equal to the mean of daily cases for Feb’21 for state AR\n",
        "\n",
        "T statistic |T|= 0.7181046741596464 which is less than t( 30 ,alpha/2)=2.0423 so fail to reject the NULL hypothesis\n"
      ]
    },
    {
      "cell_type": "markdown",
      "metadata": {
        "id": "QB6UcHeTyOWX"
      },
      "source": [
        "### One sample T test for cases for the state AZ"
      ]
    },
    {
      "cell_type": "code",
      "metadata": {
        "colab": {
          "base_uri": "https://localhost:8080/"
        },
        "id": "RnmwFSw4xxck",
        "outputId": "3d3ff870-7497-4dd1-b1c3-534471fd167f"
      },
      "source": [
        "print(\"Null hypothesis (H0):\")\n",
        "print(\"the mean of daily cases for March’21 is eqaul to the mean of daily cases for Feb’21 for state AZ\")\n",
        "print(\"Alternate hypothesis(H1):\")\n",
        "print(\"the mean of daily cases for March’21 is not equal to the mean of daily cases for Feb’21 for state AZ\")\n",
        "mcfAR = az_feb_cases['cases_az'].mean()\n",
        "\n",
        "mcmAR = az_march_cases['cases_az'].mean()\n",
        "# print(mcmAR)\n",
        "\n",
        "num = mcmAR - mcfAR\n",
        "div = (1/(len(az_march_cases['cases_az']) - 1) )\n",
        "sum = 0\n",
        "\n",
        "for i in range(len(az_march_cases['cases_az'])):\n",
        "    # print(march2021[\"AR confirmed\"][0])\n",
        "    sum = sum + math.pow((az_march_cases['cases_az'].mean() - az_march_cases['cases_az'].iloc[i]),2)\n",
        "sum = sum /div\n",
        "sigma =math.sqrt(sum)\n",
        "den = sigma * (1/math.sqrt(len(az_march_cases['cases_az'])))\n",
        "print(\"T statistic |T|=\",abs(num/den),\"which is less than t(\",len(az_march_cases['cases_az'])-1,\",alpha/2)=2.0423 so fail to reject the NULL hypothesis\")"
      ],
      "execution_count": 198,
      "outputs": [
        {
          "output_type": "stream",
          "text": [
            "Null hypothesis (H0):\n",
            "the mean of daily cases for March’21 is eqaul to the mean of daily cases for Feb’21 for state AZ\n",
            "Alternate hypothesis(H1):\n",
            "the mean of daily cases for March’21 is not equal to the mean of daily cases for Feb’21 for state AZ\n",
            "T statistic |T|= 0.3050772115889984 which is less than t( 30 ,alpha/2)=2.0423 so fail to reject the NULL hypothesis\n"
          ],
          "name": "stdout"
        }
      ]
    },
    {
      "cell_type": "markdown",
      "metadata": {
        "id": "zdB2jXzW2CFD"
      },
      "source": [
        "**Null hypothesis (H0):**\n",
        "\n",
        "the mean of daily cases for March’21 is eqaul to the mean of daily cases for Feb’21 for state AZ\n",
        "\n",
        "**Alternate hypothesis(H1):**\n",
        "\n",
        "the mean of daily cases for March’21 is not equal to the mean of daily cases for Feb’21 for state AZ\n",
        "\n",
        "T statistic |T|= 0.3050772115889984 which is less than t( 30 ,alpha/2)=2.0423 so fail to reject the NULL hypothesis\n"
      ]
    },
    {
      "cell_type": "markdown",
      "metadata": {
        "id": "aSjJmQAdyRH1"
      },
      "source": [
        "### One sample T test for deaths for the state AR"
      ]
    },
    {
      "cell_type": "code",
      "metadata": {
        "colab": {
          "base_uri": "https://localhost:8080/"
        },
        "id": "e4sV_hHTx3d7",
        "outputId": "b94c1e90-3de9-471a-bfc6-6d35626f1a95"
      },
      "source": [
        "print(\"Null hypothesis (H0):\")\n",
        "print(\"the mean of daily deaths for March’21 is eqaul to the mean of daily deaths for Feb’21 for state AR\")\n",
        "print(\"Alternate hypothesis(H1):\")\n",
        "print(\"the mean of daily deaths for March’21 is not equal to the mean of daily deaths for Feb’21 for state AR\")\n",
        "mcfAR = ar_feb_d['deaths_ar'].mean()\n",
        "\n",
        "mcmAR = ar_march_d['deaths_ar'].mean()\n",
        "# print(mcmAR)\n",
        "\n",
        "num = mcmAR - mcfAR\n",
        "div = (1/(len(ar_march_d['deaths_ar']) - 1) )\n",
        "sum = 0\n",
        "\n",
        "for i in range(len(ar_march_d['deaths_ar'])):\n",
        "    # print(march2021[\"AR confirmed\"][0])\n",
        "    sum = sum + math.pow((ar_march_d['deaths_ar'].mean() - ar_march_d['deaths_ar'].iloc[i]),2)\n",
        "sum = sum /div\n",
        "sigma =math.sqrt(sum)\n",
        "den = sigma * (1/math.sqrt(len(ar_march_d['deaths_ar'])))\n",
        "print(\"T statistic |T|=\",abs(num/den),\"which is less than t(\",len(ar_march_d['deaths_ar'])-1,\",alpha/2)=2.0423 so fail to reject the NULL hypothesis\")"
      ],
      "execution_count": 199,
      "outputs": [
        {
          "output_type": "stream",
          "text": [
            "Null hypothesis (H0):\n",
            "the mean of daily deaths for March’21 is eqaul to the mean of daily deaths for Feb’21 for state AR\n",
            "Alternate hypothesis(H1):\n",
            "the mean of daily deaths for March’21 is not equal to the mean of daily deaths for Feb’21 for state AR\n",
            "T statistic |T|= 0.41897656409142037 which is less than t( 30 ,alpha/2)=2.0423 so fail to reject the NULL hypothesis\n"
          ],
          "name": "stdout"
        }
      ]
    },
    {
      "cell_type": "markdown",
      "metadata": {
        "id": "YFqL7N4S2Ka4"
      },
      "source": [
        "**Null hypothesis (H0):**\n",
        "\n",
        "the mean of daily deaths for March’21 is eqaul to the mean of daily deaths for Feb’21 for state AR\n",
        "\n",
        "**Alternate hypothesis(H1):**\n",
        "\n",
        "the mean of daily deaths for March’21 is not equal to the mean of daily deaths for Feb’21 for state AR\n",
        "\n",
        "T statistic |T|= 0.41897656409142037 which is less than t( 30 ,alpha/2)=2.0423 so fail to reject the NULL hypothesis\n"
      ]
    },
    {
      "cell_type": "markdown",
      "metadata": {
        "id": "SRtzxteGyUwZ"
      },
      "source": [
        "### One sample T test for deaths for the state AZ"
      ]
    },
    {
      "cell_type": "code",
      "metadata": {
        "colab": {
          "base_uri": "https://localhost:8080/"
        },
        "id": "GesUDVSTx7W-",
        "outputId": "993adb12-51fe-4ee9-ad77-496d0f2cf3b9"
      },
      "source": [
        "print(\"Null hypothesis (H0):\")\n",
        "print(\"the mean of daily deaths for March’21 is eqaul to the mean of daily deaths for Feb’21 for state AZ\")\n",
        "print(\"Alternate hypothesis(H1):\")\n",
        "print(\"the mean of daily deaths for March’21 is not equal to the mean of daily deaths for Feb’21 for state AZ\")\n",
        "mcfAR = az_feb_d['deaths_az'].mean()\n",
        "\n",
        "mcmAR = az_march_d['deaths_az'].mean()\n",
        "# print(mcmAR)\n",
        "\n",
        "num = mcmAR - mcfAR\n",
        "div = (1/(len(az_march_d['deaths_az']) - 1) )\n",
        "sum = 0\n",
        "\n",
        "for i in range(len(az_march_d)):\n",
        "    # print(march2021[\"AR confirmed\"][0])\n",
        "    sum = sum + math.pow((az_march_d['deaths_az'].mean() - az_march_d['deaths_az'].iloc[i]),2)\n",
        "sum = sum /div\n",
        "sigma =math.sqrt(sum)\n",
        "den = sigma * (1/math.sqrt(len(az_march_d['deaths_az'])))\n",
        "print(\"T statistic |T|=\",abs(num/den),\"which is less than t(\",len(az_march_d['deaths_az'])-1,\",alpha/2)=2.0423 so fail to reject the NULL hypothesis\")"
      ],
      "execution_count": 200,
      "outputs": [
        {
          "output_type": "stream",
          "text": [
            "Null hypothesis (H0):\n",
            "the mean of daily deaths for March’21 is eqaul to the mean of daily deaths for Feb’21 for state AZ\n",
            "Alternate hypothesis(H1):\n",
            "the mean of daily deaths for March’21 is not equal to the mean of daily deaths for Feb’21 for state AZ\n",
            "T statistic |T|= 0.032173587986571585 which is less than t( 30 ,alpha/2)=2.0423 so fail to reject the NULL hypothesis\n"
          ],
          "name": "stdout"
        }
      ]
    },
    {
      "cell_type": "markdown",
      "metadata": {
        "id": "ktzvBGbh2RUa"
      },
      "source": [
        "**Null hypothesis (H0):**\n",
        "\n",
        "the mean of daily deaths for March’21 is eqaul to the mean of daily deaths for Feb’21 for state AZ\n",
        "\n",
        "**Alternate hypothesis(H1):**\n",
        "\n",
        "the mean of daily deaths for March’21 is not equal to the mean of daily deaths for Feb’21 for state AZ\n",
        "\n",
        "T statistic |T|= 0.032173587986571585 which is less than t( 30 ,alpha/2)=2.0423 so fail to reject the NULL hypothesis\n"
      ]
    },
    {
      "cell_type": "markdown",
      "metadata": {
        "id": "l1ZTeCi6y00N"
      },
      "source": [
        "### Two sample walds test for cases for the state AR"
      ]
    },
    {
      "cell_type": "code",
      "metadata": {
        "colab": {
          "base_uri": "https://localhost:8080/"
        },
        "id": "VvI6_gU8z7M2",
        "outputId": "1eb81e7e-f917-45dc-a30d-731ca8d6774e"
      },
      "source": [
        "print(\"Null hypothesis (H0):\")\n",
        "print(\"the mean of daily cases for March’21 is eqaul to the mean of daily cases for Feb’21 for state AR\")\n",
        "print(\"Alternate hypothesis(H1):\")\n",
        "print(\"the mean of daily cases for March’21 is not equal to the mean of daily cases for Feb’21 for state AR\")\n",
        "mcfAR = ar_feb_cases['cases_ar'].mean()\n",
        "\n",
        "mcmAR = ar_march_cases['cases_ar'].mean()\n",
        "# print(mcmAR)\n",
        "\n",
        "num = mcfAR - mcmAR\n",
        "den = (mcfAR/len(ar_feb_cases)) + (mcmAR/len(ar_march_cases))\n",
        "den = math.sqrt(den)\n",
        "\n",
        "print(\"walds 2 sample testing statistic is |w|=\",abs(num/den),\" which is greater than z_alpha/2 = 1.96 so reject the NULL hypothesis\")\n",
        "\n"
      ],
      "execution_count": 201,
      "outputs": [
        {
          "output_type": "stream",
          "text": [
            "Null hypothesis (H0):\n",
            "the mean of daily cases for March’21 is eqaul to the mean of daily cases for Feb’21 for state AR\n",
            "Alternate hypothesis(H1):\n",
            "the mean of daily cases for March’21 is not equal to the mean of daily cases for Feb’21 for state AR\n",
            "walds 2 sample testing statistic is |w|= 81.5397058501656  which is greater than z_alpha/2 = 1.96 so reject the NULL hypothesis\n"
          ],
          "name": "stdout"
        }
      ]
    },
    {
      "cell_type": "markdown",
      "metadata": {
        "id": "3RCqD3RG2mqc"
      },
      "source": [
        "**Null hypothesis (H0):**\n",
        "\n",
        "the mean of daily cases for March’21 is eqaul to the mean of daily cases for Feb’21 for state AR\n",
        "\n",
        "**Alternate hypothesis(H1):**\n",
        "\n",
        "the mean of daily cases for March’21 is not equal to the mean of daily cases for Feb’21 for state AR\n",
        "\n",
        "walds 2 sample testing statistic is |w|= 81.5397058501656  which is greater than z_alpha/2 = 1.96 so reject the NULL hypothesis\n"
      ]
    },
    {
      "cell_type": "markdown",
      "metadata": {
        "id": "MKuG5XS9zCi6"
      },
      "source": [
        "### Two sample walds test for cases for the state AZ"
      ]
    },
    {
      "cell_type": "code",
      "metadata": {
        "colab": {
          "base_uri": "https://localhost:8080/"
        },
        "id": "EqMgZxuE10NK",
        "outputId": "f3c532e6-8f89-4693-94ec-467d818d799a"
      },
      "source": [
        "print(\"Null hypothesis (H0):\")\n",
        "print(\"the mean of daily cases for March’21 is eqaul to the mean of daily cases for Feb’21 for state AZ\")\n",
        "print(\"Alternate hypothesis(H1):\")\n",
        "print(\"the mean of daily cases for March’21 is not equal to the mean of daily cases for Feb’21 for state AZ\")\n",
        "\n",
        "mcfAZ = az_feb_cases['cases_az'].mean()\n",
        "\n",
        "mcmAZ = az_march_cases['cases_az'].mean()\n",
        "\n",
        "num = mcfAZ - mcmAZ\n",
        "den = (mcfAZ/len(az_feb_cases)) + (mcmAZ/len(az_march_cases))\n",
        "den = math.sqrt(den)\n",
        "\n",
        "print(\"walds 2 sample testing statistic is |w|=\",abs(num/den),\" which is greater than z_alpha/2 = 1.96 so reject the NULL hypothesis\")"
      ],
      "execution_count": 202,
      "outputs": [
        {
          "output_type": "stream",
          "text": [
            "Null hypothesis (H0):\n",
            "the mean of daily cases for March’21 is eqaul to the mean of daily cases for Feb’21 for state AZ\n",
            "Alternate hypothesis(H1):\n",
            "the mean of daily cases for March’21 is not equal to the mean of daily cases for Feb’21 for state AZ\n",
            "walds 2 sample testing statistic is |w|= 134.02823750811478  which is greater than z_alpha/2 = 1.96 so reject the NULL hypothesis\n"
          ],
          "name": "stdout"
        }
      ]
    },
    {
      "cell_type": "markdown",
      "metadata": {
        "id": "dHinPrcPzEiY"
      },
      "source": [
        "### Two sample walds test for deaths for the state AR"
      ]
    },
    {
      "cell_type": "code",
      "metadata": {
        "colab": {
          "base_uri": "https://localhost:8080/"
        },
        "id": "QtQZpZ1m1qw_",
        "outputId": "7ad797b5-cbda-4a76-dfe8-1223bb26cd94"
      },
      "source": [
        "print(\"Null hypothesis (H0):\")\n",
        "print(\"the mean of daily deaths for March’21 is equal to the mean of daily deaths for Feb’21 for state AR\")\n",
        "print(\"Alternate hypothesis(H1):\")\n",
        "print(\"the mean of daily deaths for March’21 is not equal to the mean of daily deaths for Feb’21 for state AR\")\n",
        "\n",
        "mdfAR = ar_feb_d['deaths_ar'].mean()\n",
        "# print(mcfAR)\n",
        "\n",
        "mdmAR = ar_march_d['deaths_ar'].mean()\n",
        "# print(mcmAR)\n",
        "\n",
        "num = mdfAR - mdmAR\n",
        "den = (mdfAR/len(ar_feb_d)) + (mdmAR/len(ar_march_d))\n",
        "den = math.sqrt(den)\n",
        "\n",
        "print(\"walds 2 sample testing statistic is |w|=\",abs(num/den),\" which is greater than z_alpha/2 = 1.96 so reject the NULL hypothesis\")"
      ],
      "execution_count": 203,
      "outputs": [
        {
          "output_type": "stream",
          "text": [
            "Null hypothesis (H0):\n",
            "the mean of daily deaths for March’21 is equal to the mean of daily deaths for Feb’21 for state AR\n",
            "Alternate hypothesis(H1):\n",
            "the mean of daily deaths for March’21 is not equal to the mean of daily deaths for Feb’21 for state AR\n",
            "walds 2 sample testing statistic is |w|= 11.58885289733292  which is greater than z_alpha/2 = 1.96 so reject the NULL hypothesis\n"
          ],
          "name": "stdout"
        }
      ]
    },
    {
      "cell_type": "markdown",
      "metadata": {
        "id": "GUH0ZVSf2uKD"
      },
      "source": [
        "**Null hypothesis (H0):**\n",
        "\n",
        "the mean of daily deaths for March’21 is equal to the mean of daily deaths for Feb’21 for state AR\n",
        "\n",
        "**Alternate hypothesis(H1):**\n",
        "\n",
        "the mean of daily deaths for March’21 is not equal to the mean of daily deaths for Feb’21 for state AR\n",
        "\n",
        "walds 2 sample testing statistic is |w|= 11.58885289733292  which is greater than z_alpha/2 = 1.96 so reject the NULL hypothesis\n"
      ]
    },
    {
      "cell_type": "markdown",
      "metadata": {
        "id": "B6v2utZJzJI0"
      },
      "source": [
        "### Two sample walds test for deaths for the state AZ"
      ]
    },
    {
      "cell_type": "code",
      "metadata": {
        "colab": {
          "base_uri": "https://localhost:8080/"
        },
        "id": "cyxq35D-1pP2",
        "outputId": "2f55c0f1-81db-41ad-f567-e4157f4d487b"
      },
      "source": [
        "print(\"Null hypothesis (H0):\")\n",
        "print(\"the mean of daily deaths for March’21 is equal to the mean of daily deaths for Feb’21 for state AZ\")\n",
        "print(\"Alternate hypothesis(H1):\")\n",
        "print(\"the mean of daily deaths for March’21 is not equal to the mean of daily deaths for Feb’21 for state AZ\")\n",
        "\n",
        "mdfAZ = az_feb_d['deaths_az'].mean()\n",
        "# print(mcfAR)\n",
        "\n",
        "mdmAZ = az_march_d['deaths_az'].mean()\n",
        "# print(mcmAR)\n",
        "\n",
        "num = mdfAZ - mdmAZ\n",
        "den = (mdfAZ/len(az_feb_d)) + (mdmAZ/len(az_march_d))\n",
        "den = math.sqrt(den)\n",
        "\n",
        "print(\"walds 2 sample testing statistic is |w|=\",abs(num/den),\" which is greater than z_alpha/2 = 1.96 so reject the NULL hypothesis\")"
      ],
      "execution_count": 204,
      "outputs": [
        {
          "output_type": "stream",
          "text": [
            "Null hypothesis (H0):\n",
            "the mean of daily deaths for March’21 is equal to the mean of daily deaths for Feb’21 for state AZ\n",
            "Alternate hypothesis(H1):\n",
            "the mean of daily deaths for March’21 is not equal to the mean of daily deaths for Feb’21 for state AZ\n",
            "walds 2 sample testing statistic is |w|= 3.1069078221911486  which is greater than z_alpha/2 = 1.96 so reject the NULL hypothesis\n"
          ],
          "name": "stdout"
        }
      ]
    },
    {
      "cell_type": "markdown",
      "metadata": {
        "id": "oesdyj5720Qz"
      },
      "source": [
        "**Null hypothesis (H0):**\n",
        "\n",
        "the mean of daily deaths for March’21 is equal to the mean of daily deaths for Feb’21 for state AZ\n",
        "\n",
        "**Alternate hypothesis(H1):**\n",
        "\n",
        "the mean of daily deaths for March’21 is not equal to the mean of daily deaths for Feb’21 for state AZ\n",
        "\n",
        "walds 2 sample testing statistic is |w|= 3.1069078221911486  which is greater than z_alpha/2 = 1.96 so reject the NULL hypothesis\n"
      ]
    },
    {
      "cell_type": "markdown",
      "metadata": {
        "id": "6oGIYI18zN4V"
      },
      "source": [
        "### Unpaired t test for cases for the state AR"
      ]
    },
    {
      "cell_type": "code",
      "metadata": {
        "colab": {
          "base_uri": "https://localhost:8080/"
        },
        "id": "nwRQpeSo19dC",
        "outputId": "da1a877e-99eb-43d6-8165-162e6116fab3"
      },
      "source": [
        "print(\"Null hypothesis (H0):\")\n",
        "print(\"the mean of daily cases for March’21 is eqaul to the mean of daily cases for Feb’21 for state AR\")\n",
        "print(\"Alternate hypothesis(H1):\")\n",
        "print(\"the mean of daily cases for March’21 is not equal to the mean of daily cases for Feb’21 for state AR\")\n",
        "mcfAR = ar_feb_cases['cases_ar'].mean()\n",
        "\n",
        "mcmAR = ar_march_cases['cases_ar'].mean()\n",
        "\n",
        "# print(mcmAR)\n",
        "\n",
        "num = mcmAR - mcfAR\n",
        "\n",
        "sigmaFnum = 0\n",
        "for i in range(len(ar_feb_cases['cases_ar'])):\n",
        "    sigmaFnum = sigmaFnum + math.pow((ar_feb_cases['cases_ar'].mean() - ar_feb_cases['cases_ar'].iloc[i]),2)\n",
        "sigmaFnum = sigmaFnum / (len(ar_feb_cases['cases_ar'])-1)\n",
        "denF = sigmaFnum / len(ar_feb_cases['cases_ar'])\n",
        "\n",
        "sigmaMnum = 0\n",
        "for i in range(len(ar_march_cases['cases_ar'])):\n",
        "    sigmaMnum = sigmaMnum + math.pow((ar_march_cases['cases_ar'].mean() - ar_march_cases['cases_ar'].iloc[i]),2)\n",
        "sigmaMnum = sigmaMnum / (len(ar_march_cases['cases_ar'])-1)\n",
        "denM = sigmaMnum / len(ar_march_cases['cases_ar'])\n",
        "\n",
        "den = math.sqrt(denF + denM)\n",
        "\n",
        "print(\"T statistic |T|=\",abs(num/den),\"which is greater than t(\",len(ar_feb_cases['cases_ar'])+len(ar_march_cases['cases_ar'])-1,\",alpha/2)=2.30442596 so reject the NULL hypothesis\")\n",
        "\n"
      ],
      "execution_count": 205,
      "outputs": [
        {
          "output_type": "stream",
          "text": [
            "Null hypothesis (H0):\n",
            "the mean of daily cases for March’21 is eqaul to the mean of daily cases for Feb’21 for state AR\n",
            "Alternate hypothesis(H1):\n",
            "the mean of daily cases for March’21 is not equal to the mean of daily cases for Feb’21 for state AR\n",
            "T statistic |T|= 5.429454813091193 which is greater than t( 55 ,alpha/2)=2.30442596 so reject the NULL hypothesis\n"
          ],
          "name": "stdout"
        }
      ]
    },
    {
      "cell_type": "markdown",
      "metadata": {
        "id": "dYhW-gVV26cm"
      },
      "source": [
        "**Null hypothesis (H0):**\n",
        "\n",
        "the mean of daily cases for March’21 is eqaul to the mean of daily cases for Feb’21 for state AR\n",
        "\n",
        "**Alternate hypothesis(H1):**\n",
        "\n",
        "the mean of daily cases for March’21 is not equal to the mean of daily cases for Feb’21 for state AR\n",
        "\n",
        "T statistic |T|= 5.429454813091193 which is greater than t( 55 ,alpha/2)=2.30442596 so reject the NULL hypothesis\n"
      ]
    },
    {
      "cell_type": "markdown",
      "metadata": {
        "id": "PLshvdMdzWea"
      },
      "source": [
        "### Unpaired t test for cases for the state AZ"
      ]
    },
    {
      "cell_type": "code",
      "metadata": {
        "colab": {
          "base_uri": "https://localhost:8080/"
        },
        "id": "8uth4tsI4rho",
        "outputId": "fb943ce8-b746-44bf-ecb1-34af4ac309ae"
      },
      "source": [
        "### FOR CASES IN AZ\n",
        "print(\"Null hypothesis (H0):\")\n",
        "print(\"the mean of daily cases for March’21 is eqaul to the mean of daily cases for Feb’21 for state AZ\")\n",
        "print(\"Alternate hypothesis(H1):\")\n",
        "print(\"the mean of daily cases for March’21 is not equal to the mean of daily cases for Feb’21 for state AZ\")\n",
        "mcfAR = az_feb_cases['cases_az'].mean()\n",
        "\n",
        "mcmAR = az_march_cases['cases_az'].mean()\n",
        "# print(mcmAR)\n",
        "\n",
        "num = mcmAR - mcfAR\n",
        "\n",
        "sigmaFnum = 0\n",
        "for i in range(len(az_feb_cases['cases_az'])):\n",
        "    sigmaFnum = sigmaFnum + math.pow((az_feb_cases['cases_az'].mean() - az_feb_cases['cases_az'].iloc[i]),2)\n",
        "sigmaFnum = sigmaFnum / (len(az_feb_cases['cases_az'])-1)\n",
        "denF = sigmaFnum / len(az_feb_cases['cases_az'])\n",
        "\n",
        "sigmaMnum = 0\n",
        "for i in range(len(az_march_cases['cases_az'])):\n",
        "    sigmaMnum = sigmaMnum + math.pow((az_march_cases['cases_az'].mean() - az_march_cases['cases_az'].iloc[i]),2)\n",
        "sigmaMnum = sigmaMnum / (len(az_march_cases['cases_az'])-1)\n",
        "denM = sigmaMnum / len(az_march_cases['cases_az'])\n",
        "\n",
        "den = math.sqrt(denF + denM)\n",
        "\n",
        "print(\"T statistic |T|=\",abs(num/den),\"which is greater than t(\",len(az_feb_cases['cases_az'])+len(az_march_cases['cases_az'])-1,\",alpha/2)=2.30442596 so reject the NULL hypothesis\")\n",
        "\n"
      ],
      "execution_count": 206,
      "outputs": [
        {
          "output_type": "stream",
          "text": [
            "Null hypothesis (H0):\n",
            "the mean of daily cases for March’21 is eqaul to the mean of daily cases for Feb’21 for state AZ\n",
            "Alternate hypothesis(H1):\n",
            "the mean of daily cases for March’21 is not equal to the mean of daily cases for Feb’21 for state AZ\n",
            "T statistic |T|= 4.891790301401789 which is greater than t( 58 ,alpha/2)=2.30442596 so reject the NULL hypothesis\n"
          ],
          "name": "stdout"
        }
      ]
    },
    {
      "cell_type": "markdown",
      "metadata": {
        "id": "k1_YE1MS3CeI"
      },
      "source": [
        "**Null hypothesis (H0):**\n",
        "\n",
        "the mean of daily cases for March’21 is eqaul to the mean of daily cases for Feb’21 for state AZ\n",
        "\n",
        "**Alternate hypothesis(H1):**\n",
        "\n",
        "the mean of daily cases for March’21 is not equal to the mean of daily cases for Feb’21 for state AZ\n",
        "\n",
        "T statistic |T|= 4.891790301401789 which is greater than t( 58 ,alpha/2)=2.30442596 so reject the NULL hypothesis\n"
      ]
    },
    {
      "cell_type": "markdown",
      "metadata": {
        "id": "3GOQKBqpzYGX"
      },
      "source": [
        "### Unpaired t test for deaths for the state AR"
      ]
    },
    {
      "cell_type": "code",
      "metadata": {
        "colab": {
          "base_uri": "https://localhost:8080/"
        },
        "id": "lKJdJ_v64zJo",
        "outputId": "6dcf9a2c-ffe3-4640-f89b-03b73c3e8260"
      },
      "source": [
        "### FOR CASES IN AR\n",
        "print(\"Null hypothesis (H0):\")\n",
        "print(\"the mean of daily deaths for March’21 is eqaul to the mean of daily deaths for Feb’21 for state AR\")\n",
        "print(\"Alternate hypothesis(H1):\")\n",
        "print(\"the mean of daily deaths for March’21 is not equal to the mean of daily deaths for Feb’21 for state AR\")\n",
        "\n",
        "mcfAR = ar_feb_d['deaths_ar'].mean()\n",
        "\n",
        "mcmAR = ar_march_d['deaths_ar'].mean()\n",
        "# print(mcmAR)\n",
        "\n",
        "num = mcmAR - mcfAR\n",
        "\n",
        "sigmaFnum = 0\n",
        "for i in range(len(ar_feb_d)):\n",
        "    sigmaFnum = sigmaFnum + math.pow((ar_feb_d['deaths_ar'].mean() - ar_feb_d['deaths_ar'].iloc[i]),2)\n",
        "sigmaFnum = sigmaFnum / (len(ar_feb_d['deaths_ar'])-1)\n",
        "denF = sigmaFnum / len(ar_feb_d['deaths_ar'])\n",
        "\n",
        "sigmaMnum = 0\n",
        "for i in range(len(ar_march_d['deaths_ar'])):\n",
        "    sigmaMnum = sigmaMnum + math.pow((ar_march_d['deaths_ar'].mean() - ar_march_d['deaths_ar'].iloc[i]),2)\n",
        "sigmaMnum = sigmaMnum / (len(ar_march_d['deaths_ar'])-1)\n",
        "denM = sigmaMnum / len(ar_march_d['deaths_ar'])\n",
        "\n",
        "den = math.sqrt(denF + denM)\n",
        "print(\"T statistic |T|=\",abs(num/den),\"which is greater than t(\",len(ar_feb_d['deaths_ar'])+len(ar_march_d['deaths_ar'])-1,\",alpha/2)=2.30442596 so reject the NULL hypothesis\")\n"
      ],
      "execution_count": 207,
      "outputs": [
        {
          "output_type": "stream",
          "text": [
            "Null hypothesis (H0):\n",
            "the mean of daily deaths for March’21 is eqaul to the mean of daily deaths for Feb’21 for state AR\n",
            "Alternate hypothesis(H1):\n",
            "the mean of daily deaths for March’21 is not equal to the mean of daily deaths for Feb’21 for state AR\n",
            "T statistic |T|= 4.699150987256173 which is greater than t( 57 ,alpha/2)=2.30442596 so reject the NULL hypothesis\n"
          ],
          "name": "stdout"
        }
      ]
    },
    {
      "cell_type": "markdown",
      "metadata": {
        "id": "u1JARfQ93H-X"
      },
      "source": [
        "**Null hypothesis (H0):**\n",
        "\n",
        "the mean of daily deaths for March’21 is eqaul to the mean of daily deaths for Feb’21 for state AR\n",
        "\n",
        "**Alternate hypothesis(H1):**\n",
        "\n",
        "the mean of daily deaths for March’21 is not equal to the mean of daily deaths for Feb’21 for state AR\n",
        "\n",
        "T statistic |T|= 4.699150987256173 which is greater than t( 57 ,alpha/2)=2.30442596 so reject the NULL hypothesis\n"
      ]
    },
    {
      "cell_type": "markdown",
      "metadata": {
        "id": "mcIt-8tKzaUn"
      },
      "source": [
        "### Unpaired t test for deaths for the state AZ"
      ]
    },
    {
      "cell_type": "code",
      "metadata": {
        "colab": {
          "base_uri": "https://localhost:8080/"
        },
        "id": "vjQzy80b424x",
        "outputId": "647c40d2-6b18-4ab2-bd30-4305bb611a8c"
      },
      "source": [
        "### FOR deaths IN AZ\n",
        "\n",
        "print(\"Null hypothesis (H0):\")\n",
        "print(\"the mean of daily deaths for March’21 is eqaul to the mean of daily deaths for Feb’21 for state AZ\")\n",
        "print(\"Alternate hypothesis(H1):\")\n",
        "print(\"the mean of daily deaths for March’21 is not equal to the mean of daily deaths for Feb’21 for state AZ\")\n",
        "mcfAR = az_feb_d['deaths_az'].mean()\n",
        "\n",
        "mcmAR = az_march_d['deaths_az'].mean()\n",
        "# print(mcmAR)\n",
        "\n",
        "num = mcmAR - mcfAR\n",
        "\n",
        "sigmaFnum = 0\n",
        "for i in range(len(az_feb_d['deaths_az'])):\n",
        "    sigmaFnum = sigmaFnum + math.pow((az_feb_d['deaths_az'].mean() - az_feb_d['deaths_az'].iloc[i]),2)\n",
        "sigmaFnum = sigmaFnum / (len(az_feb_d['deaths_az'])-1)\n",
        "denF = sigmaFnum / len(az_feb_d['deaths_az'])\n",
        "\n",
        "sigmaMnum = 0\n",
        "for i in range(len(az_march_d['deaths_az'])):\n",
        "    sigmaMnum = sigmaMnum + math.pow((az_march_d['deaths_az'].mean() - az_march_d['deaths_az'].iloc[i]),2)\n",
        "sigmaMnum = sigmaMnum / (len(az_march_d['deaths_az'])-1)\n",
        "denM = sigmaMnum / len(az_march_d['deaths_az'])\n",
        "\n",
        "den = math.sqrt(denF + denM)\n",
        "\n",
        "print(\"T statistic |T|=\",abs(num/den),\"which is less than t(\",len(az_feb_d['deaths_az'])+len(az_march_d['deaths_az'])-1,\",alpha/2)= 2.30442596 so fail to reject the NULL hypothesis\")"
      ],
      "execution_count": 208,
      "outputs": [
        {
          "output_type": "stream",
          "text": [
            "Null hypothesis (H0):\n",
            "the mean of daily deaths for March’21 is eqaul to the mean of daily deaths for Feb’21 for state AZ\n",
            "Alternate hypothesis(H1):\n",
            "the mean of daily deaths for March’21 is not equal to the mean of daily deaths for Feb’21 for state AZ\n",
            "T statistic |T|= 0.5362318941822285 which is less than t( 45 ,alpha/2)= 2.30442596 so fail to reject the NULL hypothesis\n"
          ],
          "name": "stdout"
        }
      ]
    },
    {
      "cell_type": "markdown",
      "metadata": {
        "id": "GGYGUTxr3NII"
      },
      "source": [
        "**Null hypothesis (H0):**\n",
        "\n",
        "the mean of daily deaths for March’21 is eqaul to the mean of daily deaths for Feb’21 for state AZ\n",
        "\n",
        "**Alternate hypothesis(H1):**\n",
        "\n",
        "the mean of daily deaths for March’21 is not equal to the mean of daily deaths for Feb’21 for state AZ\n",
        "\n",
        "T statistic |T|= 0.5362318941822285 which is less than t( 45 ,alpha/2)= 2.30442596 so fail to reject the NULL hypothesis\n"
      ]
    },
    {
      "cell_type": "markdown",
      "metadata": {
        "id": "_mp8WRfCaOKq"
      },
      "source": [
        "## Inference 3"
      ]
    },
    {
      "cell_type": "code",
      "metadata": {
        "id": "MRoHlHLZz9wL"
      },
      "source": [
        ""
      ],
      "execution_count": 208,
      "outputs": []
    },
    {
      "cell_type": "markdown",
      "metadata": {
        "id": "TaStlLvUhdH1"
      },
      "source": [
        "### KS One Population test for cases"
      ]
    },
    {
      "cell_type": "code",
      "metadata": {
        "id": "b2z7Ac2-aRbV"
      },
      "source": [
        "df = pd.read_csv('processed_cases_ar.csv')\n",
        "data = df.to_numpy()\n",
        "data = data[253:333, :]"
      ],
      "execution_count": 209,
      "outputs": []
    },
    {
      "cell_type": "code",
      "metadata": {
        "colab": {
          "base_uri": "https://localhost:8080/"
        },
        "id": "RpdMTzlBbL1S",
        "outputId": "534944b9-8c8f-4cea-b910-99aeb540486a"
      },
      "source": [
        "data"
      ],
      "execution_count": 210,
      "outputs": [
        {
          "output_type": "execute_result",
          "data": {
            "text/plain": [
              "array([[253, '2020-10-01', 1124.0],\n",
              "       [254, '2020-10-02', 958.0],\n",
              "       [255, '2020-10-03', 746.0],\n",
              "       [256, '2020-10-04', 488.0],\n",
              "       [257, '2020-10-05', 417.0],\n",
              "       [258, '2020-10-06', 641.0],\n",
              "       [259, '2020-10-07', 809.0],\n",
              "       [260, '2020-10-08', 1265.0],\n",
              "       [261, '2020-10-09', 1167.0],\n",
              "       [262, '2020-10-10', 908.0],\n",
              "       [263, '2020-10-11', 613.0],\n",
              "       [264, '2020-10-12', 654.0],\n",
              "       [265, '2020-10-13', 680.0],\n",
              "       [266, '2020-10-14', 1079.0],\n",
              "       [267, '2020-10-15', 1278.0],\n",
              "       [268, '2020-10-16', 1015.0],\n",
              "       [269, '2020-10-17', 883.0],\n",
              "       [270, '2020-10-18', 644.0],\n",
              "       [271, '2020-10-19', 531.0],\n",
              "       [272, '2020-10-20', 844.0],\n",
              "       [273, '2020-10-21', 1155.0],\n",
              "       [274, '2020-10-22', 1202.0],\n",
              "       [275, '2020-10-23', 1337.0],\n",
              "       [276, '2020-10-24', 1183.0],\n",
              "       [277, '2020-10-25', 797.0],\n",
              "       [278, '2020-10-26', 612.0],\n",
              "       [279, '2020-10-27', 952.0],\n",
              "       [280, '2020-10-28', 961.0],\n",
              "       [281, '2020-10-29', 1072.0],\n",
              "       [282, '2020-10-30', 1162.0],\n",
              "       [283, '2020-10-31', 1316.0],\n",
              "       [284, '2020-11-01', 864.0],\n",
              "       [285, '2020-11-02', 586.0],\n",
              "       [286, '2020-11-03', 873.0],\n",
              "       [287, '2020-11-04', 1292.0],\n",
              "       [288, '2020-11-05', 1555.0],\n",
              "       [289, '2020-11-06', 1870.0],\n",
              "       [290, '2020-11-07', 1598.0],\n",
              "       [291, '2020-11-08', 1038.0],\n",
              "       [292, '2020-11-09', 945.0],\n",
              "       [293, '2020-11-10', 1424.0],\n",
              "       [294, '2020-11-11', 1962.0],\n",
              "       [295, '2020-11-12', 1809.0],\n",
              "       [296, '2020-11-13', 2311.0],\n",
              "       [297, '2020-11-14', 1846.0],\n",
              "       [298, '2020-11-15', 876.0],\n",
              "       [299, '2020-11-16', 1307.0],\n",
              "       [300, '2020-11-17', 1556.0],\n",
              "       [301, '2020-11-18', 1715.0],\n",
              "       [302, '2020-11-19', 2238.0],\n",
              "       [303, '2020-11-20', 2061.0],\n",
              "       [304, '2020-11-21', 1905.0],\n",
              "       [305, '2020-11-22', 1352.0],\n",
              "       [306, '2020-11-23', 1017.0],\n",
              "       [307, '2020-11-24', 2122.0],\n",
              "       [308, '2020-11-25', 1965.0],\n",
              "       [309, '2020-11-26', 2347.0],\n",
              "       [310, '2020-11-27', 1053.0],\n",
              "       [311, '2020-11-28', 1349.0],\n",
              "       [312, '2020-11-29', 1221.0],\n",
              "       [313, '2020-11-30', 1112.0],\n",
              "       [314, '2020-12-01', 1950.0],\n",
              "       [315, '2020-12-02', 2212.0],\n",
              "       [318, '2020-12-05', 2245.0],\n",
              "       [319, '2020-12-06', 1543.0],\n",
              "       [320, '2020-12-07', 1119.0],\n",
              "       [321, '2020-12-08', 2283.0],\n",
              "       [322, '2020-12-09', 2327.0],\n",
              "       [323, '2020-12-10', 2202.0],\n",
              "       [326, '2020-12-13', 1450.0],\n",
              "       [327, '2020-12-14', 1355.0],\n",
              "       [328, '2020-12-15', 2141.0],\n",
              "       [329, '2020-12-16', 2306.0],\n",
              "       [333, '2020-12-20', 1537.0],\n",
              "       [334, '2020-12-21', 1457.0],\n",
              "       [335, '2020-12-22', 1941.0],\n",
              "       [338, '2020-12-25', 2122.0],\n",
              "       [339, '2020-12-26', 702.0],\n",
              "       [340, '2020-12-27', 908.0],\n",
              "       [341, '2020-12-28', 1651.0]], dtype=object)"
            ]
          },
          "metadata": {
            "tags": []
          },
          "execution_count": 210
        }
      ]
    },
    {
      "cell_type": "code",
      "metadata": {
        "id": "HOp4VqJ6bMcA"
      },
      "source": [
        "cases_ar = data[:, 2]\n",
        "cases_sample_mean = np.mean(cases_ar)\n",
        "cases_sample_variance = np.var(cases_ar)\n",
        "cases_mme_poisson = cases_sample_mean\n",
        "cases_mme_geometric = 1/cases_sample_mean\n",
        "cases_mme_p_binomial = 1 - cases_sample_variance / cases_sample_mean\n",
        "cases_mme_n_binomial = cases_sample_mean**2/(cases_sample_mean-cases_sample_variance)"
      ],
      "execution_count": 211,
      "outputs": []
    },
    {
      "cell_type": "code",
      "metadata": {
        "colab": {
          "base_uri": "https://localhost:8080/"
        },
        "id": "3sitScuZb6h5",
        "outputId": "aaad2953-4ab4-4730-92e5-54b8dd2416b6"
      },
      "source": [
        "print(cases_mme_poisson)\n",
        "print(cases_mme_geometric)\n",
        "print(cases_mme_n_binomial)\n",
        "print(cases_mme_p_binomial)"
      ],
      "execution_count": 212,
      "outputs": [
        {
          "output_type": "stream",
          "text": [
            "1338.9125\n",
            "0.0007468747957764231\n",
            "-6.167274072287688\n",
            "-217.0995620279518\n"
          ],
          "name": "stdout"
        }
      ]
    },
    {
      "cell_type": "code",
      "metadata": {
        "id": "LmgWJRYmcN2M"
      },
      "source": [
        "df = pd.read_csv('processed_cases_az.csv')\n",
        "data = df.to_numpy()\n",
        "data = data[253:335, :]"
      ],
      "execution_count": 213,
      "outputs": []
    },
    {
      "cell_type": "code",
      "metadata": {
        "colab": {
          "base_uri": "https://localhost:8080/"
        },
        "id": "8EZOle96cSlp",
        "outputId": "4a9cf24d-e4ed-4050-9bbd-a8488186aeba"
      },
      "source": [
        "data"
      ],
      "execution_count": 214,
      "outputs": [
        {
          "output_type": "execute_result",
          "data": {
            "text/plain": [
              "array([[253, '2020-10-01', 705.0],\n",
              "       [254, '2020-10-02', 551.0],\n",
              "       [255, '2020-10-03', 636.0],\n",
              "       [256, '2020-10-04', 355.0],\n",
              "       [257, '2020-10-05', 316.0],\n",
              "       [258, '2020-10-06', 864.0],\n",
              "       [259, '2020-10-07', 604.0],\n",
              "       [260, '2020-10-08', 863.0],\n",
              "       [261, '2020-10-09', 683.0],\n",
              "       [262, '2020-10-10', 894.0],\n",
              "       [263, '2020-10-11', 597.0],\n",
              "       [264, '2020-10-12', 475.0],\n",
              "       [265, '2020-10-13', 684.0],\n",
              "       [266, '2020-10-14', 901.0],\n",
              "       [267, '2020-10-15', 1113.0],\n",
              "       [268, '2020-10-16', 738.0],\n",
              "       [269, '2020-10-17', 921.0],\n",
              "       [270, '2020-10-18', 742.0],\n",
              "       [271, '2020-10-19', 714.0],\n",
              "       [272, '2020-10-20', 1074.0],\n",
              "       [273, '2020-10-21', 975.0],\n",
              "       [274, '2020-10-22', 994.0],\n",
              "       [275, '2020-10-23', 976.0],\n",
              "       [276, '2020-10-24', 890.0],\n",
              "       [277, '2020-10-25', 1391.0],\n",
              "       [278, '2020-10-26', 800.0],\n",
              "       [279, '2020-10-27', 1157.0],\n",
              "       [280, '2020-10-28', 1045.0],\n",
              "       [281, '2020-10-29', 1315.0],\n",
              "       [282, '2020-10-30', 1565.0],\n",
              "       [283, '2020-10-31', 1901.0],\n",
              "       [284, '2020-11-01', 1527.0],\n",
              "       [285, '2020-11-02', 666.0],\n",
              "       [286, '2020-11-03', 1679.0],\n",
              "       [287, '2020-11-04', 815.0],\n",
              "       [288, '2020-11-05', 2134.0],\n",
              "       [289, '2020-11-06', 1997.0],\n",
              "       [290, '2020-11-07', 2620.0],\n",
              "       [291, '2020-11-08', 1880.0],\n",
              "       [292, '2020-11-09', 435.0],\n",
              "       [293, '2020-11-10', 3434.0],\n",
              "       [294, '2020-11-11', 2030.0],\n",
              "       [295, '2020-11-12', 1399.0],\n",
              "       [296, '2020-11-13', 3015.0],\n",
              "       [297, '2020-11-14', 3476.0],\n",
              "       [298, '2020-11-15', 2382.0],\n",
              "       [299, '2020-11-16', 1477.0],\n",
              "       [300, '2020-11-17', 2984.0],\n",
              "       [301, '2020-11-18', 3206.0],\n",
              "       [302, '2020-11-19', 4123.0],\n",
              "       [303, '2020-11-20', 4471.0],\n",
              "       [304, '2020-11-21', 3638.0],\n",
              "       [305, '2020-11-22', 4331.0],\n",
              "       [306, '2020-11-23', 2659.0],\n",
              "       [307, '2020-11-24', 4544.0],\n",
              "       [308, '2020-11-25', 3981.0],\n",
              "       [309, '2020-11-26', 3477.0],\n",
              "       [310, '2020-11-27', 4312.0],\n",
              "       [311, '2020-11-28', 4136.0],\n",
              "       [312, '2020-11-29', 3221.0],\n",
              "       [313, '2020-11-30', 822.0],\n",
              "       [315, '2020-12-02', 3840.0],\n",
              "       [316, '2020-12-03', 5442.0],\n",
              "       [317, '2020-12-04', 5680.0],\n",
              "       [319, '2020-12-06', 5376.0],\n",
              "       [320, '2020-12-07', 1567.0],\n",
              "       [322, '2020-12-09', 4444.0],\n",
              "       [323, '2020-12-10', 4928.0],\n",
              "       [328, '2020-12-15', 4451.0],\n",
              "       [329, '2020-12-16', 4837.0],\n",
              "       [330, '2020-12-17', 5817.0],\n",
              "       [332, '2020-12-19', 5560.0],\n",
              "       [333, '2020-12-20', 5366.0],\n",
              "       [334, '2020-12-21', 0.0],\n",
              "       [335, '2020-12-22', 0.0],\n",
              "       [336, '2020-12-23', 0.0],\n",
              "       [337, '2020-12-24', 0.0],\n",
              "       [338, '2020-12-25', 0.0],\n",
              "       [339, '2020-12-26', 0.0],\n",
              "       [340, '2020-12-27', 0.0],\n",
              "       [342, '2020-12-29', 2799.0],\n",
              "       [343, '2020-12-30', 5267.0]], dtype=object)"
            ]
          },
          "metadata": {
            "tags": []
          },
          "execution_count": 214
        }
      ]
    },
    {
      "cell_type": "code",
      "metadata": {
        "colab": {
          "base_uri": "https://localhost:8080/",
          "height": 282
        },
        "id": "n59NEY8GcTu3",
        "outputId": "457e2e11-7126-4645-bf66-da165d567d04"
      },
      "source": [
        "cases_az = data[:, 2]\n",
        "cases_az = np.sort(cases_az)\n",
        "cdf_y = np.array([])\n",
        "cdf = 0\n",
        "n = len(cases_az)\n",
        "max_diff = 0\n",
        "poisson_cdf = np.array([])\n",
        "for i in cases_az:\n",
        "    poisson_point = poisson.cdf(i, cases_mme_poisson)\n",
        "    poisson_cdf = np.append(poisson_cdf, poisson_point)\n",
        "    if max_diff < np.abs(cdf-poisson_point):\n",
        "        max_diff = np.abs(cdf-poisson_point)\n",
        "    cdf += 1/n\n",
        "    cdf_y = np.append(cdf_y, cdf)\n",
        "\n",
        "plt.step(cases_az, cdf_y)\n",
        "plt.plot(cases_az, poisson_cdf)\n",
        "plt.show()\n",
        "print(max_diff)"
      ],
      "execution_count": 215,
      "outputs": [
        {
          "output_type": "display_data",
          "data": {
            "image/png": "[encoded data removed]",
            "text/plain": [
              "<Figure size 432x288 with 1 Axes>"
            ]
          },
          "metadata": {
            "tags": [],
            "needs_background": "light"
          }
        },
        {
          "output_type": "stream",
          "text": [
            "0.49990398129899105\n"
          ],
          "name": "stdout"
        }
      ]
    },
    {
      "cell_type": "markdown",
      "metadata": {
        "id": "JmcKhLnPmBKs"
      },
      "source": [
        "Null hypothesis : Cases AR(Poission distr) and Cases AZ distribution is same.\n",
        "\n",
        "Alternate Hypothesis: Cases AR(Poission distr) and Cases AZ distributions are different.\n",
        "\n",
        "Because p value = 0.49 > 0.05, we reject null hypothesis."
      ]
    },
    {
      "cell_type": "code",
      "metadata": {
        "colab": {
          "base_uri": "https://localhost:8080/",
          "height": 282
        },
        "id": "fkmHyquOdHxL",
        "outputId": "2359c134-b843-471a-9631-2b4f551f6b50"
      },
      "source": [
        "cdf_y = np.array([])\n",
        "cdf = 0\n",
        "max_diff = 0\n",
        "geom_cdf = np.array([])\n",
        "for i in cases_az:\n",
        "    geom_point = geom.cdf(i, cases_mme_geometric)\n",
        "    geom_cdf = np.append(geom_cdf, geom_point)\n",
        "    if max_diff < np.abs(cdf - geom_point):\n",
        "        max_diff = np.abs(cdf - geom_point)\n",
        "    cdf += 1 / n\n",
        "    cdf_y = np.append(cdf_y, cdf)\n",
        "\n",
        "plt.step(cases_az, cdf_y)\n",
        "plt.plot(cases_az, geom_cdf)\n",
        "plt.show()\n",
        "print(max_diff)"
      ],
      "execution_count": 216,
      "outputs": [
        {
          "output_type": "display_data",
          "data": {
            "image/png": "[encoded data removed]",
            "text/plain": [
              "<Figure size 432x288 with 1 Axes>"
            ]
          },
          "metadata": {
            "tags": [],
            "needs_background": "light"
          }
        },
        {
          "output_type": "stream",
          "text": [
            "0.22464873365371807\n"
          ],
          "name": "stdout"
        }
      ]
    },
    {
      "cell_type": "markdown",
      "metadata": {
        "id": "nHBVJCxGnAtU"
      },
      "source": [
        "Null hypothesis : Cases AR(Geometric distr) and Cases AZ distribution is same.\n",
        "\n",
        "Alternate Hypothesis: Cases AR(Geomoetric distr) and Cases AZ distributions are different.\n",
        "\n",
        "Because p value = 0.224 > 0.05, we reject null hypothesis."
      ]
    },
    {
      "cell_type": "code",
      "metadata": {
        "colab": {
          "base_uri": "https://localhost:8080/",
          "height": 282
        },
        "id": "5NEdBsvQdYx7",
        "outputId": "a836da03-38fd-4941-c8de-71dbc46bb9da"
      },
      "source": [
        "cdf_y = np.array([])\n",
        "cdf = 0\n",
        "max_diff = 0\n",
        "binom_cdf = np.array([])\n",
        "for i in cases_az:\n",
        "    binom_point = binom.cdf(i, cases_mme_n_binomial, cases_mme_p_binomial)\n",
        "    binom_cdf = np.append(binom_cdf, binom_point)\n",
        "    if max_diff < np.abs(cdf - binom_point):\n",
        "        max_diff = np.abs(cdf - binom_point)\n",
        "    cdf += 1 / n\n",
        "    cdf_y = np.append(cdf_y, cdf)\n",
        "\n",
        "plt.step(cases_az, cdf_y)\n",
        "plt.plot(cases_az, binom_cdf)\n",
        "plt.show()\n",
        "print(max_diff)"
      ],
      "execution_count": 217,
      "outputs": [
        {
          "output_type": "display_data",
          "data": {
            "image/png": "[encoded data removed]",
            "text/plain": [
              "<Figure size 432x288 with 1 Axes>"
            ]
          },
          "metadata": {
            "tags": [],
            "needs_background": "light"
          }
        },
        {
          "output_type": "stream",
          "text": [
            "1.0\n"
          ],
          "name": "stdout"
        }
      ]
    },
    {
      "cell_type": "markdown",
      "metadata": {
        "id": "znBrtNUynVdL"
      },
      "source": [
        "Null hypothesis : Cases AR(Binomial distr) and Cases AZ distribution is same.\n",
        "\n",
        "Alternate Hypothesis: Cases AR(Binomial distr) and Cases AZ distributions are different.\n",
        "\n",
        "Because p value = 1.0 > 0.05, we reject null hypothesis."
      ]
    },
    {
      "cell_type": "markdown",
      "metadata": {
        "id": "GcdiCFRNhUHe"
      },
      "source": [
        "\n",
        "\n",
        "\n",
        "\n",
        "### KS One Population test for deaths"
      ]
    },
    {
      "cell_type": "code",
      "metadata": {
        "id": "aRhEc4naeL-z"
      },
      "source": [
        "df = pd.read_csv('processed_deaths_ar.csv')\n",
        "data = df.to_numpy()\n",
        "data = data[252:336, :]"
      ],
      "execution_count": 218,
      "outputs": []
    },
    {
      "cell_type": "code",
      "metadata": {
        "colab": {
          "base_uri": "https://localhost:8080/"
        },
        "id": "ID2Vfm9qegUN",
        "outputId": "10bb7d2e-6c07-415e-90b9-fb9a6f72b5fc"
      },
      "source": [
        "data"
      ],
      "execution_count": 219,
      "outputs": [
        {
          "output_type": "execute_result",
          "data": {
            "text/plain": [
              "array([[253, '2020-10-01', 15.0],\n",
              "       [254, '2020-10-02', 7.0],\n",
              "       [255, '2020-10-03', 16.0],\n",
              "       [256, '2020-10-04', 18.0],\n",
              "       [257, '2020-10-05', 22.0],\n",
              "       [258, '2020-10-06', 22.0],\n",
              "       [259, '2020-10-07', 13.0],\n",
              "       [260, '2020-10-08', 21.0],\n",
              "       [261, '2020-10-09', 27.0],\n",
              "       [262, '2020-10-10', 22.0],\n",
              "       [263, '2020-10-11', 17.0],\n",
              "       [264, '2020-10-12', 17.0],\n",
              "       [265, '2020-10-13', 25.0],\n",
              "       [266, '2020-10-14', 23.0],\n",
              "       [267, '2020-10-15', 11.0],\n",
              "       [268, '2020-10-16', 20.0],\n",
              "       [269, '2020-10-17', 19.0],\n",
              "       [270, '2020-10-18', 20.0],\n",
              "       [271, '2020-10-19', 10.0],\n",
              "       [272, '2020-10-20', 14.0],\n",
              "       [273, '2020-10-21', 23.0],\n",
              "       [274, '2020-10-22', 21.0],\n",
              "       [275, '2020-10-23', 10.0],\n",
              "       [276, '2020-10-24', 15.0],\n",
              "       [277, '2020-10-25', 15.0],\n",
              "       [278, '2020-10-26', 17.0],\n",
              "       [279, '2020-10-27', 25.0],\n",
              "       [280, '2020-10-28', 17.0],\n",
              "       [281, '2020-10-29', 18.0],\n",
              "       [282, '2020-10-30', 6.0],\n",
              "       [283, '2020-10-31', 29.0],\n",
              "       [284, '2020-11-01', 33.0],\n",
              "       [285, '2020-11-02', 26.0],\n",
              "       [286, '2020-11-03', 18.0],\n",
              "       [287, '2020-11-04', 24.0],\n",
              "       [288, '2020-11-05', 11.0],\n",
              "       [289, '2020-11-06', 18.0],\n",
              "       [290, '2020-11-07', 12.0],\n",
              "       [291, '2020-11-08', 17.0],\n",
              "       [292, '2020-11-09', 23.0],\n",
              "       [293, '2020-11-10', 3.0],\n",
              "       [294, '2020-11-11', 13.0],\n",
              "       [295, '2020-11-12', 18.0],\n",
              "       [296, '2020-11-13', 4.0],\n",
              "       [297, '2020-11-14', 11.0],\n",
              "       [298, '2020-11-15', 25.0],\n",
              "       [299, '2020-11-16', 42.0],\n",
              "       [300, '2020-11-17', 20.0],\n",
              "       [301, '2020-11-18', 30.0],\n",
              "       [302, '2020-11-19', 21.0],\n",
              "       [303, '2020-11-20', 24.0],\n",
              "       [304, '2020-11-21', 12.0],\n",
              "       [305, '2020-11-22', 20.0],\n",
              "       [306, '2020-11-23', 27.0],\n",
              "       [307, '2020-11-24', 18.0],\n",
              "       [308, '2020-11-25', 20.0],\n",
              "       [309, '2020-11-26', 11.0],\n",
              "       [310, '2020-11-27', 0.0],\n",
              "       [311, '2020-11-28', 11.0],\n",
              "       [312, '2020-11-29', 34.0],\n",
              "       [313, '2020-11-30', 32.0],\n",
              "       [314, '2020-12-01', 10.0],\n",
              "       [315, '2020-12-02', 10.0],\n",
              "       [316, '2020-12-03', 33.0],\n",
              "       [317, '2020-12-04', 31.0],\n",
              "       [318, '2020-12-05', 34.0],\n",
              "       [319, '2020-12-06', 40.0],\n",
              "       [321, '2020-12-08', 38.0],\n",
              "       [322, '2020-12-09', 34.0],\n",
              "       [323, '2020-12-10', 34.0],\n",
              "       [325, '2020-12-12', 36.0],\n",
              "       [326, '2020-12-13', 34.0],\n",
              "       [327, '2020-12-14', 45.0],\n",
              "       [328, '2020-12-15', 27.0],\n",
              "       [330, '2020-12-17', 39.0],\n",
              "       [331, '2020-12-18', 27.0],\n",
              "       [335, '2020-12-22', 43.0],\n",
              "       [336, '2020-12-23', 36.0],\n",
              "       [337, '2020-12-24', 32.0],\n",
              "       [338, '2020-12-25', 32.0],\n",
              "       [339, '2020-12-26', 3.0],\n",
              "       [340, '2020-12-27', 41.0],\n",
              "       [343, '2020-12-30', 34.0],\n",
              "       [344, '2020-12-31', 39.0]], dtype=object)"
            ]
          },
          "metadata": {
            "tags": []
          },
          "execution_count": 219
        }
      ]
    },
    {
      "cell_type": "code",
      "metadata": {
        "id": "EhI_hTF1eG2b"
      },
      "source": [
        "deaths_ar = data[:, 2]\n",
        "deaths_sample_mean = np.mean(deaths_ar)\n",
        "deaths_sample_variance = np.var(deaths_ar)\n",
        "deaths_mme_poisson = deaths_sample_mean\n",
        "deaths_mme_geometric = 1 / deaths_sample_mean\n",
        "deaths_mme_p_binomial = 1 - deaths_sample_variance / deaths_sample_mean\n",
        "deaths_mme_n_binomial = deaths_sample_mean ** 2 / (deaths_sample_mean - deaths_sample_variance)"
      ],
      "execution_count": 220,
      "outputs": []
    },
    {
      "cell_type": "code",
      "metadata": {
        "colab": {
          "base_uri": "https://localhost:8080/"
        },
        "id": "zo4yNq02et9A",
        "outputId": "95212adf-e5dd-4bc2-cf9c-b909dd890b90"
      },
      "source": [
        "print(deaths_mme_poisson)\n",
        "print(deaths_mme_geometric)\n",
        "print(deaths_mme_n_binomial)\n",
        "print(deaths_mme_p_binomial)"
      ],
      "execution_count": 221,
      "outputs": [
        {
          "output_type": "stream",
          "text": [
            "22.202380952380953\n",
            "0.04504021447721179\n",
            "-5.734658143825416\n",
            "-3.8716136856887546\n"
          ],
          "name": "stdout"
        }
      ]
    },
    {
      "cell_type": "code",
      "metadata": {
        "id": "Xs3V9KzMe3SR"
      },
      "source": [
        "df = pd.read_csv('processed_deaths_az.csv')\n",
        "data = df.to_numpy()\n",
        "data = data[247:332, :]"
      ],
      "execution_count": 222,
      "outputs": []
    },
    {
      "cell_type": "code",
      "metadata": {
        "colab": {
          "base_uri": "https://localhost:8080/"
        },
        "id": "ACJ7DiMafGCQ",
        "outputId": "277d91e9-ee9b-4aeb-9385-0fa48c1e8488"
      },
      "source": [
        "data"
      ],
      "execution_count": 223,
      "outputs": [
        {
          "output_type": "execute_result",
          "data": {
            "text/plain": [
              "array([[253, '2020-10-01', 23.0],\n",
              "       [254, '2020-10-02', 20.0],\n",
              "       [255, '2020-10-03', 12.0],\n",
              "       [256, '2020-10-04', 1.0],\n",
              "       [257, '2020-10-05', 1.0],\n",
              "       [258, '2020-10-06', 6.0],\n",
              "       [259, '2020-10-07', 20.0],\n",
              "       [260, '2020-10-08', 10.0],\n",
              "       [261, '2020-10-09', 3.0],\n",
              "       [262, '2020-10-10', 13.0],\n",
              "       [263, '2020-10-11', 0.0],\n",
              "       [264, '2020-10-12', 0.0],\n",
              "       [265, '2020-10-13', 8.0],\n",
              "       [266, '2020-10-14', 5.0],\n",
              "       [267, '2020-10-15', 17.0],\n",
              "       [268, '2020-10-16', 17.0],\n",
              "       [269, '2020-10-17', 18.0],\n",
              "       [270, '2020-10-18', 3.0],\n",
              "       [271, '2020-10-19', 3.0],\n",
              "       [272, '2020-10-20', 7.0],\n",
              "       [273, '2020-10-21', 17.0],\n",
              "       [274, '2020-10-22', 5.0],\n",
              "       [275, '2020-10-23', 6.0],\n",
              "       [276, '2020-10-24', 4.0],\n",
              "       [277, '2020-10-25', 5.0],\n",
              "       [278, '2020-10-26', 1.0],\n",
              "       [279, '2020-10-27', 16.0],\n",
              "       [280, '2020-10-28', 14.0],\n",
              "       [281, '2020-10-29', 13.0],\n",
              "       [282, '2020-10-30', 16.0],\n",
              "       [283, '2020-10-31', 44.0],\n",
              "       [284, '2020-11-01', 3.0],\n",
              "       [285, '2020-11-02', 1.0],\n",
              "       [286, '2020-11-03', 38.0],\n",
              "       [287, '2020-11-04', 39.0],\n",
              "       [288, '2020-11-05', 28.0],\n",
              "       [289, '2020-11-06', 22.0],\n",
              "       [290, '2020-11-07', 38.0],\n",
              "       [291, '2020-11-08', 17.0],\n",
              "       [292, '2020-11-09', 0.0],\n",
              "       [293, '2020-11-10', 28.0],\n",
              "       [294, '2020-11-11', 37.0],\n",
              "       [295, '2020-11-12', 10.0],\n",
              "       [296, '2020-11-13', 18.0],\n",
              "       [297, '2020-11-14', 42.0],\n",
              "       [298, '2020-11-15', 2.0],\n",
              "       [299, '2020-11-16', 0.0],\n",
              "       [300, '2020-11-17', 11.0],\n",
              "       [301, '2020-11-18', 52.0],\n",
              "       [302, '2020-11-19', 19.0],\n",
              "       [303, '2020-11-20', 44.0],\n",
              "       [304, '2020-11-21', 29.0],\n",
              "       [305, '2020-11-22', 8.0],\n",
              "       [306, '2020-11-23', 0.0],\n",
              "       [307, '2020-11-24', 49.0],\n",
              "       [308, '2020-11-25', 9.0],\n",
              "       [309, '2020-11-26', 46.0],\n",
              "       [310, '2020-11-27', 20.0],\n",
              "       [311, '2020-11-28', 36.0],\n",
              "       [312, '2020-11-29', 10.0],\n",
              "       [313, '2020-11-30', 5.0],\n",
              "       [314, '2020-12-01', 48.0],\n",
              "       [315, '2020-12-02', 52.0],\n",
              "       [316, '2020-12-03', 0.0],\n",
              "       [318, '2020-12-05', 40.0],\n",
              "       [319, '2020-12-06', 25.0],\n",
              "       [320, '2020-12-07', 0.0],\n",
              "       [321, '2020-12-08', 23.0],\n",
              "       [322, '2020-12-09', 108.0],\n",
              "       [323, '2020-12-10', 73.0],\n",
              "       [324, '2020-12-11', 91.0],\n",
              "       [325, '2020-12-12', 77.0],\n",
              "       [326, '2020-12-13', 35.0],\n",
              "       [327, '2020-12-14', 1.0],\n",
              "       [328, '2020-12-15', 64.0],\n",
              "       [329, '2020-12-16', 108.0],\n",
              "       [333, '2020-12-20', 34.0],\n",
              "       [334, '2020-12-21', 0.0],\n",
              "       [335, '2020-12-22', 0.0],\n",
              "       [336, '2020-12-23', 0.0],\n",
              "       [337, '2020-12-24', 0.0],\n",
              "       [338, '2020-12-25', 0.0],\n",
              "       [339, '2020-12-26', 0.0],\n",
              "       [340, '2020-12-27', 0.0],\n",
              "       [343, '2020-12-30', 78.0]], dtype=object)"
            ]
          },
          "metadata": {
            "tags": []
          },
          "execution_count": 223
        }
      ]
    },
    {
      "cell_type": "code",
      "metadata": {
        "colab": {
          "base_uri": "https://localhost:8080/",
          "height": 282
        },
        "id": "vFJTrwPPfUfK",
        "outputId": "5b57b138-00a9-48ac-f4af-5152878164c5"
      },
      "source": [
        "deaths_az = data[:, 2]\n",
        "deaths_az = np.sort(deaths_az)\n",
        "cdf_y = np.array([])\n",
        "cdf = 0\n",
        "n = len(deaths_az)\n",
        "max_diff = 0\n",
        "poisson_cdf = np.array([])\n",
        "for i in deaths_az:\n",
        "    poisson_point = poisson.cdf(i, deaths_mme_poisson)\n",
        "    poisson_cdf = np.append(poisson_cdf, poisson_point)\n",
        "    if max_diff < np.abs(cdf - poisson_point):\n",
        "        max_diff = np.abs(cdf - poisson_point)\n",
        "    cdf += 1 / n\n",
        "    cdf_y = np.append(cdf_y, cdf)\n",
        "\n",
        "plt.step(deaths_az, cdf_y)\n",
        "plt.plot(deaths_az, poisson_cdf)\n",
        "plt.show()\n",
        "print(max_diff)"
      ],
      "execution_count": 224,
      "outputs": [
        {
          "output_type": "display_data",
          "data": {
            "image/png": "[encoded data removed]",
            "text/plain": [
              "<Figure size 432x288 with 1 Axes>"
            ]
          },
          "metadata": {
            "tags": [],
            "needs_background": "light"
          }
        },
        {
          "output_type": "stream",
          "text": [
            "0.45702829377886567\n"
          ],
          "name": "stdout"
        }
      ]
    },
    {
      "cell_type": "markdown",
      "metadata": {
        "id": "k6ZtwlO7neQr"
      },
      "source": [
        "Null hypothesis : Deaths AR(Poission distr) and Deaths AZ distribution is same.\n",
        "\n",
        "Alternate Hypothesis: Deaths AR(Poission distr) and Deaths AZ distributions are different.\n",
        "\n",
        "Because p value = 0.45 > 0.05, we reject null hypothesis."
      ]
    },
    {
      "cell_type": "code",
      "metadata": {
        "colab": {
          "base_uri": "https://localhost:8080/",
          "height": 282
        },
        "id": "lmkm6YuBfgLf",
        "outputId": "22818b48-ff91-4bf3-be2c-7b28d993c4bf"
      },
      "source": [
        "cdf_y = np.array([])\n",
        "cdf = 0\n",
        "max_diff = 0\n",
        "geom_cdf = np.array([])\n",
        "for i in deaths_az:\n",
        "    geom_point = geom.cdf(i,  deaths_mme_geometric)\n",
        "    geom_cdf = np.append(geom_cdf, geom_point)\n",
        "    if max_diff < np.abs(cdf - geom_point):\n",
        "        max_diff = np.abs(cdf - geom_point)\n",
        "    cdf += 1 / n\n",
        "    cdf_y = np.append(cdf_y, cdf)\n",
        "\n",
        "plt.step(deaths_az, cdf_y)\n",
        "plt.plot(deaths_az, geom_cdf)\n",
        "plt.show()\n",
        "print(max_diff)"
      ],
      "execution_count": 225,
      "outputs": [
        {
          "output_type": "display_data",
          "data": {
            "image/png": "[encoded data removed]",
            "text/plain": [
              "<Figure size 432x288 with 1 Axes>"
            ]
          },
          "metadata": {
            "tags": [],
            "needs_background": "light"
          }
        },
        {
          "output_type": "stream",
          "text": [
            "0.16672449140514123\n"
          ],
          "name": "stdout"
        }
      ]
    },
    {
      "cell_type": "markdown",
      "metadata": {
        "id": "4J0bLpUxnl_D"
      },
      "source": [
        "Null hypothesis : Deaths AR(Geometric distr) and Deaths AZ distribution is same.\n",
        "\n",
        "Alternate Hypothesis: Deaths AR(Geometric distr) and Deaths AZ distributions are different.\n",
        "\n",
        "Because p value = 0.16 > 0.05, we reject null hypothesis."
      ]
    },
    {
      "cell_type": "code",
      "metadata": {
        "colab": {
          "base_uri": "https://localhost:8080/",
          "height": 282
        },
        "id": "qgwhUdcjfpGq",
        "outputId": "80046a07-087f-4700-9997-08225d341d6c"
      },
      "source": [
        "cdf_y = np.array([])\n",
        "cdf = 0\n",
        "max_diff = 0\n",
        "binom_cdf = np.array([])\n",
        "for i in deaths_az:\n",
        "    binom_point = binom.cdf(i, deaths_mme_n_binomial, deaths_mme_p_binomial)\n",
        "    binom_cdf = np.append(binom_cdf, binom_point)\n",
        "    if max_diff < np.abs(cdf - binom_point):\n",
        "        max_diff = np.abs(cdf - binom_point)\n",
        "    cdf += 1 / n\n",
        "    cdf_y = np.append(cdf_y, cdf)\n",
        "\n",
        "plt.step(deaths_az, cdf_y)\n",
        "plt.plot(deaths_az, binom_cdf)\n",
        "plt.show()\n",
        "print(max_diff)"
      ],
      "execution_count": 226,
      "outputs": [
        {
          "output_type": "display_data",
          "data": {
            "image/png": "[encoded data removed]",
            "text/plain": [
              "<Figure size 432x288 with 1 Axes>"
            ]
          },
          "metadata": {
            "tags": [],
            "needs_background": "light"
          }
        },
        {
          "output_type": "stream",
          "text": [
            "1.0\n"
          ],
          "name": "stdout"
        }
      ]
    },
    {
      "cell_type": "markdown",
      "metadata": {
        "id": "xBKkK3Iynp0k"
      },
      "source": [
        "Null hypothesis : Deaths AR(Binomial distr) and Deaths AZ distribution is same.\n",
        "\n",
        "Alternate Hypothesis: Deaths AR(Binomial distr) and Deaths AZ distributions are different.\n",
        "\n",
        "Because p value = 1.0 > 0.05, we reject null hypothesis."
      ]
    },
    {
      "cell_type": "markdown",
      "metadata": {
        "id": "OGhACQj4hG45"
      },
      "source": [
        "### KS Two Population Test"
      ]
    },
    {
      "cell_type": "code",
      "metadata": {
        "id": "CLqVJ434hOjv"
      },
      "source": [
        "def plot_eCDF(input_list, label, color):\n",
        "    input_list.sort()\n",
        "    # sort input array\n",
        "    n = len(input_list)\n",
        "\n",
        "    # initialize x and y to plt CDF\n",
        "    x = [input_list[0]]\n",
        "    y = [0]\n",
        "    for point in input_list:\n",
        "        value = y[len(y) - 1] + 1 / n\n",
        "        # update x and y values\n",
        "        x = x + [point, point]\n",
        "        y = y + [y[len(y) - 1], value]\n",
        "\n",
        "    # eCDF step function plot\n",
        "    plt.plot(x, y, label=label, color=color)\n",
        "    return x[1:], y[1:]"
      ],
      "execution_count": 227,
      "outputs": []
    },
    {
      "cell_type": "code",
      "metadata": {
        "colab": {
          "base_uri": "https://localhost:8080/",
          "height": 346
        },
        "id": "s7LGPPhUiuby",
        "outputId": "c1ae5f4c-5524-47ba-f2c3-45977d1a4a24"
      },
      "source": [
        "X = cases_ar\n",
        "Y = cases_az\n",
        "\n",
        "# plot the graphs\n",
        "plt.figure('eCDF')\n",
        "x1, y1 = plot_eCDF(X, 'AS', color='blue')\n",
        "x2, y2 = plot_eCDF(Y, 'AZ', color='green')\n",
        "\n",
        "max_difference = 0\n",
        "point = 0\n",
        "point_y1 = 0\n",
        "point_y2 = 0\n",
        "i = 0\n",
        "j = 0\n",
        "while i < len(x2):\n",
        "    y2_left, y2_right = y2[i], y2[i + 1]\n",
        "    while j + 2 < len(x1) and x1[j + 2] < x2[i]:\n",
        "        j += 2\n",
        "    if x2[i] == x1[j]:\n",
        "        y1_left, y1_right = y1[j], y1[j + 1]\n",
        "    else:\n",
        "        y1_left, y1_right = y1[j + 1], y1[j + 1]\n",
        "    if max_difference < np.max([max_difference, np.absolute(y1_left - y2_left), np.absolute(y1_right - y2_right)]):\n",
        "        max_difference = np.max([max_difference, np.absolute(y1_left - y2_left), np.absolute(y1_right - y2_right)])\n",
        "        point_y1 = y1_left\n",
        "        point_y2 = y2_left\n",
        "        point = x2[i]\n",
        "    i += 2\n",
        "print('Max Difference: ', max_difference)\n",
        "print('Point with max Difference: ', point)\n",
        "\n",
        "# graph properties\n",
        "plt.plot([point, point], [point_y1, point_y2], color='red')\n",
        "plt.xlabel('x')\n",
        "plt.ylabel('Pr[X<=x]')\n",
        "plt.title('eCDF')\n",
        "plt.legend(loc=\"upper left\")\n",
        "plt.grid()\n",
        "plt.show()\n",
        "\n",
        "if max_difference > 0.05:\n",
        "    print('Reject Null Hypothesis')\n",
        "else:\n",
        "    print('Accept Null Hypothesis')"
      ],
      "execution_count": 228,
      "outputs": [
        {
          "output_type": "stream",
          "text": [
            "Max Difference:  0.378048780487803\n",
            "Point with max Difference:  2382.0\n"
          ],
          "name": "stdout"
        },
        {
          "output_type": "display_data",
          "data": {
            "image/png": "[encoded data removed]",
            "text/plain": [
              "<Figure size 432x288 with 1 Axes>"
            ]
          },
          "metadata": {
            "tags": [],
            "needs_background": "light"
          }
        },
        {
          "output_type": "stream",
          "text": [
            "Reject Null Hypothesis\n"
          ],
          "name": "stdout"
        }
      ]
    },
    {
      "cell_type": "markdown",
      "metadata": {
        "id": "pLSKwSmQnuvU"
      },
      "source": [
        "Null hypothesis : Cases AR and Cases AZ distribution is same.\n",
        "\n",
        "Alternate Hypothesis: Cases AR and Cases AZ distributions are different.\n",
        "\n",
        "Because p value = 0.37 > 0.05, we reject null hypothesis."
      ]
    },
    {
      "cell_type": "code",
      "metadata": {
        "colab": {
          "base_uri": "https://localhost:8080/",
          "height": 346
        },
        "id": "Hh4R-DIpjip9",
        "outputId": "ac2ccd5a-3775-4454-c827-2b346fc43133"
      },
      "source": [
        "X = deaths_ar\n",
        "Y = deaths_az\n",
        "\n",
        "# plot the graphs\n",
        "plt.figure('eCDF')\n",
        "x1, y1 = plot_eCDF(X, 'AS', color='blue')\n",
        "x2, y2 = plot_eCDF(Y, 'AZ', color='green')\n",
        "\n",
        "max_difference = 0\n",
        "point = 0\n",
        "point_y1 = 0\n",
        "point_y2 = 0\n",
        "i = 0\n",
        "j = 0\n",
        "while i < len(x2):\n",
        "    y2_left, y2_right = y2[i], y2[i + 1]\n",
        "    while j + 2 < len(x1) and x1[j + 2] < x2[i]:\n",
        "        j += 2\n",
        "    if x2[i] == x1[j]:\n",
        "        y1_left, y1_right = y1[j], y1[j + 1]\n",
        "    else:\n",
        "        y1_left, y1_right = y1[j + 1], y1[j + 1]\n",
        "    if max_difference < np.max([max_difference, np.absolute(y1_left - y2_left), np.absolute(y1_right - y2_right)]):\n",
        "        max_difference = np.max([max_difference, np.absolute(y1_left - y2_left), np.absolute(y1_right - y2_right)])\n",
        "        point_y1 = y1_left\n",
        "        point_y2 = y2_left\n",
        "        point = x2[i]\n",
        "    i += 2\n",
        "print('Max Difference: ', max_difference)\n",
        "print('Point with max Difference: ', point)\n",
        "\n",
        "# graph properties\n",
        "plt.plot([point, point], [point_y1, point_y2], color='red')\n",
        "plt.xlabel('x')\n",
        "plt.ylabel('Pr[X<=x]')\n",
        "plt.title('eCDF')\n",
        "plt.legend(loc=\"upper left\")\n",
        "plt.grid()\n",
        "plt.show()\n",
        "\n",
        "if max_difference > 0.05:\n",
        "    print('Reject Null Hypothesis')\n",
        "else:\n",
        "    print('Accept Null Hypothesis')"
      ],
      "execution_count": 229,
      "outputs": [
        {
          "output_type": "stream",
          "text": [
            "Max Difference:  0.37563025210084067\n",
            "Point with max Difference:  10.0\n"
          ],
          "name": "stdout"
        },
        {
          "output_type": "display_data",
          "data": {
            "image/png": "[encoded data removed]",
            "text/plain": [
              "<Figure size 432x288 with 1 Axes>"
            ]
          },
          "metadata": {
            "tags": [],
            "needs_background": "light"
          }
        },
        {
          "output_type": "stream",
          "text": [
            "Reject Null Hypothesis\n"
          ],
          "name": "stdout"
        }
      ]
    },
    {
      "cell_type": "markdown",
      "metadata": {
        "id": "zZGBs3IEn5dz"
      },
      "source": [
        "Null hypothesis : Deaths AR and Deaths AZ distribution is same.\n",
        "\n",
        "Alternate Hypothesis: Deaths AR and Deaths AZ distributions are different.\n",
        "\n",
        "Because p value = 0.37 > 0.05, we reject null hypothesis."
      ]
    },
    {
      "cell_type": "markdown",
      "metadata": {
        "id": "GYjzsPyUjtu_"
      },
      "source": [
        "### Permutation Test"
      ]
    },
    {
      "cell_type": "code",
      "metadata": {
        "colab": {
          "base_uri": "https://localhost:8080/"
        },
        "id": "ae6g8-NnjxL0",
        "outputId": "ba081bf3-fb79-47ba-e97c-510e59736878"
      },
      "source": [
        "x1 = cases_ar\n",
        "y1 = cases_az\n",
        "\n",
        "X_avg = np.mean(x1)\n",
        "Y_avg = np.mean(y1)\n",
        "t_obs = np.absolute(X_avg - Y_avg)\n",
        "\n",
        "number = 0\n",
        "combined = np.append(x1, y1, axis=0)\n",
        "for i in range(1000):\n",
        "    permutation = np.random.permutation(combined)\n",
        "    X_permutation = permutation[: len(x1)]\n",
        "    Y_permutation = permutation[len(x1):]\n",
        "    t_predict = np.absolute(np.mean(X_permutation) - np.mean(Y_permutation))\n",
        "    if t_predict > t_obs:\n",
        "        number += 1\n",
        "\n",
        "p_value = number / 1000\n",
        "print(p_value)\n",
        "if p_value > 0.05:\n",
        "    print('Reject Null Hypothesis')\n",
        "else:\n",
        "    print('Accept Null Hypothesis')"
      ],
      "execution_count": 230,
      "outputs": [
        {
          "output_type": "stream",
          "text": [
            "0.0\n",
            "Accept Null Hypothesis\n"
          ],
          "name": "stdout"
        }
      ]
    },
    {
      "cell_type": "markdown",
      "metadata": {
        "id": "8bvrUtZzoBP8"
      },
      "source": [
        "Null hypothesis : Cases AR and Cases AZ distribution is different.\n",
        "\n",
        "Alternate Hypothesis: Cases AR and Cases AZ distributions are same.\n",
        "\n",
        "Because p value = 0.00 < 0.05, we accept null hypothesis."
      ]
    },
    {
      "cell_type": "code",
      "metadata": {
        "colab": {
          "base_uri": "https://localhost:8080/"
        },
        "id": "SD-X79GOkJQQ",
        "outputId": "ce5f1930-d909-475a-f381-99e075cb400f"
      },
      "source": [
        "x2 = deaths_ar\n",
        "y2 = deaths_az\n",
        "\n",
        "X_avg = np.mean(x2)\n",
        "Y_avg = np.mean(y2)\n",
        "t_obs = np.absolute(X_avg - Y_avg)\n",
        "\n",
        "number = 0\n",
        "combined = np.append(x2, y2, axis=0)\n",
        "for i in range(1000):\n",
        "    permutation = np.random.permutation(combined)\n",
        "    X_permutation = permutation[: len(x2)]\n",
        "    Y_permutation = permutation[len(x2):]\n",
        "    t_predict = np.absolute(np.mean(X_permutation) - np.mean(Y_permutation))\n",
        "    if t_predict > t_obs:\n",
        "        number += 1\n",
        "\n",
        "p_value = number / 1000\n",
        "print(p_value)\n",
        "if p_value > 0.05:\n",
        "    print('Reject Null Hypothesis')\n",
        "else:\n",
        "    print('Accept Null Hypothesis')"
      ],
      "execution_count": 231,
      "outputs": [
        {
          "output_type": "stream",
          "text": [
            "0.881\n",
            "Reject Null Hypothesis\n"
          ],
          "name": "stdout"
        }
      ]
    },
    {
      "cell_type": "markdown",
      "metadata": {
        "id": "7FbqvDQnoJpM"
      },
      "source": [
        "Null hypothesis : Cases AR and Cases AZ distribution is different.\n",
        "\n",
        "Alternate Hypothesis: Cases AR and Cases AZ distributions are same.\n",
        "\n",
        "Because p value = 0.88 > 0.05, we reject null hypothesis."
      ]
    },
    {
      "cell_type": "markdown",
      "metadata": {
        "id": "Tbaj1GPflGwu"
      },
      "source": [
        "## Inference 4"
      ]
    },
    {
      "cell_type": "code",
      "metadata": {
        "id": "O4p6yBZ0fyRp"
      },
      "source": [
        "from scipy.stats import gamma"
      ],
      "execution_count": 232,
      "outputs": []
    },
    {
      "cell_type": "markdown",
      "metadata": {
        "id": "uEz040EkMGn0"
      },
      "source": [
        "This function plots the posterior distributions"
      ]
    },
    {
      "cell_type": "code",
      "metadata": {
        "id": "z8qFgrWJ6Jb_"
      },
      "source": [
        "def plot_posterior(alpha, beta, label):\n",
        "    x = np.linspace(gamma.ppf(0.01, alpha, scale=1/beta),\n",
        "                      gamma.ppf(0.99, alpha, scale=1/beta), 1000)\n",
        "    pdf = gamma.pdf(x, alpha, scale=1/beta)\n",
        "    print(label,\"MAP :\", x[np.argmax(pdf)])\n",
        "    plt.plot(x, pdf, label=label + \"MAP : \" + str(x[np.argmax(pdf)]))\n",
        "    plt.xlabel(\"Count\")\n",
        "    plt.ylabel(\"pdf of Gamma distribution\")\n",
        "    plt.legend()"
      ],
      "execution_count": 233,
      "outputs": []
    },
    {
      "cell_type": "markdown",
      "metadata": {
        "id": "lQ3geh0JMP15"
      },
      "source": [
        "Read the files that have the processed data."
      ]
    },
    {
      "cell_type": "code",
      "metadata": {
        "id": "f13WEbNA6PEP"
      },
      "source": [
        "cases_ar = pd.read_csv(\"/content/processed_cases_ar.csv\")\n",
        "cases_az = pd.read_csv(\"/content/processed_cases_az.csv\")"
      ],
      "execution_count": 234,
      "outputs": []
    },
    {
      "cell_type": "markdown",
      "metadata": {
        "id": "vnNojAxVMYlu"
      },
      "source": [
        "Get the stats in both states for the given range."
      ]
    },
    {
      "cell_type": "code",
      "metadata": {
        "id": "TVkZUz0-6bCI"
      },
      "source": [
        "cases_ar_range = cases_ar[(cases_ar.Date >= '2020-06-01') & (cases_ar.Date < '2020-07-28')]\n",
        "cases_az_range = cases_az[(cases_az.Date >= '2020-06-01') & (cases_az.Date < '2020-07-28')]"
      ],
      "execution_count": 235,
      "outputs": []
    },
    {
      "cell_type": "markdown",
      "metadata": {
        "id": "bB6XI2_DMjh-"
      },
      "source": [
        "Create a dataframe that has sum of cases in both states"
      ]
    },
    {
      "cell_type": "code",
      "metadata": {
        "id": "8OfuunKP6fQ3"
      },
      "source": [
        "sum_cases = pd.DataFrame(cases_ar_range[\"cases_ar\"] + cases_az_range[\"cases_az\"])\n",
        "sum_cases.columns = [\"combined_sum_cases\"]"
      ],
      "execution_count": 236,
      "outputs": []
    },
    {
      "cell_type": "code",
      "metadata": {
        "colab": {
          "base_uri": "https://localhost:8080/"
        },
        "id": "F0IdCeUD6g86",
        "outputId": "902c4db0-1d9c-4f8f-bdbd-e9010c0c8bd7"
      },
      "source": [
        "print(sum_cases)"
      ],
      "execution_count": 237,
      "outputs": [
        {
          "output_type": "stream",
          "text": [
            "     combined_sum_cases\n",
            "131               194.0\n",
            "132              1499.0\n",
            "133              1218.0\n",
            "134               893.0\n",
            "135              1807.0\n",
            "136              1570.0\n",
            "137              1761.0\n",
            "138              1100.0\n",
            "139               959.0\n",
            "140              1846.0\n",
            "141              1859.0\n",
            "142              2387.0\n",
            "143              2088.0\n",
            "144              1638.0\n",
            "145              1432.0\n",
            "146              2665.0\n",
            "147              2243.0\n",
            "148              2840.0\n",
            "149              3944.0\n",
            "150              3621.0\n",
            "151              3016.0\n",
            "152              2717.0\n",
            "153              4362.0\n",
            "154              2315.0\n",
            "155              3743.0\n",
            "156              4110.0\n",
            "157              4163.0\n",
            "158              4365.0\n",
            "159              1064.0\n",
            "160              5202.0\n",
            "161              5297.0\n",
            "162              4211.0\n",
            "163              4980.0\n",
            "164              3280.0\n",
            "165              4143.0\n",
            "166              3791.0\n",
            "167              3912.0\n",
            "168              4254.0\n",
            "169              4863.0\n",
            "170              4972.0\n",
            "171              4099.0\n",
            "172              3040.0\n",
            "173              1929.0\n",
            "174              5067.0\n",
            "175              3821.0\n",
            "176              4076.0\n",
            "177              4558.0\n",
            "178              3513.0\n",
            "179              3054.0\n",
            "180              2258.0\n",
            "181              4228.0\n",
            "182              2517.0\n",
            "183              3348.0\n",
            "184              4347.0\n",
            "185              4480.0\n",
            "186              2607.0\n",
            "187              2637.0\n"
          ],
          "name": "stdout"
        }
      ]
    },
    {
      "cell_type": "markdown",
      "metadata": {
        "id": "PO7lKbIDNHfl"
      },
      "source": [
        "Intervals refers to the weeks where we observe the data for Bayesian Inference after prior. 35 corresponds to 5th week, 42 corresponds to the 6th week, 49 corresponds to 7th week and 56 corresponds to 8th week.\n",
        "\n",
        "lambda_mme is 1/sample mean"
      ]
    },
    {
      "cell_type": "code",
      "metadata": {
        "id": "Q2qEjALd6juH"
      },
      "source": [
        "intervals = [35,42,49,56]\n",
        "\n",
        "lambda_mme = (len(sum_cases[0:28]))/sum_cases[0:28]['combined_sum_cases'].sum()"
      ],
      "execution_count": 238,
      "outputs": []
    },
    {
      "cell_type": "markdown",
      "metadata": {
        "id": "rHj6p1NPOdTX"
      },
      "source": [
        "Since the prior is an exponential distribution which is a Gamma(1,beta) distribution and the data is Poisson Distributed, the posteriors will also be Gamma distributions with alpha = 1 + sum of data points and beta = 7*iteration number + lambda_mme."
      ]
    },
    {
      "cell_type": "code",
      "metadata": {
        "colab": {
          "base_uri": "https://localhost:8080/",
          "height": 551
        },
        "id": "KxNE-kz56oBY",
        "outputId": "3214df5b-35ae-40d7-c17a-5c034d4ea43b"
      },
      "source": [
        "i=1\n",
        "for interval in intervals:\n",
        "    print(\"-------\",i,\"-------\")\n",
        "    alpha = 1 + sum_cases[28:interval]['combined_sum_cases'].sum()\n",
        "    beta = 7*i + lambda_mme\n",
        "    print(\"alpha is\",alpha)\n",
        "    print(\"beta is\",beta)\n",
        "    plot_posterior(alpha, beta, str(i)+\"th iteration\")\n",
        "    i = i+1\n",
        "plt.show()"
      ],
      "execution_count": 239,
      "outputs": [
        {
          "output_type": "stream",
          "text": [
            "------- 1 -------\n",
            "alpha is 28178.0\n",
            "beta is 7.000421972722478\n",
            "1th iteration MAP : 4025.0051282164513\n",
            "------- 2 -------\n",
            "alpha is 57109.0\n",
            "beta is 14.000421972722478\n",
            "2th iteration MAP : 4078.9976378111046\n",
            "------- 3 -------\n",
            "alpha is 83127.0\n",
            "beta is 21.000421972722478\n",
            "3th iteration MAP : 3958.3231491277907\n",
            "------- 4 -------\n",
            "alpha is 106912.0\n",
            "beta is 28.000421972722478\n",
            "4th iteration MAP : 3818.199114470787\n"
          ],
          "name": "stdout"
        },
        {
          "output_type": "display_data",
          "data": {
            "image/png": "[encoded data removed]",
            "text/plain": [
              "<Figure size 432x288 with 1 Axes>"
            ]
          },
          "metadata": {
            "tags": [],
            "needs_background": "light"
          }
        }
      ]
    },
    {
      "cell_type": "code",
      "metadata": {
        "id": "vEfiGA4O629X"
      },
      "source": [
        "deaths_ar = pd.read_csv(\"/content/processed_deaths_ar.csv\")\n",
        "deaths_az = pd.read_csv(\"/content/processed_deaths_az.csv\")"
      ],
      "execution_count": 240,
      "outputs": []
    },
    {
      "cell_type": "code",
      "metadata": {
        "id": "t9mSrtOD69kP"
      },
      "source": [
        "deaths_ar_range = deaths_ar[(deaths_ar.Date >= '2020-06-01') & (deaths_ar.Date < '2020-07-28')]\n",
        "deaths_az_range = deaths_az[(deaths_az.Date >= '2020-06-01') & (deaths_az.Date < '2020-07-28')]"
      ],
      "execution_count": 241,
      "outputs": []
    },
    {
      "cell_type": "code",
      "metadata": {
        "id": "VsA42OW77AU_"
      },
      "source": [
        "sum_deaths = pd.DataFrame(deaths_ar_range[\"deaths_ar\"] + deaths_az_range[\"deaths_az\"])\n",
        "sum_deaths.columns = [\"combined_sum_deaths\"]\n",
        "sum_deaths.dropna(inplace=True)"
      ],
      "execution_count": 242,
      "outputs": []
    },
    {
      "cell_type": "code",
      "metadata": {
        "id": "t9N3cIFf7JJP"
      },
      "source": [
        "lambda_mme = (len(sum_deaths[0:28]))/sum_deaths[0:28]['combined_sum_deaths'].sum()"
      ],
      "execution_count": 243,
      "outputs": []
    },
    {
      "cell_type": "code",
      "metadata": {
        "colab": {
          "base_uri": "https://localhost:8080/",
          "height": 551
        },
        "id": "nR5EaUy57Vmc",
        "outputId": "a3869a77-4d5f-459e-83f6-1dd1830c674c"
      },
      "source": [
        "i=1\n",
        "for interval in intervals:\n",
        "    print(\"-------\",i,\"-------\")\n",
        "    alpha = 1 + sum_deaths[28:interval]['combined_sum_deaths'].sum()\n",
        "    beta = 7*i + lambda_mme\n",
        "    print(\"alpha is\",alpha)\n",
        "    print(\"beta is\",beta)\n",
        "    plot_posterior(alpha, beta, str(i)+\"th iteration\")\n",
        "    i = i+1\n",
        "plt.show()"
      ],
      "execution_count": 244,
      "outputs": [
        {
          "output_type": "stream",
          "text": [
            "------- 1 -------\n",
            "alpha is 245.0\n",
            "beta is 7.034610630407911\n",
            "1th iteration MAP : 34.689680626291214\n",
            "------- 2 -------\n",
            "alpha is 598.0\n",
            "beta is 14.034610630407911\n",
            "2th iteration MAP : 42.53925829818935\n",
            "------- 3 -------\n",
            "alpha is 1082.0\n",
            "beta is 21.03461063040791\n",
            "3th iteration MAP : 51.38877362384676\n",
            "------- 4 -------\n",
            "alpha is 1298.0\n",
            "beta is 28.03461063040791\n",
            "4th iteration MAP : 46.265582687589735\n"
          ],
          "name": "stdout"
        },
        {
          "output_type": "display_data",
          "data": {
            "image/png": "[encoded data removed]",
            "text/plain": [
              "<Figure size 432x288 with 1 Axes>"
            ]
          },
          "metadata": {
            "tags": [],
            "needs_background": "light"
          }
        }
      ]
    },
    {
      "cell_type": "markdown",
      "metadata": {
        "id": "84teaKpCgJvy"
      },
      "source": [
        "# Question 3"
      ]
    },
    {
      "cell_type": "code",
      "metadata": {
        "id": "w6JgpfPngNW8",
        "colab": {
          "base_uri": "https://localhost:8080/"
        },
        "outputId": "3ae24831-1b67-4a83-f7cb-724769814c2a"
      },
      "source": [
        "!cp -r /content/drive/MyDrive/ProbStat_HW/US_confirmed.csv /content\n",
        "!cp -r /content/drive/MyDrive/ProbStat_HW/US_deaths.csv /content\n",
        "!cp -r /content/drive/MyDrive/ProbStat_HW/aqi_data.csv /content"
      ],
      "execution_count": 245,
      "outputs": [
        {
          "output_type": "stream",
          "text": [
            "cp: cannot stat '/content/drive/MyDrive/ProbStat_HW/US_confirmed.csv': No such file or directory\n",
            "cp: cannot stat '/content/drive/MyDrive/ProbStat_HW/US_deaths.csv': No such file or directory\n",
            "cp: cannot stat '/content/drive/MyDrive/ProbStat_HW/aqi_data.csv': No such file or directory\n"
          ],
          "name": "stdout"
        }
      ]
    },
    {
      "cell_type": "markdown",
      "metadata": {
        "id": "t_Xc67JpEIsZ"
      },
      "source": [
        "## Data Preprocessing\n",
        "\n"
      ]
    },
    {
      "cell_type": "code",
      "metadata": {
        "id": "rBlkgb8ygyiG"
      },
      "source": [
        "data = []\n",
        "\n",
        "with open('US_confirmed.csv') as csv_file:\n",
        "    csv_reader = csv.reader(csv_file, delimiter=',')\n",
        "    for row in csv_reader:\n",
        "        data.append(row)\n",
        "\n",
        "headers = data[0]\n",
        "data = data[1:]\n",
        "\n",
        "for row in data:\n",
        "    if row[0] == 'MA':\n",
        "        data = row\n",
        "        break\n",
        "\n",
        "headers = headers[1:]\n",
        "data = data[1:]\n",
        "\n",
        "case_data = [0]\n",
        "for i in range(1, len(data)):\n",
        "    if (int(data[i])  - int(data[i-1])) < 0:\n",
        "        case_data.append(0)\n",
        "    else:\n",
        "        case_data.append(int(data[i])  - int(data[i-1]))\n",
        "\n",
        "data = {'date': headers, 'cases': case_data}\n",
        "df = pd.DataFrame(data=data)\n",
        "# print(df)\n",
        "\n",
        "df.to_csv('processed_cases_ma.csv')\n"
      ],
      "execution_count": 246,
      "outputs": []
    },
    {
      "cell_type": "code",
      "metadata": {
        "id": "6K1zfyc_Eh61"
      },
      "source": [
        "data = []\n",
        "\n",
        "with open('US_deaths.csv') as csv_file:\n",
        "    csv_reader = csv.reader(csv_file, delimiter=',')\n",
        "    for row in csv_reader:\n",
        "        data.append(row)\n",
        "\n",
        "headers = data[0]\n",
        "data = data[1:]\n",
        "\n",
        "for row in data:\n",
        "    if row[0] == 'MA':\n",
        "        data = row\n",
        "        break\n",
        "\n",
        "headers = headers[1:]\n",
        "data = data[1:]\n",
        "\n",
        "case_data = [0]\n",
        "for i in range(1, len(data)):\n",
        "    if (int(data[i])  - int(data[i-1])) < 0:\n",
        "        case_data.append(0)\n",
        "    else:\n",
        "        case_data.append(int(data[i])  - int(data[i-1]))\n",
        "\n",
        "data = {'date': headers, 'deaths': case_data}\n",
        "df = pd.DataFrame(data=data)\n",
        "# print(df)\n",
        "\n",
        "df.to_csv('processed_deaths_ma.csv')"
      ],
      "execution_count": 247,
      "outputs": []
    },
    {
      "cell_type": "markdown",
      "metadata": {
        "id": "1kNFMMVDoY0U"
      },
      "source": [
        "## Inference 1 : Chi square test"
      ]
    },
    {
      "cell_type": "markdown",
      "metadata": {
        "id": "08oUVxquY0jy"
      },
      "source": [
        "Chi Square Test: Checking independence between Air Quality Index(AQI) and Covid Cases/deaths in Greater Boston Area.\n",
        "The null hypothesis is: AQI and covid cases/deaths are independent in Greater Boston Area. \n"
      ]
    },
    {
      "cell_type": "code",
      "metadata": {
        "id": "lvcheq97EpPf"
      },
      "source": [
        "cases_ma = []\n",
        "aqi = []\n",
        "deaths_ma = []\n",
        "\n",
        "with open('processed_cases_ma.csv') as csv_file:\n",
        "    csv_reader = csv.reader(csv_file, delimiter=',')\n",
        "    for row in csv_reader:\n",
        "        cases_ma.append(row)\n",
        "\n",
        "with open('processed_deaths_ma.csv') as csv_file:\n",
        "    csv_reader = csv.reader(csv_file, delimiter=',')\n",
        "    for row in csv_reader:\n",
        "        deaths_ma.append(row)\n",
        "\n",
        "with open('aqidaily2020.csv') as csv_file:\n",
        "    csv_reader = csv.reader(csv_file, delimiter=',')\n",
        "    for row in csv_reader:\n",
        "        aqi.append(row)\n",
        "\n",
        "aqi = aqi[22:]\n",
        "cases_ma = cases_ma[1:346]\n",
        "deaths_ma = deaths_ma[1:346]\n",
        "data = []\n",
        "for row in aqi:\n",
        "    data.append(int(row[1]))\n",
        "aqi = np.array(data)\n",
        "\n",
        "data = []\n",
        "for row in cases_ma:\n",
        "    data.append(int(row[2]))\n",
        "cases_ma = np.array(data)\n",
        "\n",
        "data = []\n",
        "for row in deaths_ma:\n",
        "    data.append(int(row[2]))\n",
        "deaths_ma = np.array(data)\n",
        "\n"
      ],
      "execution_count": 248,
      "outputs": []
    },
    {
      "cell_type": "code",
      "metadata": {
        "colab": {
          "base_uri": "https://localhost:8080/"
        },
        "id": "Q9h0x_ngFB8a",
        "outputId": "fbc487e3-21d2-4803-c7d4-be7705a54d89"
      },
      "source": [
        "np.sort(aqi)\n",
        "combined = np.append(np.atleast_2d(cases_ma).T, np.atleast_2d(aqi).T, axis=1)\n",
        "mean_cases_40 = np.mean(combined[combined[:,1]<40][:, 0])\n",
        "test = combined[combined[:,1]>40]\n",
        "test = test[test[:,1]<60]\n",
        "mean_cases_60 = np.mean(test[:,0])\n",
        "\n",
        "test = combined[combined[:,1]>60]\n",
        "test = test[test[:,1]<80]\n",
        "mean_cases_80 = np.mean(test[:,0])\n",
        "\n",
        "test = combined[combined[:,1]>60]\n",
        "test = test[test[:,1]<80]\n",
        "mean_cases_80 = np.mean(test[:,0])\n",
        "\n",
        "test = combined[combined[:,1]>80]\n",
        "test = test[test[:,1]<100]\n",
        "mean_cases_100 = np.mean(test[:,0])\n",
        "\n",
        "list_cases = [mean_cases_40, mean_cases_60, mean_cases_80, mean_cases_100]\n",
        "\n",
        "list_cases"
      ],
      "execution_count": 249,
      "outputs": [
        {
          "output_type": "execute_result",
          "data": {
            "text/plain": [
              "[1145.6328125, 897.9171597633136, 1317.5454545454545, 321.0]"
            ]
          },
          "metadata": {
            "tags": []
          },
          "execution_count": 249
        }
      ]
    },
    {
      "cell_type": "code",
      "metadata": {
        "colab": {
          "base_uri": "https://localhost:8080/"
        },
        "id": "1sGzq6rgI3SC",
        "outputId": "650a702a-cc27-41c2-85c3-5f3d4a4587ad"
      },
      "source": [
        "combined = np.append(np.atleast_2d(deaths_ma).T, np.atleast_2d(aqi).T, axis=1)\n",
        "mean_deaths_40 = np.mean(combined[combined[:,1]<40][:, 0])\n",
        "test = combined[combined[:,1]>40]\n",
        "test = test[test[:,1]<60]\n",
        "mean_deaths_60 = np.mean(test[:,0])\n",
        "\n",
        "test = combined[combined[:,1]>60]\n",
        "test = test[test[:,1]<80]\n",
        "mean_deaths_80 = np.mean(test[:,0])\n",
        "\n",
        "test = combined[combined[:,1]>60]\n",
        "test = test[test[:,1]<80]\n",
        "mean_deaths_80 = np.mean(test[:,0])\n",
        "\n",
        "test = combined[combined[:,1]>80]\n",
        "test = test[test[:,1]<100]\n",
        "mean_deaths_100 = np.mean(test[:,0])\n",
        "\n",
        "list_deaths = [mean_deaths_40, mean_deaths_60, mean_deaths_80, mean_deaths_100]\n",
        "\n",
        "list_deaths"
      ],
      "execution_count": 250,
      "outputs": [
        {
          "output_type": "execute_result",
          "data": {
            "text/plain": [
              "[30.78125, 44.094674556213015, 25.09090909090909, 9.333333333333334]"
            ]
          },
          "metadata": {
            "tags": []
          },
          "execution_count": 250
        }
      ]
    },
    {
      "cell_type": "code",
      "metadata": {
        "colab": {
          "base_uri": "https://localhost:8080/"
        },
        "id": "VrxnZ4QaZMNn",
        "outputId": "36037983-f7ec-4742-bd2d-e029450afaff"
      },
      "source": [
        "total_cases = np.sum(list_cases)\n",
        "total_deaths = np.sum(list_deaths)\n",
        "total = total_cases + total_deaths\n",
        "total_aqi_range = []\n",
        "\n",
        "for i in range(0, len(list_cases)):\n",
        "    total_aqi_range.append(list_cases[i] + list_deaths[i])\n",
        "\n",
        "q_obs = 0\n",
        "\n",
        "for i in range(0, len(list_cases)):\n",
        "    expected = (total_aqi_range[i] * total_cases)/total\n",
        "    q_obs += ( ((expected - list_cases[i])*(expected - list_cases[i]))/expected )\n",
        "\n",
        "for i in range(0, len(list_deaths)):\n",
        "    expected = (total_aqi_range[i] * total_deaths)/total\n",
        "    q_obs += ( ((expected - list_deaths[i])*(expected - list_deaths[i]))/expected )\n",
        "\n",
        "df = 3\n",
        "print('Q observer is: ', q_obs, ' Degrees of freedom:',df)\n",
        "print('p-value from table lookup 0.001076  < 0.05')\n",
        "print('We are rejecting null hypothesis, so AQI(air quality index) and covid cases/deaths are not independent in Greater Boston Area.')"
      ],
      "execution_count": 251,
      "outputs": [
        {
          "output_type": "stream",
          "text": [
            "Q observer is:  16.111272972266054  Degrees of freedom: 3\n",
            "p-value from table lookup 0.001076  < 0.05\n",
            "We are rejecting null hypothesis, so AQI(air quality index) and covid cases/deaths are not independent in Greater Boston Area.\n"
          ],
          "name": "stdout"
        }
      ]
    },
    {
      "cell_type": "markdown",
      "metadata": {
        "id": "UKD0WEZ0bY4M"
      },
      "source": [
        "We are rejecting null hypothesis, so AQI(air quality index) and covid cases/deaths are not independent in Greater Boston Area.\n"
      ]
    },
    {
      "cell_type": "markdown",
      "metadata": {
        "id": "iP18DSNQoi9M"
      },
      "source": [
        "## Inference 2: Pearson correlation test"
      ]
    },
    {
      "cell_type": "markdown",
      "metadata": {
        "id": "6nLUT1OYZSFS"
      },
      "source": [
        "Pearson Correlation Test:\n",
        "To check correlation between Air Quality Index and Covid Cases/Deaths at Greater Boston Area."
      ]
    },
    {
      "cell_type": "code",
      "metadata": {
        "colab": {
          "base_uri": "https://localhost:8080/"
        },
        "id": "8XCcfZ2lZWLZ",
        "outputId": "9686c884-1761-4b3f-afb6-fd5dd98b66fc"
      },
      "source": [
        "cases_ma = []\n",
        "aqi = []\n",
        "deaths_ma = []\n",
        "\n",
        "with open('processed_cases_ma.csv') as csv_file:\n",
        "    csv_reader = csv.reader(csv_file, delimiter=',')\n",
        "    for row in csv_reader:\n",
        "        cases_ma.append(row)\n",
        "\n",
        "with open('processed_deaths_ma.csv') as csv_file:\n",
        "    csv_reader = csv.reader(csv_file, delimiter=',')\n",
        "    for row in csv_reader:\n",
        "        deaths_ma.append(row)\n",
        "\n",
        "with open('aqidaily2020.csv') as csv_file:\n",
        "    csv_reader = csv.reader(csv_file, delimiter=',')\n",
        "    for row in csv_reader:\n",
        "        aqi.append(row)\n",
        "\n",
        "aqi = aqi[22:]\n",
        "cases_ma = cases_ma[1:346]\n",
        "deaths_ma = deaths_ma[1:346]\n",
        "\n",
        "data = []\n",
        "for row in aqi:\n",
        "    data.append(int(row[1]))\n",
        "aqi = data\n",
        "\n",
        "data = []\n",
        "for row in cases_ma:\n",
        "    data.append(int(row[2]))\n",
        "cases_ma = data\n",
        "\n",
        "data = []\n",
        "for row in deaths_ma:\n",
        "    data.append(int(row[2]))\n",
        "deaths_ma = data\n",
        "\n",
        "print(aqi)\n",
        "\n",
        "\n",
        "m1 = np.mean(aqi)\n",
        "m2 = np.mean(cases_ma)\n",
        "v1 = np.var(aqi)\n",
        "v2 = np.var(cases_ma)\n",
        "sum = 0\n",
        "n = len(aqi)\n",
        "for i in range(0, n):\n",
        "    sum += ((aqi[i] - m1)*(cases_ma[i] - m2))\n",
        "numerator = sum/n\n",
        "denominator = np.sqrt(v1*v2)\n",
        "pc = numerator/denominator\n",
        "print(\"Pearson correlation for Cases and AQI\",pc)\n",
        "\n",
        "m1 = np.mean(aqi)\n",
        "m2 = np.mean(deaths_ma)\n",
        "v1 = np.var(aqi)\n",
        "v2 = np.var(deaths_ma)\n",
        "sum = 0\n",
        "n = len(aqi)\n",
        "for i in range(0, n):\n",
        "    sum += ((aqi[i] - m1)*(deaths_ma[i] - m2))\n",
        "numerator = sum/n\n",
        "denominator = np.sqrt(v1*v2)\n",
        "pc = numerator/denominator\n",
        "print(\"Pearson correlation for Deaths and AQI\", pc)\n"
      ],
      "execution_count": 252,
      "outputs": [
        {
          "output_type": "stream",
          "text": [
            "[58, 67, 63, 39, 31, 23, 38, 40, 38, 46, 51, 57, 46, 54, 41, 33, 35, 36, 36, 45, 54, 38, 45, 36, 36, 42, 45, 38, 40, 40, 39, 46, 56, 57, 58, 53, 46, 40, 37, 40, 52, 54, 40, 42, 48, 42, 44, 49, 55, 39, 37, 39, 40, 44, 41, 39, 43, 41, 45, 41, 41, 40, 40, 41, 44, 43, 49, 44, 44, 44, 40, 37, 39, 38, 39, 42, 45, 43, 51, 36, 40, 48, 46, 45, 51, 41, 44, 44, 54, 41, 53, 44, 47, 46, 51, 44, 41, 40, 38, 51, 47, 41, 55, 44, 33, 38, 44, 44, 40, 44, 45, 39, 42, 49, 58, 40, 42, 41, 38, 42, 51, 51, 42, 41, 46, 42, 44, 26, 28, 40, 31, 32, 42, 58, 64, 53, 46, 34, 32, 43, 53, 44, 44, 37, 44, 39, 37, 74, 45, 45, 61, 51, 42, 67, 51, 47, 67, 50, 47, 39, 35, 43, 48, 40, 79, 68, 32, 38, 51, 61, 33, 40, 38, 44, 41, 22, 36, 30, 45, 90, 51, 46, 44, 44, 43, 53, 45, 80, 48, 48, 71, 45, 50, 42, 49, 51, 54, 44, 44, 46, 51, 90, 97, 67, 46, 53, 49, 40, 36, 39, 42, 38, 74, 50, 47, 61, 46, 34, 37, 39, 39, 28, 37, 31, 27, 36, 40, 35, 49, 38, 46, 46, 31, 25, 32, 37, 28, 32, 34, 44, 30, 30, 30, 33, 35, 46, 57, 61, 67, 33, 30, 35, 32, 46, 54, 42, 34, 37, 43, 43, 29, 34, 46, 31, 30, 27, 36, 47, 31, 41, 53, 48, 38, 26, 30, 32, 38, 32, 34, 26, 30, 30, 34, 60, 50, 31, 29, 38, 41, 45, 59, 73, 80, 59, 27, 26, 28, 35, 36, 31, 52, 30, 36, 45, 49, 28, 30, 29, 51, 45, 38, 36, 38, 64, 48, 27, 34, 41, 32, 29, 30, 32, 43, 45, 57, 64, 45, 33, 30, 31, 61, 40, 57, 78, 76, 53, 39, 47, 50, 33, 50, 52, 31, 33, 33]\n",
            "Pearson correlation for Cases and AQI -0.04631518185689359\n",
            "Pearson correlation for Deaths and AQI -0.025444986580568325\n"
          ],
          "name": "stdout"
        }
      ]
    },
    {
      "cell_type": "markdown",
      "metadata": {
        "id": "aA-VjRqQZie1"
      },
      "source": [
        "Conclusion for the above test: Negative values indicate negative correlation between AQI and Cases/Deaths. So as Covid Cases/Deaths increase, the AQI decreases."
      ]
    },
    {
      "cell_type": "markdown",
      "metadata": {
        "id": "semYmHOsoqr-"
      },
      "source": [
        "## Inference 3: KS Two population test"
      ]
    },
    {
      "cell_type": "code",
      "metadata": {
        "colab": {
          "base_uri": "https://localhost:8080/",
          "height": 0
        },
        "id": "abznumxXhJae",
        "outputId": "672a800d-9394-4a38-8211-da8510021b96"
      },
      "source": [
        "X = cases_ma\n",
        "Y = aqi\n",
        "# plot the graphs\n",
        "plt.figure('eCDF')\n",
        "x1, y1 = plot_eCDF(X, 'AS', color='blue')\n",
        "x2, y2 = plot_eCDF(Y, 'AZ', color='green')\n",
        "\n",
        "max_difference = 0\n",
        "point = 0\n",
        "point_y1 = 0\n",
        "point_y2 = 0\n",
        "i = 0\n",
        "j = 0\n",
        "while i < len(x2):\n",
        "    y2_left, y2_right = y2[i], y2[i + 1]\n",
        "    while j + 2 < len(x1) and x1[j + 2] < x2[i]:\n",
        "        j += 2\n",
        "    if x2[i] == x1[j]:\n",
        "        y1_left, y1_right = y1[j], y1[j + 1]\n",
        "    else:\n",
        "        y1_left, y1_right = y1[j + 1], y1[j + 1]\n",
        "    if max_difference < np.max([max_difference, np.absolute(y1_left - y2_left), np.absolute(y1_right - y2_right)]):\n",
        "        max_difference = np.max([max_difference, np.absolute(y1_left - y2_left), np.absolute(y1_right - y2_right)])\n",
        "        point_y1 = y1_left\n",
        "        point_y2 = y2_left\n",
        "        point = x2[i]\n",
        "    i += 2\n",
        "print('Max Difference: ', max_difference)\n",
        "print('Point with max Difference: ', point)\n",
        "\n",
        "# graph properties\n",
        "plt.plot([point, point], [point_y1, point_y2], color='red')\n",
        "plt.xlabel('x')\n",
        "plt.ylabel('Pr[X<=x]')\n",
        "plt.title('eCDF')\n",
        "plt.legend(loc=\"upper left\")\n",
        "plt.grid()\n",
        "plt.show()\n",
        "\n",
        "if max_difference > 0.05:\n",
        "    print('Reject Null Hypothesis')\n",
        "else:\n",
        "    print('Accept Null Hypothesis')"
      ],
      "execution_count": 253,
      "outputs": [
        {
          "output_type": "stream",
          "text": [
            "Max Difference:  0.7739130434782517\n",
            "Point with max Difference:  97\n"
          ],
          "name": "stdout"
        },
        {
          "output_type": "display_data",
          "data": {
            "image/png": "[encoded data removed]",
            "text/plain": [
              "<Figure size 432x288 with 1 Axes>"
            ]
          },
          "metadata": {
            "tags": [],
            "needs_background": "light"
          }
        },
        {
          "output_type": "stream",
          "text": [
            "Reject Null Hypothesis\n"
          ],
          "name": "stdout"
        }
      ]
    },
    {
      "cell_type": "markdown",
      "metadata": {
        "id": "Y3bUb24IoveE"
      },
      "source": [
        "Null hyp is both distributions are same.\n",
        "\n",
        "alternate hyp: both distributions are different.\n",
        "\n",
        "p value is 0.77 > 0.05. So we reject null hypothesis"
      ]
    },
    {
      "cell_type": "code",
      "metadata": {
        "colab": {
          "base_uri": "https://localhost:8080/",
          "height": 0
        },
        "id": "6iLRAI4JiJrK",
        "outputId": "26ca7d92-43fa-430a-c818-9dbe9cc4fbb5"
      },
      "source": [
        "X = deaths_ma\n",
        "Y = aqi\n",
        "# plot the graphs\n",
        "plt.figure('eCDF')\n",
        "x1, y1 = plot_eCDF(X, 'AS', color='blue')\n",
        "x2, y2 = plot_eCDF(Y, 'AZ', color='green')\n",
        "\n",
        "max_difference = 0\n",
        "point = 0\n",
        "point_y1 = 0\n",
        "point_y2 = 0\n",
        "i = 0\n",
        "j = 0\n",
        "while i < len(x2):\n",
        "    y2_left, y2_right = y2[i], y2[i + 1]\n",
        "    while j + 2 < len(x1) and x1[j + 2] < x2[i]:\n",
        "        j += 2\n",
        "    if x2[i] == x1[j]:\n",
        "        y1_left, y1_right = y1[j], y1[j + 1]\n",
        "    else:\n",
        "        y1_left, y1_right = y1[j + 1], y1[j + 1]\n",
        "    if max_difference < np.max([max_difference, np.absolute(y1_left - y2_left), np.absolute(y1_right - y2_right)]):\n",
        "        max_difference = np.max([max_difference, np.absolute(y1_left - y2_left), np.absolute(y1_right - y2_right)])\n",
        "        point_y1 = y1_left\n",
        "        point_y2 = y2_left\n",
        "        point = x2[i]\n",
        "    i += 2\n",
        "print('Max Difference: ', max_difference)\n",
        "print('Point with max Difference: ', point)\n",
        "\n",
        "# graph properties\n",
        "plt.plot([point, point], [point_y1, point_y2], color='red')\n",
        "plt.xlabel('x')\n",
        "plt.ylabel('Pr[X<=x]')\n",
        "plt.title('eCDF')\n",
        "plt.legend(loc=\"upper left\")\n",
        "plt.grid()\n",
        "plt.show()\n",
        "\n",
        "if max_difference > 0.05:\n",
        "    print('Reject Null Hypothesis')\n",
        "else:\n",
        "    print('Accept Null Hypothesis')"
      ],
      "execution_count": 254,
      "outputs": [
        {
          "output_type": "stream",
          "text": [
            "Max Difference:  0.5999999999999975\n",
            "Point with max Difference:  29\n"
          ],
          "name": "stdout"
        },
        {
          "output_type": "display_data",
          "data": {
            "image/png": "[encoded data removed]",
            "text/plain": [
              "<Figure size 432x288 with 1 Axes>"
            ]
          },
          "metadata": {
            "tags": [],
            "needs_background": "light"
          }
        },
        {
          "output_type": "stream",
          "text": [
            "Reject Null Hypothesis\n"
          ],
          "name": "stdout"
        }
      ]
    },
    {
      "cell_type": "markdown",
      "metadata": {
        "id": "lIwL9gKjo8Wi"
      },
      "source": [
        "Null hyp is both distributions are same.\n",
        "\n",
        "alternate hyp: both distributions are different.\n",
        "\n",
        "p value is 0.599 > 0.05. So we reject null hypothesis"
      ]
    },
    {
      "cell_type": "code",
      "metadata": {
        "id": "iVlcNLf1o99o"
      },
      "source": [
        ""
      ],
      "execution_count": 254,
      "outputs": []
    }
  ]
}